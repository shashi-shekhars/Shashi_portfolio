{
    {
      "cell_type": "markdown",
      "source": [
        "# 1. Business Problem\n",
        "# 1.1 Description\n",
        "Social media platforms like Quora, Reddit etc are places to gain and share knowledge—about anything. These platforms connect users across the globe to ask questions and connect with people who contribute unique insights and quality answers. This empowers people to learn from each other and to better understand the world.\n",
        "\n",
        "Over 100 million people visit Quora every month, so it's no surprise that many people ask similarly worded questions. Multiple questions with the same intent can cause seekers to spend more time finding the best answer to their question, and make writers feel they need to answer multiple versions of the same question. Quora values canonical questions because they provide a better experience to active seekers and writers, and offer more value to both of these groups in the long term."
      ],
      "metadata": {
        "id": "LTLVxWMgLh8g"
      }
    },
    {
      "cell_type": "markdown",
      "source": [
        "# Problem Statement"
      ],
      "metadata": {
        "id": "FAOcI3dkLsYI"
      }
    },
    {
      "cell_type": "markdown",
      "source": [
        "\n",
        "\n",
        "*   Identify which questions asked on Quora are duplicates of questions that have already been asked.\n",
        "*   This could be useful to instantly provide answers to questions that have already been answered.\n",
        "*   We are tasked with predicting whether a pair of questions are duplicates or not.\n",
        "\n"
      ],
      "metadata": {
        "id": "lwwSwawbLxHe"
      }
    },
    {
      "cell_type": "markdown",
      "source": [
        "# 1.2 Business Objectives and Constraints"
      ],
      "metadata": {
        "id": "dmXELpOFL8ex"
      }
    },
    {
      "cell_type": "markdown",
      "source": [
        "\n",
        "\n",
        "1.   The cost of a mis-classification can be very high.\n",
        "2.   We would want a probability of a pair of questions to be duplicates so that we can choose any threshold of choice.\n",
        "3.   No strict latency concerns.\n",
        "4.   Interpretability is partially important.\n",
        "\n"
      ],
      "metadata": {
        "id": "mwmCiQHuMC02"
      }
    },
    {
      "cell_type": "markdown",
      "source": [
        "# Reading Data"
      ],
      "metadata": {
        "id": "GBCrv5C8MTpe"
      }
    },
    {
      "cell_type": "code",
      "execution_count": 4,
      "metadata": {
        "id": "mfVHr9-_MLN1"
      },
      "outputs": [],
      "source": [
        "import numpy as np\n",
        "import pandas as pd\n",
        "import matplotlib.pyplot as plt\n",
        "import seaborn as sns\n",
        "sns.set()\n",
        "\n",
        "import warnings \n",
        "warnings.filterwarnings('ignore')\n",
        "\n",
        "from sklearn.feature_extraction.text import CountVectorizer\n",
        "from sklearn.model_selection import train_test_split\n",
        "from sklearn.ensemble import RandomForestClassifier\n",
        "from sklearn.metrics import accuracy_score\n",
        "from xgboost import XGBClassifier"
      ]
    },
    {
      "cell_type": "code",
      "execution_count": 10,
      "metadata": {
        "id": "BK5VveoYSx1p"
      },
      "outputs": [],
      "source": [
        "# Creation of new dataframe to store the dataset\n",
        "df = pd.read_csv('train/train.csv')"
      ]
    },
    {
      "cell_type": "code",
      "execution_count": null,
      "metadata": {
        "colab": {
          "base_uri": "https://localhost:8080/"
        },
        "id": "Whe1BU_KS4UK",
        "outputId": "7f41064f-c1c1-4109-997a-f3fad549d163"
      },
      "outputs": [
        {
          "output_type": "execute_result",
          "data": {
            "text/plain": [
              "(404290, 6)"
            ]
          },
          "metadata": {},
          "execution_count": 12
        }
      ],
      "source": [
        "df.shape"
      ]
    },
    {
      "cell_type": "code",
      "execution_count": null,
      "metadata": {
        "colab": {
          "base_uri": "https://localhost:8080/",
          "height": 206
        },
        "id": "ntrag4Y3Xh1i",
        "outputId": "2a54b4a2-c8f1-4bcf-a117-21fe403ba07e"
      },
      "outputs": [
        {
          "output_type": "execute_result",
          "data": {
            "text/plain": [
              "   id  qid1  qid2                                          question1  \\\n",
              "0   0     1     2  What is the step by step guide to invest in sh...   \n",
              "1   1     3     4  What is the story of Kohinoor (Koh-i-Noor) Dia...   \n",
              "2   2     5     6  How can I increase the speed of my internet co...   \n",
              "3   3     7     8  Why am I mentally very lonely? How can I solve...   \n",
              "4   4     9    10  Which one dissolve in water quikly sugar, salt...   \n",
              "\n",
              "                                           question2  is_duplicate  \n",
              "0  What is the step by step guide to invest in sh...             0  \n",
              "1  What would happen if the Indian government sto...             0  \n",
              "2  How can Internet speed be increased by hacking...             0  \n",
              "3  Find the remainder when [math]23^{24}[/math] i...             0  \n",
              "4            Which fish would survive in salt water?             0  "
            ],
            "text/html": [
              "\n",
              "  <div id=\"df-7b6ef262-522b-4af1-a50e-7f391341d213\">\n",
              "    <div class=\"colab-df-container\">\n",
              "      <div>\n",
              "<style scoped>\n",
              "    .dataframe tbody tr th:only-of-type {\n",
              "        vertical-align: middle;\n",
              "    }\n",
              "\n",
              "    .dataframe tbody tr th {\n",
              "        vertical-align: top;\n",
              "    }\n",
              "\n",
              "    .dataframe thead th {\n",
              "        text-align: right;\n",
              "    }\n",
              "</style>\n",
              "<table border=\"1\" class=\"dataframe\">\n",
              "  <thead>\n",
              "    <tr style=\"text-align: right;\">\n",
              "      <th></th>\n",
              "      <th>id</th>\n",
              "      <th>qid1</th>\n",
              "      <th>qid2</th>\n",
              "      <th>question1</th>\n",
              "      <th>question2</th>\n",
              "      <th>is_duplicate</th>\n",
              "    </tr>\n",
              "  </thead>\n",
              "  <tbody>\n",
              "    <tr>\n",
              "      <th>0</th>\n",
              "      <td>0</td>\n",
              "      <td>1</td>\n",
              "      <td>2</td>\n",
              "      <td>What is the step by step guide to invest in sh...</td>\n",
              "      <td>What is the step by step guide to invest in sh...</td>\n",
              "      <td>0</td>\n",
              "    </tr>\n",
              "    <tr>\n",
              "      <th>1</th>\n",
              "      <td>1</td>\n",
              "      <td>3</td>\n",
              "      <td>4</td>\n",
              "      <td>What is the story of Kohinoor (Koh-i-Noor) Dia...</td>\n",
              "      <td>What would happen if the Indian government sto...</td>\n",
              "      <td>0</td>\n",
              "    </tr>\n",
              "    <tr>\n",
              "      <th>2</th>\n",
              "      <td>2</td>\n",
              "      <td>5</td>\n",
              "      <td>6</td>\n",
              "      <td>How can I increase the speed of my internet co...</td>\n",
              "      <td>How can Internet speed be increased by hacking...</td>\n",
              "      <td>0</td>\n",
              "    </tr>\n",
              "    <tr>\n",
              "      <th>3</th>\n",
              "      <td>3</td>\n",
              "      <td>7</td>\n",
              "      <td>8</td>\n",
              "      <td>Why am I mentally very lonely? How can I solve...</td>\n",
              "      <td>Find the remainder when [math]23^{24}[/math] i...</td>\n",
              "      <td>0</td>\n",
              "    </tr>\n",
              "    <tr>\n",
              "      <th>4</th>\n",
              "      <td>4</td>\n",
              "      <td>9</td>\n",
              "      <td>10</td>\n",
              "      <td>Which one dissolve in water quikly sugar, salt...</td>\n",
              "      <td>Which fish would survive in salt water?</td>\n",
              "      <td>0</td>\n",
              "    </tr>\n",
              "  </tbody>\n",
              "</table>\n",
              "</div>\n",
              "      <button class=\"colab-df-convert\" onclick=\"convertToInteractive('df-7b6ef262-522b-4af1-a50e-7f391341d213')\"\n",
              "              title=\"Convert this dataframe to an interactive table.\"\n",
              "              style=\"display:none;\">\n",
              "        \n",
              "  <svg xmlns=\"http://www.w3.org/2000/svg\" height=\"24px\"viewBox=\"0 0 24 24\"\n",
              "       width=\"24px\">\n",
              "    <path d=\"M0 0h24v24H0V0z\" fill=\"none\"/>\n",
              "    <path d=\"M18.56 5.44l.94 2.06.94-2.06 2.06-.94-2.06-.94-.94-2.06-.94 2.06-2.06.94zm-11 1L8.5 8.5l.94-2.06 2.06-.94-2.06-.94L8.5 2.5l-.94 2.06-2.06.94zm10 10l.94 2.06.94-2.06 2.06-.94-2.06-.94-.94-2.06-.94 2.06-2.06.94z\"/><path d=\"M17.41 7.96l-1.37-1.37c-.4-.4-.92-.59-1.43-.59-.52 0-1.04.2-1.43.59L10.3 9.45l-7.72 7.72c-.78.78-.78 2.05 0 2.83L4 21.41c.39.39.9.59 1.41.59.51 0 1.02-.2 1.41-.59l7.78-7.78 2.81-2.81c.8-.78.8-2.07 0-2.86zM5.41 20L4 18.59l7.72-7.72 1.47 1.35L5.41 20z\"/>\n",
              "  </svg>\n",
              "      </button>\n",
              "      \n",
              "  <style>\n",
              "    .colab-df-container {\n",
              "      display:flex;\n",
              "      flex-wrap:wrap;\n",
              "      gap: 12px;\n",
              "    }\n",
              "\n",
              "    .colab-df-convert {\n",
              "      background-color: #E8F0FE;\n",
              "      border: none;\n",
              "      border-radius: 50%;\n",
              "      cursor: pointer;\n",
              "      display: none;\n",
              "      fill: #1967D2;\n",
              "      height: 32px;\n",
              "      padding: 0 0 0 0;\n",
              "      width: 32px;\n",
              "    }\n",
              "\n",
              "    .colab-df-convert:hover {\n",
              "      background-color: #E2EBFA;\n",
              "      box-shadow: 0px 1px 2px rgba(60, 64, 67, 0.3), 0px 1px 3px 1px rgba(60, 64, 67, 0.15);\n",
              "      fill: #174EA6;\n",
              "    }\n",
              "\n",
              "    [theme=dark] .colab-df-convert {\n",
              "      background-color: #3B4455;\n",
              "      fill: #D2E3FC;\n",
              "    }\n",
              "\n",
              "    [theme=dark] .colab-df-convert:hover {\n",
              "      background-color: #434B5C;\n",
              "      box-shadow: 0px 1px 3px 1px rgba(0, 0, 0, 0.15);\n",
              "      filter: drop-shadow(0px 1px 2px rgba(0, 0, 0, 0.3));\n",
              "      fill: #FFFFFF;\n",
              "    }\n",
              "  </style>\n",
              "\n",
              "      <script>\n",
              "        const buttonEl =\n",
              "          document.querySelector('#df-7b6ef262-522b-4af1-a50e-7f391341d213 button.colab-df-convert');\n",
              "        buttonEl.style.display =\n",
              "          google.colab.kernel.accessAllowed ? 'block' : 'none';\n",
              "\n",
              "        async function convertToInteractive(key) {\n",
              "          const element = document.querySelector('#df-7b6ef262-522b-4af1-a50e-7f391341d213');\n",
              "          const dataTable =\n",
              "            await google.colab.kernel.invokeFunction('convertToInteractive',\n",
              "                                                     [key], {});\n",
              "          if (!dataTable) return;\n",
              "\n",
              "          const docLinkHtml = 'Like what you see? Visit the ' +\n",
              "            '<a target=\"_blank\" href=https://colab.research.google.com/notebooks/data_table.ipynb>data table notebook</a>'\n",
              "            + ' to learn more about interactive tables.';\n",
              "          element.innerHTML = '';\n",
              "          dataTable['output_type'] = 'display_data';\n",
              "          await google.colab.output.renderOutput(dataTable, element);\n",
              "          const docLink = document.createElement('div');\n",
              "          docLink.innerHTML = docLinkHtml;\n",
              "          element.appendChild(docLink);\n",
              "        }\n",
              "      </script>\n",
              "    </div>\n",
              "  </div>\n",
              "  "
            ]
          },
          "metadata": {},
          "execution_count": 13
        }
      ],
      "source": [
        "df.head()"
      ]
    },
    {
      "cell_type": "code",
      "execution_count": 11,
      "metadata": {
        "colab": {
          "base_uri": "https://localhost:8080/"
        },
        "id": "7M8iLZ7lXkh3",
        "outputId": "31816fce-d1ef-4996-ac44-5b4259d2f75a"
      },
      "outputs": [
        {
          "output_type": "execute_result",
          "data": {
            "text/plain": [
              "id              0\n",
              "qid1            0\n",
              "qid2            0\n",
              "question1       1\n",
              "question2       2\n",
              "is_duplicate    0\n",
              "dtype: int64"
            ]
          },
          "metadata": {},
          "execution_count": 11
        }
      ],
      "source": [
        "df.isnull().sum()"
      ]
    },
    {
      "cell_type": "code",
      "execution_count": 12,
      "metadata": {
        "colab": {
          "base_uri": "https://localhost:8080/"
        },
        "id": "02AsOiatXp1i",
        "outputId": "3ba19f0b-6f19-43ae-fb42-5db0e5bbc4ae"
      },
      "outputs": [
        {
          "output_type": "execute_result",
          "data": {
            "text/plain": [
              "id              0\n",
              "qid1            0\n",
              "qid2            0\n",
              "question1       0\n",
              "question2       0\n",
              "is_duplicate    0\n",
              "dtype: int64"
            ]
          },
          "metadata": {},
          "execution_count": 12
        }
      ],
      "source": [
        "df = df.dropna()\n",
        "df.isnull().sum()"
      ]
    },
    {
      "cell_type": "markdown",
      "source": [
        "# Model Training pre any feature engineering"
      ],
      "metadata": {
        "id": "vJ-Hcy_s-nWd"
      }
    },
    {
      "cell_type": "code",
      "execution_count": 13,
      "metadata": {
        "colab": {
          "base_uri": "https://localhost:8080/",
          "height": 206
        },
        "id": "LGxqcAUhXxQv",
        "outputId": "72ff40b6-1459-41fb-e360-b9027f162d8b"
      },
      "outputs": [
        {
          "output_type": "execute_result",
          "data": {
            "text/plain": [
              "                                               question1  \\\n",
              "8067                  How do I play Pokémon GO in Korea?   \n",
              "224279          Will a breathing treatment help a cough?   \n",
              "252452     Is Kellyanne Conway annoying in your opinion?   \n",
              "174039  How do you rate (1-10) and review Maruti Baleno?   \n",
              "384863            What are some good books on marketing?   \n",
              "\n",
              "                                                question2  \n",
              "8067                   How do I play Pokémon GO in China?  \n",
              "224279  How can I help someone that is unconscious but...  \n",
              "252452  Did Kellyanne Conway really imply that we shou...  \n",
              "174039  What career options does one have after comple...  \n",
              "384863  What are some of the best books ever written a...  "
            ],
            "text/html": [
              "\n",
              "  <div id=\"df-fbc8c026-dfab-455a-a006-74195217827c\">\n",
              "    <div class=\"colab-df-container\">\n",
              "      <div>\n",
              "<style scoped>\n",
              "    .dataframe tbody tr th:only-of-type {\n",
              "        vertical-align: middle;\n",
              "    }\n",
              "\n",
              "    .dataframe tbody tr th {\n",
              "        vertical-align: top;\n",
              "    }\n",
              "\n",
              "    .dataframe thead th {\n",
              "        text-align: right;\n",
              "    }\n",
              "</style>\n",
              "<table border=\"1\" class=\"dataframe\">\n",
              "  <thead>\n",
              "    <tr style=\"text-align: right;\">\n",
              "      <th></th>\n",
              "      <th>question1</th>\n",
              "      <th>question2</th>\n",
              "    </tr>\n",
              "  </thead>\n",
              "  <tbody>\n",
              "    <tr>\n",
              "      <th>8067</th>\n",
              "      <td>How do I play Pokémon GO in Korea?</td>\n",
              "      <td>How do I play Pokémon GO in China?</td>\n",
              "    </tr>\n",
              "    <tr>\n",
              "      <th>224279</th>\n",
              "      <td>Will a breathing treatment help a cough?</td>\n",
              "      <td>How can I help someone that is unconscious but...</td>\n",
              "    </tr>\n",
              "    <tr>\n",
              "      <th>252452</th>\n",
              "      <td>Is Kellyanne Conway annoying in your opinion?</td>\n",
              "      <td>Did Kellyanne Conway really imply that we shou...</td>\n",
              "    </tr>\n",
              "    <tr>\n",
              "      <th>174039</th>\n",
              "      <td>How do you rate (1-10) and review Maruti Baleno?</td>\n",
              "      <td>What career options does one have after comple...</td>\n",
              "    </tr>\n",
              "    <tr>\n",
              "      <th>384863</th>\n",
              "      <td>What are some good books on marketing?</td>\n",
              "      <td>What are some of the best books ever written a...</td>\n",
              "    </tr>\n",
              "  </tbody>\n",
              "</table>\n",
              "</div>\n",
              "      <button class=\"colab-df-convert\" onclick=\"convertToInteractive('df-fbc8c026-dfab-455a-a006-74195217827c')\"\n",
              "              title=\"Convert this dataframe to an interactive table.\"\n",
              "              style=\"display:none;\">\n",
              "        \n",
              "  <svg xmlns=\"http://www.w3.org/2000/svg\" height=\"24px\"viewBox=\"0 0 24 24\"\n",
              "       width=\"24px\">\n",
              "    <path d=\"M0 0h24v24H0V0z\" fill=\"none\"/>\n",
              "    <path d=\"M18.56 5.44l.94 2.06.94-2.06 2.06-.94-2.06-.94-.94-2.06-.94 2.06-2.06.94zm-11 1L8.5 8.5l.94-2.06 2.06-.94-2.06-.94L8.5 2.5l-.94 2.06-2.06.94zm10 10l.94 2.06.94-2.06 2.06-.94-2.06-.94-.94-2.06-.94 2.06-2.06.94z\"/><path d=\"M17.41 7.96l-1.37-1.37c-.4-.4-.92-.59-1.43-.59-.52 0-1.04.2-1.43.59L10.3 9.45l-7.72 7.72c-.78.78-.78 2.05 0 2.83L4 21.41c.39.39.9.59 1.41.59.51 0 1.02-.2 1.41-.59l7.78-7.78 2.81-2.81c.8-.78.8-2.07 0-2.86zM5.41 20L4 18.59l7.72-7.72 1.47 1.35L5.41 20z\"/>\n",
              "  </svg>\n",
              "      </button>\n",
              "      \n",
              "  <style>\n",
              "    .colab-df-container {\n",
              "      display:flex;\n",
              "      flex-wrap:wrap;\n",
              "      gap: 12px;\n",
              "    }\n",
              "\n",
              "    .colab-df-convert {\n",
              "      background-color: #E8F0FE;\n",
              "      border: none;\n",
              "      border-radius: 50%;\n",
              "      cursor: pointer;\n",
              "      display: none;\n",
              "      fill: #1967D2;\n",
              "      height: 32px;\n",
              "      padding: 0 0 0 0;\n",
              "      width: 32px;\n",
              "    }\n",
              "\n",
              "    .colab-df-convert:hover {\n",
              "      background-color: #E2EBFA;\n",
              "      box-shadow: 0px 1px 2px rgba(60, 64, 67, 0.3), 0px 1px 3px 1px rgba(60, 64, 67, 0.15);\n",
              "      fill: #174EA6;\n",
              "    }\n",
              "\n",
              "    [theme=dark] .colab-df-convert {\n",
              "      background-color: #3B4455;\n",
              "      fill: #D2E3FC;\n",
              "    }\n",
              "\n",
              "    [theme=dark] .colab-df-convert:hover {\n",
              "      background-color: #434B5C;\n",
              "      box-shadow: 0px 1px 3px 1px rgba(0, 0, 0, 0.15);\n",
              "      filter: drop-shadow(0px 1px 2px rgba(0, 0, 0, 0.3));\n",
              "      fill: #FFFFFF;\n",
              "    }\n",
              "  </style>\n",
              "\n",
              "      <script>\n",
              "        const buttonEl =\n",
              "          document.querySelector('#df-fbc8c026-dfab-455a-a006-74195217827c button.colab-df-convert');\n",
              "        buttonEl.style.display =\n",
              "          google.colab.kernel.accessAllowed ? 'block' : 'none';\n",
              "\n",
              "        async function convertToInteractive(key) {\n",
              "          const element = document.querySelector('#df-fbc8c026-dfab-455a-a006-74195217827c');\n",
              "          const dataTable =\n",
              "            await google.colab.kernel.invokeFunction('convertToInteractive',\n",
              "                                                     [key], {});\n",
              "          if (!dataTable) return;\n",
              "\n",
              "          const docLinkHtml = 'Like what you see? Visit the ' +\n",
              "            '<a target=\"_blank\" href=https://colab.research.google.com/notebooks/data_table.ipynb>data table notebook</a>'\n",
              "            + ' to learn more about interactive tables.';\n",
              "          element.innerHTML = '';\n",
              "          dataTable['output_type'] = 'display_data';\n",
              "          await google.colab.output.renderOutput(dataTable, element);\n",
              "          const docLink = document.createElement('div');\n",
              "          docLink.innerHTML = docLinkHtml;\n",
              "          element.appendChild(docLink);\n",
              "        }\n",
              "      </script>\n",
              "    </div>\n",
              "  </div>\n",
              "  "
            ]
          },
          "metadata": {},
          "execution_count": 13
        }
      ],
      "source": [
        "# Sampling the dataset\n",
        "n_df = df.sample(30000, random_state = 42)\n",
        "q_df = n_df[['question1','question2']]\n",
        "q_df.head()\n"
      ]
    },
    {
      "cell_type": "code",
      "execution_count": null,
      "metadata": {
        "id": "YfgUPeqrYG-3"
      },
      "outputs": [],
      "source": [
        "# Bag of Words\n",
        "ques = list(q_df['question1']) + list(q_df['question2'])\n",
        "\n",
        "cv = CountVectorizer(max_features=3000)\n",
        "q1_a , q2_a = np.vsplit(cv.fit_transform(ques).toarray(),2)"
      ]
    },
    {
      "cell_type": "code",
      "execution_count": null,
      "metadata": {
        "colab": {
          "base_uri": "https://localhost:8080/"
        },
        "id": "rJGtI8h2YgKA",
        "outputId": "0815fd2c-4e54-4093-adb3-25a383926042"
      },
      "outputs": [
        {
          "output_type": "execute_result",
          "data": {
            "text/plain": [
              "(30000, 6000)"
            ]
          },
          "metadata": {},
          "execution_count": 19
        }
      ],
      "source": [
        "# Creation of new dataframe to save the features from each question set\n",
        "t_df1 = pd.DataFrame(q1_a, index = q_df.index)\n",
        "t_df2 = pd.DataFrame(q2_a, index = q_df.index)\n",
        "t_df = pd.concat([t_df1,t_df2], axis = 1)\n",
        "t_df.shape"
      ]
    },
    {
      "cell_type": "code",
      "execution_count": null,
      "metadata": {
        "colab": {
          "base_uri": "https://localhost:8080/",
          "height": 235
        },
        "id": "fyYpZIiEaCQl",
        "outputId": "966115f2-fd7b-4c65-d2e5-01e7b06aa6bc"
      },
      "outputs": [
        {
          "output_type": "execute_result",
          "data": {
            "text/plain": [
              "        0  1  2  3  4  5  6  7  8  9  ...  2991  2992  2993  2994  2995  2996  \\\n",
              "8067    0  0  0  0  0  0  0  0  0  0  ...     0     0     0     0     0     0   \n",
              "224279  0  0  0  0  0  0  0  0  0  0  ...     0     0     0     0     0     0   \n",
              "252452  0  0  0  0  0  0  0  0  0  0  ...     0     0     0     0     0     0   \n",
              "174039  0  1  0  0  0  0  0  0  0  0  ...     0     0     0     0     0     0   \n",
              "384863  0  0  0  0  0  0  0  0  0  0  ...     0     0     0     0     0     0   \n",
              "\n",
              "        2997  2998  2999  is_duplicate  \n",
              "8067       0     0     0             0  \n",
              "224279     0     0     0             0  \n",
              "252452     0     0     0             0  \n",
              "174039     0     0     0             0  \n",
              "384863     0     0     0             1  \n",
              "\n",
              "[5 rows x 6001 columns]"
            ],
            "text/html": [
              "\n",
              "  <div id=\"df-e1c187e1-05c5-41af-9d72-a50d9b9021e1\">\n",
              "    <div class=\"colab-df-container\">\n",
              "      <div>\n",
              "<style scoped>\n",
              "    .dataframe tbody tr th:only-of-type {\n",
              "        vertical-align: middle;\n",
              "    }\n",
              "\n",
              "    .dataframe tbody tr th {\n",
              "        vertical-align: top;\n",
              "    }\n",
              "\n",
              "    .dataframe thead th {\n",
              "        text-align: right;\n",
              "    }\n",
              "</style>\n",
              "<table border=\"1\" class=\"dataframe\">\n",
              "  <thead>\n",
              "    <tr style=\"text-align: right;\">\n",
              "      <th></th>\n",
              "      <th>0</th>\n",
              "      <th>1</th>\n",
              "      <th>2</th>\n",
              "      <th>3</th>\n",
              "      <th>4</th>\n",
              "      <th>5</th>\n",
              "      <th>6</th>\n",
              "      <th>7</th>\n",
              "      <th>8</th>\n",
              "      <th>9</th>\n",
              "      <th>...</th>\n",
              "      <th>2991</th>\n",
              "      <th>2992</th>\n",
              "      <th>2993</th>\n",
              "      <th>2994</th>\n",
              "      <th>2995</th>\n",
              "      <th>2996</th>\n",
              "      <th>2997</th>\n",
              "      <th>2998</th>\n",
              "      <th>2999</th>\n",
              "      <th>is_duplicate</th>\n",
              "    </tr>\n",
              "  </thead>\n",
              "  <tbody>\n",
              "    <tr>\n",
              "      <th>8067</th>\n",
              "      <td>0</td>\n",
              "      <td>0</td>\n",
              "      <td>0</td>\n",
              "      <td>0</td>\n",
              "      <td>0</td>\n",
              "      <td>0</td>\n",
              "      <td>0</td>\n",
              "      <td>0</td>\n",
              "      <td>0</td>\n",
              "      <td>0</td>\n",
              "      <td>...</td>\n",
              "      <td>0</td>\n",
              "      <td>0</td>\n",
              "      <td>0</td>\n",
              "      <td>0</td>\n",
              "      <td>0</td>\n",
              "      <td>0</td>\n",
              "      <td>0</td>\n",
              "      <td>0</td>\n",
              "      <td>0</td>\n",
              "      <td>0</td>\n",
              "    </tr>\n",
              "    <tr>\n",
              "      <th>224279</th>\n",
              "      <td>0</td>\n",
              "      <td>0</td>\n",
              "      <td>0</td>\n",
              "      <td>0</td>\n",
              "      <td>0</td>\n",
              "      <td>0</td>\n",
              "      <td>0</td>\n",
              "      <td>0</td>\n",
              "      <td>0</td>\n",
              "      <td>0</td>\n",
              "      <td>...</td>\n",
              "      <td>0</td>\n",
              "      <td>0</td>\n",
              "      <td>0</td>\n",
              "      <td>0</td>\n",
              "      <td>0</td>\n",
              "      <td>0</td>\n",
              "      <td>0</td>\n",
              "      <td>0</td>\n",
              "      <td>0</td>\n",
              "      <td>0</td>\n",
              "    </tr>\n",
              "    <tr>\n",
              "      <th>252452</th>\n",
              "      <td>0</td>\n",
              "      <td>0</td>\n",
              "      <td>0</td>\n",
              "      <td>0</td>\n",
              "      <td>0</td>\n",
              "      <td>0</td>\n",
              "      <td>0</td>\n",
              "      <td>0</td>\n",
              "      <td>0</td>\n",
              "      <td>0</td>\n",
              "      <td>...</td>\n",
              "      <td>0</td>\n",
              "      <td>0</td>\n",
              "      <td>0</td>\n",
              "      <td>0</td>\n",
              "      <td>0</td>\n",
              "      <td>0</td>\n",
              "      <td>0</td>\n",
              "      <td>0</td>\n",
              "      <td>0</td>\n",
              "      <td>0</td>\n",
              "    </tr>\n",
              "    <tr>\n",
              "      <th>174039</th>\n",
              "      <td>0</td>\n",
              "      <td>1</td>\n",
              "      <td>0</td>\n",
              "      <td>0</td>\n",
              "      <td>0</td>\n",
              "      <td>0</td>\n",
              "      <td>0</td>\n",
              "      <td>0</td>\n",
              "      <td>0</td>\n",
              "      <td>0</td>\n",
              "      <td>...</td>\n",
              "      <td>0</td>\n",
              "      <td>0</td>\n",
              "      <td>0</td>\n",
              "      <td>0</td>\n",
              "      <td>0</td>\n",
              "      <td>0</td>\n",
              "      <td>0</td>\n",
              "      <td>0</td>\n",
              "      <td>0</td>\n",
              "      <td>0</td>\n",
              "    </tr>\n",
              "    <tr>\n",
              "      <th>384863</th>\n",
              "      <td>0</td>\n",
              "      <td>0</td>\n",
              "      <td>0</td>\n",
              "      <td>0</td>\n",
              "      <td>0</td>\n",
              "      <td>0</td>\n",
              "      <td>0</td>\n",
              "      <td>0</td>\n",
              "      <td>0</td>\n",
              "      <td>0</td>\n",
              "      <td>...</td>\n",
              "      <td>0</td>\n",
              "      <td>0</td>\n",
              "      <td>0</td>\n",
              "      <td>0</td>\n",
              "      <td>0</td>\n",
              "      <td>0</td>\n",
              "      <td>0</td>\n",
              "      <td>0</td>\n",
              "      <td>0</td>\n",
              "      <td>1</td>\n",
              "    </tr>\n",
              "  </tbody>\n",
              "</table>\n",
              "<p>5 rows × 6001 columns</p>\n",
              "</div>\n",
              "      <button class=\"colab-df-convert\" onclick=\"convertToInteractive('df-e1c187e1-05c5-41af-9d72-a50d9b9021e1')\"\n",
              "              title=\"Convert this dataframe to an interactive table.\"\n",
              "              style=\"display:none;\">\n",
              "        \n",
              "  <svg xmlns=\"http://www.w3.org/2000/svg\" height=\"24px\"viewBox=\"0 0 24 24\"\n",
              "       width=\"24px\">\n",
              "    <path d=\"M0 0h24v24H0V0z\" fill=\"none\"/>\n",
              "    <path d=\"M18.56 5.44l.94 2.06.94-2.06 2.06-.94-2.06-.94-.94-2.06-.94 2.06-2.06.94zm-11 1L8.5 8.5l.94-2.06 2.06-.94-2.06-.94L8.5 2.5l-.94 2.06-2.06.94zm10 10l.94 2.06.94-2.06 2.06-.94-2.06-.94-.94-2.06-.94 2.06-2.06.94z\"/><path d=\"M17.41 7.96l-1.37-1.37c-.4-.4-.92-.59-1.43-.59-.52 0-1.04.2-1.43.59L10.3 9.45l-7.72 7.72c-.78.78-.78 2.05 0 2.83L4 21.41c.39.39.9.59 1.41.59.51 0 1.02-.2 1.41-.59l7.78-7.78 2.81-2.81c.8-.78.8-2.07 0-2.86zM5.41 20L4 18.59l7.72-7.72 1.47 1.35L5.41 20z\"/>\n",
              "  </svg>\n",
              "      </button>\n",
              "      \n",
              "  <style>\n",
              "    .colab-df-container {\n",
              "      display:flex;\n",
              "      flex-wrap:wrap;\n",
              "      gap: 12px;\n",
              "    }\n",
              "\n",
              "    .colab-df-convert {\n",
              "      background-color: #E8F0FE;\n",
              "      border: none;\n",
              "      border-radius: 50%;\n",
              "      cursor: pointer;\n",
              "      display: none;\n",
              "      fill: #1967D2;\n",
              "      height: 32px;\n",
              "      padding: 0 0 0 0;\n",
              "      width: 32px;\n",
              "    }\n",
              "\n",
              "    .colab-df-convert:hover {\n",
              "      background-color: #E2EBFA;\n",
              "      box-shadow: 0px 1px 2px rgba(60, 64, 67, 0.3), 0px 1px 3px 1px rgba(60, 64, 67, 0.15);\n",
              "      fill: #174EA6;\n",
              "    }\n",
              "\n",
              "    [theme=dark] .colab-df-convert {\n",
              "      background-color: #3B4455;\n",
              "      fill: #D2E3FC;\n",
              "    }\n",
              "\n",
              "    [theme=dark] .colab-df-convert:hover {\n",
              "      background-color: #434B5C;\n",
              "      box-shadow: 0px 1px 3px 1px rgba(0, 0, 0, 0.15);\n",
              "      filter: drop-shadow(0px 1px 2px rgba(0, 0, 0, 0.3));\n",
              "      fill: #FFFFFF;\n",
              "    }\n",
              "  </style>\n",
              "\n",
              "      <script>\n",
              "        const buttonEl =\n",
              "          document.querySelector('#df-e1c187e1-05c5-41af-9d72-a50d9b9021e1 button.colab-df-convert');\n",
              "        buttonEl.style.display =\n",
              "          google.colab.kernel.accessAllowed ? 'block' : 'none';\n",
              "\n",
              "        async function convertToInteractive(key) {\n",
              "          const element = document.querySelector('#df-e1c187e1-05c5-41af-9d72-a50d9b9021e1');\n",
              "          const dataTable =\n",
              "            await google.colab.kernel.invokeFunction('convertToInteractive',\n",
              "                                                     [key], {});\n",
              "          if (!dataTable) return;\n",
              "\n",
              "          const docLinkHtml = 'Like what you see? Visit the ' +\n",
              "            '<a target=\"_blank\" href=https://colab.research.google.com/notebooks/data_table.ipynb>data table notebook</a>'\n",
              "            + ' to learn more about interactive tables.';\n",
              "          element.innerHTML = '';\n",
              "          dataTable['output_type'] = 'display_data';\n",
              "          await google.colab.output.renderOutput(dataTable, element);\n",
              "          const docLink = document.createElement('div');\n",
              "          docLink.innerHTML = docLinkHtml;\n",
              "          element.appendChild(docLink);\n",
              "        }\n",
              "      </script>\n",
              "    </div>\n",
              "  </div>\n",
              "  "
            ]
          },
          "metadata": {},
          "execution_count": 20
        }
      ],
      "source": [
        "t_df['is_duplicate'] = n_df['is_duplicate']\n",
        "t_df.head()"
      ]
    },
    {
      "cell_type": "code",
      "execution_count": null,
      "metadata": {
        "id": "NLjq3Jmna0k_"
      },
      "outputs": [],
      "source": [
        "# Splitting the dataset in 80-20 test-train split\n",
        "X_train , X_test , Y_train, Y_test = train_test_split(t_df.iloc[:,0:-1].values, t_df.iloc[:,-1].values, test_size=0.2, random_state = 42)"
      ]
    },
    {
      "cell_type": "code",
      "execution_count": null,
      "metadata": {
        "colab": {
          "base_uri": "https://localhost:8080/"
        },
        "id": "j4ETs_2PbgRW",
        "outputId": "f210ac84-efa9-4334-9cf9-f21a7accd012"
      },
      "outputs": [
        {
          "output_type": "execute_result",
          "data": {
            "text/plain": [
              "0.7368333333333333"
            ]
          },
          "metadata": {},
          "execution_count": 22
        }
      ],
      "source": [
        "# Random Forest classifier\n",
        "rf=RandomForestClassifier()\n",
        "rf.fit(X_train,Y_train)\n",
        "Y_pred = rf.predict(X_test)\n",
        "accuracy_score(Y_test, Y_pred)"
      ]
    },
    {
      "cell_type": "code",
      "execution_count": null,
      "metadata": {
        "colab": {
          "base_uri": "https://localhost:8080/"
        },
        "id": "ci7pau4YcLaU",
        "outputId": "d564a8a3-202b-488c-97dd-6f3b278bddf9"
      },
      "outputs": [
        {
          "output_type": "execute_result",
          "data": {
            "text/plain": [
              "0.6758333333333333"
            ]
          },
          "metadata": {},
          "execution_count": 23
        }
      ],
      "source": [
        "# XGBoost Classifier\n",
        "xgb = XGBClassifier()\n",
        "xgb.fit(X_train,Y_train)\n",
        "Y_pred = xgb.predict(X_test)\n",
        "accuracy_score(Y_test, Y_pred)"
      ]
    },
    {
      "cell_type": "markdown",
      "source": [
        "# EDA"
      ],
      "metadata": {
        "id": "NRQTjAe6-lAw"
      }
    },
    {
      "cell_type": "code",
      "execution_count": 19,
      "metadata": {
        "id": "dbUo6a_9dIlL",
        "colab": {
          "base_uri": "https://localhost:8080/",
          "height": 390
        },
        "outputId": "cb038cc5-1006-4526-b234-4850785b8301"
      },
      "outputs": [
        {
          "output_type": "stream",
          "name": "stdout",
          "text": [
            "0    18927\n",
            "1    11073\n",
            "Name: is_duplicate, dtype: int64\n",
            "0    63.09\n",
            "1    36.91\n",
            "Name: is_duplicate, dtype: float64\n"
          ]
        },
        {
          "output_type": "execute_result",
          "data": {
            "text/plain": [
              "<matplotlib.axes._subplots.AxesSubplot at 0x7f47960756d0>"
            ]
          },
          "metadata": {},
          "execution_count": 19
        },
        {
          "output_type": "display_data",
          "data": {
            "text/plain": [
              "<Figure size 432x288 with 1 Axes>"
            ],
            "image/png": "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\n"
          },
          "metadata": {}
        }
      ],
      "source": [
        "# Distribution of duplicate and non-duplicate questions\n",
        "print(n_df['is_duplicate'].value_counts())\n",
        "print((n_df['is_duplicate'].value_counts() / n_df['is_duplicate'].count())*100)\n",
        "n_df['is_duplicate'].value_counts().plot.bar(x='is_duplicate', rot=0)"
      ]
    },
    {
      "cell_type": "code",
      "execution_count": null,
      "metadata": {
        "id": "hBpbGy9CfVUM",
        "colab": {
          "base_uri": "https://localhost:8080/"
        },
        "outputId": "9e2cfbb8-726e-4e86-a77f-b54370f39887"
      },
      "outputs": [
        {
          "output_type": "stream",
          "name": "stdout",
          "text": [
            "Number of unique questions 55447\n",
            "Number of repeated questions 3466\n"
          ]
        }
      ],
      "source": [
        "# Number of repeated questions and Number of unique questions\n",
        "qid = pd.Series(n_df['qid1'].tolist() + n_df['qid2'].tolist())\n",
        "print('Number of unique questions', np.unique(qid).shape[0])\n",
        "a = qid.value_counts()>1\n",
        "print('Number of repeated questions', a[a].shape[0])"
      ]
    },
    {
      "cell_type": "code",
      "execution_count": null,
      "metadata": {
        "id": "BGYVQH2oja0E",
        "colab": {
          "base_uri": "https://localhost:8080/",
          "height": 518
        },
        "outputId": "eca046d0-a70c-41fe-95c2-302dd2b7b672"
      },
      "outputs": [
        {
          "output_type": "display_data",
          "data": {
            "text/plain": [
              "<Figure size 864x576 with 1 Axes>"
            ],
            "image/png": "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\n"
          },
          "metadata": {}
        }
      ],
      "source": [
        "# Repeated questions histogram\n",
        "plt.figure(figsize=(12,8))\n",
        "plt.hist(qid.value_counts().values,bins=180)\n",
        "plt.xlabel('Number of times repeated')\n",
        "plt.ylabel('Number of questions')\n",
        "plt.title('Repeated questions Histogram')\n",
        "plt.yscale('log')\n",
        "plt.show()"
      ]
    },
    {
      "cell_type": "markdown",
      "source": [
        "# Feature Engineering"
      ],
      "metadata": {
        "id": "c1Fa_udznEZl"
      }
    },
    {
      "cell_type": "markdown",
      "source": [
        "**Basic Features**"
      ],
      "metadata": {
        "id": "JWU1MGllnB38"
      }
    },
    {
      "cell_type": "markdown",
      "source": [
        "*   ***q1_len*** : Length of question1\n",
        "*   ***q2_len***: Length of question2\n",
        "*   ***q1_num_words*** : Number of words in question1\n",
        "*   ***q2_num_words*** : Number of words in question2\n",
        "*   ***Total words*** : Total number of words in the summation of both questions\n",
        "*   ***common_words*** : Number of common unique words (comparing both questions)\n",
        "*  ***word share***: Ratio of number of common unique words and total number of words"
      ],
      "metadata": {
        "id": "FPZbY1-hl8US"
      }
    },
    {
      "cell_type": "code",
      "execution_count": null,
      "metadata": {
        "id": "TEVngBynkW93",
        "colab": {
          "base_uri": "https://localhost:8080/",
          "height": 423
        },
        "outputId": "949cc63a-1dea-48f5-9eb0-cbb36874c2e2"
      },
      "outputs": [
        {
          "output_type": "execute_result",
          "data": {
            "text/plain": [
              "            id    qid1    qid2  \\\n",
              "8067      8067   15738   15739   \n",
              "224279  224279  332326  332327   \n",
              "252452  252452  336023  366789   \n",
              "174039  174039  268330  268331   \n",
              "384863  384863   28901  233483   \n",
              "...        ...     ...     ...   \n",
              "336051  336051  463364  463365   \n",
              "114621  114621    7903   70571   \n",
              "239424  239424  316093  206614   \n",
              "236308  236308   44925  347194   \n",
              "125931  125931   77046   69299   \n",
              "\n",
              "                                                question1  \\\n",
              "8067                   How do I play Pokémon GO in Korea?   \n",
              "224279           Will a breathing treatment help a cough?   \n",
              "252452      Is Kellyanne Conway annoying in your opinion?   \n",
              "174039   How do you rate (1-10) and review Maruti Baleno?   \n",
              "384863             What are some good books on marketing?   \n",
              "...                                                   ...   \n",
              "336051  Where can I find software projects to find bug...   \n",
              "114621  How should I study (give me a study plan) for ...   \n",
              "239424              What is your biggest mistake in life?   \n",
              "236308  What is Dr. Nowzaradan's diet plan before he p...   \n",
              "125931  Considering neutrinos have mass, are they a ca...   \n",
              "\n",
              "                                                question2  is_duplicate  \\\n",
              "8067                   How do I play Pokémon GO in China?             0   \n",
              "224279  How can I help someone that is unconscious but...             0   \n",
              "252452  Did Kellyanne Conway really imply that we shou...             0   \n",
              "174039  What career options does one have after comple...             0   \n",
              "384863  What are some of the best books ever written a...             1   \n",
              "...                                                   ...           ...   \n",
              "336051      How do I get software projects from us or uk?             0   \n",
              "114621  What is the proper methodology to study 1st ye...             1   \n",
              "239424  What is the biggest mistake you ever made in y...             1   \n",
              "236308  Neurosurgeon and presidential candidate Dr. Be...             0   \n",
              "125931                         Are neutrinos dark matter?             1   \n",
              "\n",
              "        q1_len  q2_len  q1_num_words  q2_num_words  \n",
              "8067        34      34             8             8  \n",
              "224279      40      63             7            11  \n",
              "252452      45     118             7            21  \n",
              "174039      48     127             9            20  \n",
              "384863      38      61             7            11  \n",
              "...        ...     ...           ...           ...  \n",
              "336051      61      45            12            10  \n",
              "114621      60      54            13            10  \n",
              "239424      37      61             7            12  \n",
              "236308      64     157            11            24  \n",
              "125931      70      26            11             4  \n",
              "\n",
              "[30000 rows x 10 columns]"
            ],
            "text/html": [
              "\n",
              "  <div id=\"df-58309ecd-68e1-4960-85a6-ee14acc0af1a\">\n",
              "    <div class=\"colab-df-container\">\n",
              "      <div>\n",
              "<style scoped>\n",
              "    .dataframe tbody tr th:only-of-type {\n",
              "        vertical-align: middle;\n",
              "    }\n",
              "\n",
              "    .dataframe tbody tr th {\n",
              "        vertical-align: top;\n",
              "    }\n",
              "\n",
              "    .dataframe thead th {\n",
              "        text-align: right;\n",
              "    }\n",
              "</style>\n",
              "<table border=\"1\" class=\"dataframe\">\n",
              "  <thead>\n",
              "    <tr style=\"text-align: right;\">\n",
              "      <th></th>\n",
              "      <th>id</th>\n",
              "      <th>qid1</th>\n",
              "      <th>qid2</th>\n",
              "      <th>question1</th>\n",
              "      <th>question2</th>\n",
              "      <th>is_duplicate</th>\n",
              "      <th>q1_len</th>\n",
              "      <th>q2_len</th>\n",
              "      <th>q1_num_words</th>\n",
              "      <th>q2_num_words</th>\n",
              "    </tr>\n",
              "  </thead>\n",
              "  <tbody>\n",
              "    <tr>\n",
              "      <th>8067</th>\n",
              "      <td>8067</td>\n",
              "      <td>15738</td>\n",
              "      <td>15739</td>\n",
              "      <td>How do I play Pokémon GO in Korea?</td>\n",
              "      <td>How do I play Pokémon GO in China?</td>\n",
              "      <td>0</td>\n",
              "      <td>34</td>\n",
              "      <td>34</td>\n",
              "      <td>8</td>\n",
              "      <td>8</td>\n",
              "    </tr>\n",
              "    <tr>\n",
              "      <th>224279</th>\n",
              "      <td>224279</td>\n",
              "      <td>332326</td>\n",
              "      <td>332327</td>\n",
              "      <td>Will a breathing treatment help a cough?</td>\n",
              "      <td>How can I help someone that is unconscious but...</td>\n",
              "      <td>0</td>\n",
              "      <td>40</td>\n",
              "      <td>63</td>\n",
              "      <td>7</td>\n",
              "      <td>11</td>\n",
              "    </tr>\n",
              "    <tr>\n",
              "      <th>252452</th>\n",
              "      <td>252452</td>\n",
              "      <td>336023</td>\n",
              "      <td>366789</td>\n",
              "      <td>Is Kellyanne Conway annoying in your opinion?</td>\n",
              "      <td>Did Kellyanne Conway really imply that we shou...</td>\n",
              "      <td>0</td>\n",
              "      <td>45</td>\n",
              "      <td>118</td>\n",
              "      <td>7</td>\n",
              "      <td>21</td>\n",
              "    </tr>\n",
              "    <tr>\n",
              "      <th>174039</th>\n",
              "      <td>174039</td>\n",
              "      <td>268330</td>\n",
              "      <td>268331</td>\n",
              "      <td>How do you rate (1-10) and review Maruti Baleno?</td>\n",
              "      <td>What career options does one have after comple...</td>\n",
              "      <td>0</td>\n",
              "      <td>48</td>\n",
              "      <td>127</td>\n",
              "      <td>9</td>\n",
              "      <td>20</td>\n",
              "    </tr>\n",
              "    <tr>\n",
              "      <th>384863</th>\n",
              "      <td>384863</td>\n",
              "      <td>28901</td>\n",
              "      <td>233483</td>\n",
              "      <td>What are some good books on marketing?</td>\n",
              "      <td>What are some of the best books ever written a...</td>\n",
              "      <td>1</td>\n",
              "      <td>38</td>\n",
              "      <td>61</td>\n",
              "      <td>7</td>\n",
              "      <td>11</td>\n",
              "    </tr>\n",
              "    <tr>\n",
              "      <th>...</th>\n",
              "      <td>...</td>\n",
              "      <td>...</td>\n",
              "      <td>...</td>\n",
              "      <td>...</td>\n",
              "      <td>...</td>\n",
              "      <td>...</td>\n",
              "      <td>...</td>\n",
              "      <td>...</td>\n",
              "      <td>...</td>\n",
              "      <td>...</td>\n",
              "    </tr>\n",
              "    <tr>\n",
              "      <th>336051</th>\n",
              "      <td>336051</td>\n",
              "      <td>463364</td>\n",
              "      <td>463365</td>\n",
              "      <td>Where can I find software projects to find bug...</td>\n",
              "      <td>How do I get software projects from us or uk?</td>\n",
              "      <td>0</td>\n",
              "      <td>61</td>\n",
              "      <td>45</td>\n",
              "      <td>12</td>\n",
              "      <td>10</td>\n",
              "    </tr>\n",
              "    <tr>\n",
              "      <th>114621</th>\n",
              "      <td>114621</td>\n",
              "      <td>7903</td>\n",
              "      <td>70571</td>\n",
              "      <td>How should I study (give me a study plan) for ...</td>\n",
              "      <td>What is the proper methodology to study 1st ye...</td>\n",
              "      <td>1</td>\n",
              "      <td>60</td>\n",
              "      <td>54</td>\n",
              "      <td>13</td>\n",
              "      <td>10</td>\n",
              "    </tr>\n",
              "    <tr>\n",
              "      <th>239424</th>\n",
              "      <td>239424</td>\n",
              "      <td>316093</td>\n",
              "      <td>206614</td>\n",
              "      <td>What is your biggest mistake in life?</td>\n",
              "      <td>What is the biggest mistake you ever made in y...</td>\n",
              "      <td>1</td>\n",
              "      <td>37</td>\n",
              "      <td>61</td>\n",
              "      <td>7</td>\n",
              "      <td>12</td>\n",
              "    </tr>\n",
              "    <tr>\n",
              "      <th>236308</th>\n",
              "      <td>236308</td>\n",
              "      <td>44925</td>\n",
              "      <td>347194</td>\n",
              "      <td>What is Dr. Nowzaradan's diet plan before he p...</td>\n",
              "      <td>Neurosurgeon and presidential candidate Dr. Be...</td>\n",
              "      <td>0</td>\n",
              "      <td>64</td>\n",
              "      <td>157</td>\n",
              "      <td>11</td>\n",
              "      <td>24</td>\n",
              "    </tr>\n",
              "    <tr>\n",
              "      <th>125931</th>\n",
              "      <td>125931</td>\n",
              "      <td>77046</td>\n",
              "      <td>69299</td>\n",
              "      <td>Considering neutrinos have mass, are they a ca...</td>\n",
              "      <td>Are neutrinos dark matter?</td>\n",
              "      <td>1</td>\n",
              "      <td>70</td>\n",
              "      <td>26</td>\n",
              "      <td>11</td>\n",
              "      <td>4</td>\n",
              "    </tr>\n",
              "  </tbody>\n",
              "</table>\n",
              "<p>30000 rows × 10 columns</p>\n",
              "</div>\n",
              "      <button class=\"colab-df-convert\" onclick=\"convertToInteractive('df-58309ecd-68e1-4960-85a6-ee14acc0af1a')\"\n",
              "              title=\"Convert this dataframe to an interactive table.\"\n",
              "              style=\"display:none;\">\n",
              "        \n",
              "  <svg xmlns=\"http://www.w3.org/2000/svg\" height=\"24px\"viewBox=\"0 0 24 24\"\n",
              "       width=\"24px\">\n",
              "    <path d=\"M0 0h24v24H0V0z\" fill=\"none\"/>\n",
              "    <path d=\"M18.56 5.44l.94 2.06.94-2.06 2.06-.94-2.06-.94-.94-2.06-.94 2.06-2.06.94zm-11 1L8.5 8.5l.94-2.06 2.06-.94-2.06-.94L8.5 2.5l-.94 2.06-2.06.94zm10 10l.94 2.06.94-2.06 2.06-.94-2.06-.94-.94-2.06-.94 2.06-2.06.94z\"/><path d=\"M17.41 7.96l-1.37-1.37c-.4-.4-.92-.59-1.43-.59-.52 0-1.04.2-1.43.59L10.3 9.45l-7.72 7.72c-.78.78-.78 2.05 0 2.83L4 21.41c.39.39.9.59 1.41.59.51 0 1.02-.2 1.41-.59l7.78-7.78 2.81-2.81c.8-.78.8-2.07 0-2.86zM5.41 20L4 18.59l7.72-7.72 1.47 1.35L5.41 20z\"/>\n",
              "  </svg>\n",
              "      </button>\n",
              "      \n",
              "  <style>\n",
              "    .colab-df-container {\n",
              "      display:flex;\n",
              "      flex-wrap:wrap;\n",
              "      gap: 12px;\n",
              "    }\n",
              "\n",
              "    .colab-df-convert {\n",
              "      background-color: #E8F0FE;\n",
              "      border: none;\n",
              "      border-radius: 50%;\n",
              "      cursor: pointer;\n",
              "      display: none;\n",
              "      fill: #1967D2;\n",
              "      height: 32px;\n",
              "      padding: 0 0 0 0;\n",
              "      width: 32px;\n",
              "    }\n",
              "\n",
              "    .colab-df-convert:hover {\n",
              "      background-color: #E2EBFA;\n",
              "      box-shadow: 0px 1px 2px rgba(60, 64, 67, 0.3), 0px 1px 3px 1px rgba(60, 64, 67, 0.15);\n",
              "      fill: #174EA6;\n",
              "    }\n",
              "\n",
              "    [theme=dark] .colab-df-convert {\n",
              "      background-color: #3B4455;\n",
              "      fill: #D2E3FC;\n",
              "    }\n",
              "\n",
              "    [theme=dark] .colab-df-convert:hover {\n",
              "      background-color: #434B5C;\n",
              "      box-shadow: 0px 1px 3px 1px rgba(0, 0, 0, 0.15);\n",
              "      filter: drop-shadow(0px 1px 2px rgba(0, 0, 0, 0.3));\n",
              "      fill: #FFFFFF;\n",
              "    }\n",
              "  </style>\n",
              "\n",
              "      <script>\n",
              "        const buttonEl =\n",
              "          document.querySelector('#df-58309ecd-68e1-4960-85a6-ee14acc0af1a button.colab-df-convert');\n",
              "        buttonEl.style.display =\n",
              "          google.colab.kernel.accessAllowed ? 'block' : 'none';\n",
              "\n",
              "        async function convertToInteractive(key) {\n",
              "          const element = document.querySelector('#df-58309ecd-68e1-4960-85a6-ee14acc0af1a');\n",
              "          const dataTable =\n",
              "            await google.colab.kernel.invokeFunction('convertToInteractive',\n",
              "                                                     [key], {});\n",
              "          if (!dataTable) return;\n",
              "\n",
              "          const docLinkHtml = 'Like what you see? Visit the ' +\n",
              "            '<a target=\"_blank\" href=https://colab.research.google.com/notebooks/data_table.ipynb>data table notebook</a>'\n",
              "            + ' to learn more about interactive tables.';\n",
              "          element.innerHTML = '';\n",
              "          dataTable['output_type'] = 'display_data';\n",
              "          await google.colab.output.renderOutput(dataTable, element);\n",
              "          const docLink = document.createElement('div');\n",
              "          docLink.innerHTML = docLinkHtml;\n",
              "          element.appendChild(docLink);\n",
              "        }\n",
              "      </script>\n",
              "    </div>\n",
              "  </div>\n",
              "  "
            ]
          },
          "metadata": {},
          "execution_count": 27
        }
      ],
      "source": [
        "n_df['q1_len'] = n_df['question1'].str.len()\n",
        "n_df['q2_len'] = n_df['question2'].str.len()\n",
        "n_df['q1_num_words'] = n_df['question1'].apply(lambda row: len(row.split(\" \")))\n",
        "n_df['q2_num_words'] = n_df['question2'].apply(lambda row: len(row.split(\" \")))\n",
        "n_df"
      ]
    },
    {
      "cell_type": "code",
      "execution_count": null,
      "metadata": {
        "id": "QjFHUNF3lA0R",
        "colab": {
          "base_uri": "https://localhost:8080/",
          "height": 319
        },
        "outputId": "365ec2f2-2d47-427f-ceaa-5e2139862cec"
      },
      "outputs": [
        {
          "output_type": "execute_result",
          "data": {
            "text/plain": [
              "            id    qid1    qid2  \\\n",
              "8067      8067   15738   15739   \n",
              "224279  224279  332326  332327   \n",
              "252452  252452  336023  366789   \n",
              "174039  174039  268330  268331   \n",
              "384863  384863   28901  233483   \n",
              "\n",
              "                                               question1  \\\n",
              "8067                  How do I play Pokémon GO in Korea?   \n",
              "224279          Will a breathing treatment help a cough?   \n",
              "252452     Is Kellyanne Conway annoying in your opinion?   \n",
              "174039  How do you rate (1-10) and review Maruti Baleno?   \n",
              "384863            What are some good books on marketing?   \n",
              "\n",
              "                                                question2  is_duplicate  \\\n",
              "8067                   How do I play Pokémon GO in China?             0   \n",
              "224279  How can I help someone that is unconscious but...             0   \n",
              "252452  Did Kellyanne Conway really imply that we shou...             0   \n",
              "174039  What career options does one have after comple...             0   \n",
              "384863  What are some of the best books ever written a...             1   \n",
              "\n",
              "        q1_len  q2_len  q1_num_words  q2_num_words  common_words  \n",
              "8067        34      34             8             8             7  \n",
              "224279      40      63             7            11             1  \n",
              "252452      45     118             7            21             2  \n",
              "174039      48     127             9            20             0  \n",
              "384863      38      61             7            11             5  "
            ],
            "text/html": [
              "\n",
              "  <div id=\"df-5d9b3c6a-f42b-493d-9d55-27325c311ff4\">\n",
              "    <div class=\"colab-df-container\">\n",
              "      <div>\n",
              "<style scoped>\n",
              "    .dataframe tbody tr th:only-of-type {\n",
              "        vertical-align: middle;\n",
              "    }\n",
              "\n",
              "    .dataframe tbody tr th {\n",
              "        vertical-align: top;\n",
              "    }\n",
              "\n",
              "    .dataframe thead th {\n",
              "        text-align: right;\n",
              "    }\n",
              "</style>\n",
              "<table border=\"1\" class=\"dataframe\">\n",
              "  <thead>\n",
              "    <tr style=\"text-align: right;\">\n",
              "      <th></th>\n",
              "      <th>id</th>\n",
              "      <th>qid1</th>\n",
              "      <th>qid2</th>\n",
              "      <th>question1</th>\n",
              "      <th>question2</th>\n",
              "      <th>is_duplicate</th>\n",
              "      <th>q1_len</th>\n",
              "      <th>q2_len</th>\n",
              "      <th>q1_num_words</th>\n",
              "      <th>q2_num_words</th>\n",
              "      <th>common_words</th>\n",
              "    </tr>\n",
              "  </thead>\n",
              "  <tbody>\n",
              "    <tr>\n",
              "      <th>8067</th>\n",
              "      <td>8067</td>\n",
              "      <td>15738</td>\n",
              "      <td>15739</td>\n",
              "      <td>How do I play Pokémon GO in Korea?</td>\n",
              "      <td>How do I play Pokémon GO in China?</td>\n",
              "      <td>0</td>\n",
              "      <td>34</td>\n",
              "      <td>34</td>\n",
              "      <td>8</td>\n",
              "      <td>8</td>\n",
              "      <td>7</td>\n",
              "    </tr>\n",
              "    <tr>\n",
              "      <th>224279</th>\n",
              "      <td>224279</td>\n",
              "      <td>332326</td>\n",
              "      <td>332327</td>\n",
              "      <td>Will a breathing treatment help a cough?</td>\n",
              "      <td>How can I help someone that is unconscious but...</td>\n",
              "      <td>0</td>\n",
              "      <td>40</td>\n",
              "      <td>63</td>\n",
              "      <td>7</td>\n",
              "      <td>11</td>\n",
              "      <td>1</td>\n",
              "    </tr>\n",
              "    <tr>\n",
              "      <th>252452</th>\n",
              "      <td>252452</td>\n",
              "      <td>336023</td>\n",
              "      <td>366789</td>\n",
              "      <td>Is Kellyanne Conway annoying in your opinion?</td>\n",
              "      <td>Did Kellyanne Conway really imply that we shou...</td>\n",
              "      <td>0</td>\n",
              "      <td>45</td>\n",
              "      <td>118</td>\n",
              "      <td>7</td>\n",
              "      <td>21</td>\n",
              "      <td>2</td>\n",
              "    </tr>\n",
              "    <tr>\n",
              "      <th>174039</th>\n",
              "      <td>174039</td>\n",
              "      <td>268330</td>\n",
              "      <td>268331</td>\n",
              "      <td>How do you rate (1-10) and review Maruti Baleno?</td>\n",
              "      <td>What career options does one have after comple...</td>\n",
              "      <td>0</td>\n",
              "      <td>48</td>\n",
              "      <td>127</td>\n",
              "      <td>9</td>\n",
              "      <td>20</td>\n",
              "      <td>0</td>\n",
              "    </tr>\n",
              "    <tr>\n",
              "      <th>384863</th>\n",
              "      <td>384863</td>\n",
              "      <td>28901</td>\n",
              "      <td>233483</td>\n",
              "      <td>What are some good books on marketing?</td>\n",
              "      <td>What are some of the best books ever written a...</td>\n",
              "      <td>1</td>\n",
              "      <td>38</td>\n",
              "      <td>61</td>\n",
              "      <td>7</td>\n",
              "      <td>11</td>\n",
              "      <td>5</td>\n",
              "    </tr>\n",
              "  </tbody>\n",
              "</table>\n",
              "</div>\n",
              "      <button class=\"colab-df-convert\" onclick=\"convertToInteractive('df-5d9b3c6a-f42b-493d-9d55-27325c311ff4')\"\n",
              "              title=\"Convert this dataframe to an interactive table.\"\n",
              "              style=\"display:none;\">\n",
              "        \n",
              "  <svg xmlns=\"http://www.w3.org/2000/svg\" height=\"24px\"viewBox=\"0 0 24 24\"\n",
              "       width=\"24px\">\n",
              "    <path d=\"M0 0h24v24H0V0z\" fill=\"none\"/>\n",
              "    <path d=\"M18.56 5.44l.94 2.06.94-2.06 2.06-.94-2.06-.94-.94-2.06-.94 2.06-2.06.94zm-11 1L8.5 8.5l.94-2.06 2.06-.94-2.06-.94L8.5 2.5l-.94 2.06-2.06.94zm10 10l.94 2.06.94-2.06 2.06-.94-2.06-.94-.94-2.06-.94 2.06-2.06.94z\"/><path d=\"M17.41 7.96l-1.37-1.37c-.4-.4-.92-.59-1.43-.59-.52 0-1.04.2-1.43.59L10.3 9.45l-7.72 7.72c-.78.78-.78 2.05 0 2.83L4 21.41c.39.39.9.59 1.41.59.51 0 1.02-.2 1.41-.59l7.78-7.78 2.81-2.81c.8-.78.8-2.07 0-2.86zM5.41 20L4 18.59l7.72-7.72 1.47 1.35L5.41 20z\"/>\n",
              "  </svg>\n",
              "      </button>\n",
              "      \n",
              "  <style>\n",
              "    .colab-df-container {\n",
              "      display:flex;\n",
              "      flex-wrap:wrap;\n",
              "      gap: 12px;\n",
              "    }\n",
              "\n",
              "    .colab-df-convert {\n",
              "      background-color: #E8F0FE;\n",
              "      border: none;\n",
              "      border-radius: 50%;\n",
              "      cursor: pointer;\n",
              "      display: none;\n",
              "      fill: #1967D2;\n",
              "      height: 32px;\n",
              "      padding: 0 0 0 0;\n",
              "      width: 32px;\n",
              "    }\n",
              "\n",
              "    .colab-df-convert:hover {\n",
              "      background-color: #E2EBFA;\n",
              "      box-shadow: 0px 1px 2px rgba(60, 64, 67, 0.3), 0px 1px 3px 1px rgba(60, 64, 67, 0.15);\n",
              "      fill: #174EA6;\n",
              "    }\n",
              "\n",
              "    [theme=dark] .colab-df-convert {\n",
              "      background-color: #3B4455;\n",
              "      fill: #D2E3FC;\n",
              "    }\n",
              "\n",
              "    [theme=dark] .colab-df-convert:hover {\n",
              "      background-color: #434B5C;\n",
              "      box-shadow: 0px 1px 3px 1px rgba(0, 0, 0, 0.15);\n",
              "      filter: drop-shadow(0px 1px 2px rgba(0, 0, 0, 0.3));\n",
              "      fill: #FFFFFF;\n",
              "    }\n",
              "  </style>\n",
              "\n",
              "      <script>\n",
              "        const buttonEl =\n",
              "          document.querySelector('#df-5d9b3c6a-f42b-493d-9d55-27325c311ff4 button.colab-df-convert');\n",
              "        buttonEl.style.display =\n",
              "          google.colab.kernel.accessAllowed ? 'block' : 'none';\n",
              "\n",
              "        async function convertToInteractive(key) {\n",
              "          const element = document.querySelector('#df-5d9b3c6a-f42b-493d-9d55-27325c311ff4');\n",
              "          const dataTable =\n",
              "            await google.colab.kernel.invokeFunction('convertToInteractive',\n",
              "                                                     [key], {});\n",
              "          if (!dataTable) return;\n",
              "\n",
              "          const docLinkHtml = 'Like what you see? Visit the ' +\n",
              "            '<a target=\"_blank\" href=https://colab.research.google.com/notebooks/data_table.ipynb>data table notebook</a>'\n",
              "            + ' to learn more about interactive tables.';\n",
              "          element.innerHTML = '';\n",
              "          dataTable['output_type'] = 'display_data';\n",
              "          await google.colab.output.renderOutput(dataTable, element);\n",
              "          const docLink = document.createElement('div');\n",
              "          docLink.innerHTML = docLinkHtml;\n",
              "          element.appendChild(docLink);\n",
              "        }\n",
              "      </script>\n",
              "    </div>\n",
              "  </div>\n",
              "  "
            ]
          },
          "metadata": {},
          "execution_count": 28
        }
      ],
      "source": [
        "# Common words\n",
        "def comm_words(row):\n",
        "  w1 = set(map(lambda word: word.lower().strip(), row['question1'].split(\" \")))\n",
        "  w2 = set(map(lambda word: word.lower().strip(), row['question2'].split(\" \")))\n",
        "  return len(w1 & w2)\n",
        "\n",
        "n_df['common_words'] = n_df.apply(comm_words,axis = 1)\n",
        "n_df.head()"
      ]
    },
    {
      "cell_type": "code",
      "execution_count": null,
      "metadata": {
        "id": "DbTkE47xltSx",
        "colab": {
          "base_uri": "https://localhost:8080/",
          "height": 337
        },
        "outputId": "ba20f6a2-8a9a-4453-d6f4-c241439b18c9"
      },
      "outputs": [
        {
          "output_type": "execute_result",
          "data": {
            "text/plain": [
              "            id    qid1    qid2  \\\n",
              "8067      8067   15738   15739   \n",
              "224279  224279  332326  332327   \n",
              "252452  252452  336023  366789   \n",
              "174039  174039  268330  268331   \n",
              "384863  384863   28901  233483   \n",
              "\n",
              "                                               question1  \\\n",
              "8067                  How do I play Pokémon GO in Korea?   \n",
              "224279          Will a breathing treatment help a cough?   \n",
              "252452     Is Kellyanne Conway annoying in your opinion?   \n",
              "174039  How do you rate (1-10) and review Maruti Baleno?   \n",
              "384863            What are some good books on marketing?   \n",
              "\n",
              "                                                question2  is_duplicate  \\\n",
              "8067                   How do I play Pokémon GO in China?             0   \n",
              "224279  How can I help someone that is unconscious but...             0   \n",
              "252452  Did Kellyanne Conway really imply that we shou...             0   \n",
              "174039  What career options does one have after comple...             0   \n",
              "384863  What are some of the best books ever written a...             1   \n",
              "\n",
              "        q1_len  q2_len  q1_num_words  q2_num_words  common_words  Total words  \n",
              "8067        34      34             8             8             7           16  \n",
              "224279      40      63             7            11             1           17  \n",
              "252452      45     118             7            21             2           27  \n",
              "174039      48     127             9            20             0           27  \n",
              "384863      38      61             7            11             5           18  "
            ],
            "text/html": [
              "\n",
              "  <div id=\"df-d907a249-a838-4389-a6ba-7ad1f828c112\">\n",
              "    <div class=\"colab-df-container\">\n",
              "      <div>\n",
              "<style scoped>\n",
              "    .dataframe tbody tr th:only-of-type {\n",
              "        vertical-align: middle;\n",
              "    }\n",
              "\n",
              "    .dataframe tbody tr th {\n",
              "        vertical-align: top;\n",
              "    }\n",
              "\n",
              "    .dataframe thead th {\n",
              "        text-align: right;\n",
              "    }\n",
              "</style>\n",
              "<table border=\"1\" class=\"dataframe\">\n",
              "  <thead>\n",
              "    <tr style=\"text-align: right;\">\n",
              "      <th></th>\n",
              "      <th>id</th>\n",
              "      <th>qid1</th>\n",
              "      <th>qid2</th>\n",
              "      <th>question1</th>\n",
              "      <th>question2</th>\n",
              "      <th>is_duplicate</th>\n",
              "      <th>q1_len</th>\n",
              "      <th>q2_len</th>\n",
              "      <th>q1_num_words</th>\n",
              "      <th>q2_num_words</th>\n",
              "      <th>common_words</th>\n",
              "      <th>Total words</th>\n",
              "    </tr>\n",
              "  </thead>\n",
              "  <tbody>\n",
              "    <tr>\n",
              "      <th>8067</th>\n",
              "      <td>8067</td>\n",
              "      <td>15738</td>\n",
              "      <td>15739</td>\n",
              "      <td>How do I play Pokémon GO in Korea?</td>\n",
              "      <td>How do I play Pokémon GO in China?</td>\n",
              "      <td>0</td>\n",
              "      <td>34</td>\n",
              "      <td>34</td>\n",
              "      <td>8</td>\n",
              "      <td>8</td>\n",
              "      <td>7</td>\n",
              "      <td>16</td>\n",
              "    </tr>\n",
              "    <tr>\n",
              "      <th>224279</th>\n",
              "      <td>224279</td>\n",
              "      <td>332326</td>\n",
              "      <td>332327</td>\n",
              "      <td>Will a breathing treatment help a cough?</td>\n",
              "      <td>How can I help someone that is unconscious but...</td>\n",
              "      <td>0</td>\n",
              "      <td>40</td>\n",
              "      <td>63</td>\n",
              "      <td>7</td>\n",
              "      <td>11</td>\n",
              "      <td>1</td>\n",
              "      <td>17</td>\n",
              "    </tr>\n",
              "    <tr>\n",
              "      <th>252452</th>\n",
              "      <td>252452</td>\n",
              "      <td>336023</td>\n",
              "      <td>366789</td>\n",
              "      <td>Is Kellyanne Conway annoying in your opinion?</td>\n",
              "      <td>Did Kellyanne Conway really imply that we shou...</td>\n",
              "      <td>0</td>\n",
              "      <td>45</td>\n",
              "      <td>118</td>\n",
              "      <td>7</td>\n",
              "      <td>21</td>\n",
              "      <td>2</td>\n",
              "      <td>27</td>\n",
              "    </tr>\n",
              "    <tr>\n",
              "      <th>174039</th>\n",
              "      <td>174039</td>\n",
              "      <td>268330</td>\n",
              "      <td>268331</td>\n",
              "      <td>How do you rate (1-10) and review Maruti Baleno?</td>\n",
              "      <td>What career options does one have after comple...</td>\n",
              "      <td>0</td>\n",
              "      <td>48</td>\n",
              "      <td>127</td>\n",
              "      <td>9</td>\n",
              "      <td>20</td>\n",
              "      <td>0</td>\n",
              "      <td>27</td>\n",
              "    </tr>\n",
              "    <tr>\n",
              "      <th>384863</th>\n",
              "      <td>384863</td>\n",
              "      <td>28901</td>\n",
              "      <td>233483</td>\n",
              "      <td>What are some good books on marketing?</td>\n",
              "      <td>What are some of the best books ever written a...</td>\n",
              "      <td>1</td>\n",
              "      <td>38</td>\n",
              "      <td>61</td>\n",
              "      <td>7</td>\n",
              "      <td>11</td>\n",
              "      <td>5</td>\n",
              "      <td>18</td>\n",
              "    </tr>\n",
              "  </tbody>\n",
              "</table>\n",
              "</div>\n",
              "      <button class=\"colab-df-convert\" onclick=\"convertToInteractive('df-d907a249-a838-4389-a6ba-7ad1f828c112')\"\n",
              "              title=\"Convert this dataframe to an interactive table.\"\n",
              "              style=\"display:none;\">\n",
              "        \n",
              "  <svg xmlns=\"http://www.w3.org/2000/svg\" height=\"24px\"viewBox=\"0 0 24 24\"\n",
              "       width=\"24px\">\n",
              "    <path d=\"M0 0h24v24H0V0z\" fill=\"none\"/>\n",
              "    <path d=\"M18.56 5.44l.94 2.06.94-2.06 2.06-.94-2.06-.94-.94-2.06-.94 2.06-2.06.94zm-11 1L8.5 8.5l.94-2.06 2.06-.94-2.06-.94L8.5 2.5l-.94 2.06-2.06.94zm10 10l.94 2.06.94-2.06 2.06-.94-2.06-.94-.94-2.06-.94 2.06-2.06.94z\"/><path d=\"M17.41 7.96l-1.37-1.37c-.4-.4-.92-.59-1.43-.59-.52 0-1.04.2-1.43.59L10.3 9.45l-7.72 7.72c-.78.78-.78 2.05 0 2.83L4 21.41c.39.39.9.59 1.41.59.51 0 1.02-.2 1.41-.59l7.78-7.78 2.81-2.81c.8-.78.8-2.07 0-2.86zM5.41 20L4 18.59l7.72-7.72 1.47 1.35L5.41 20z\"/>\n",
              "  </svg>\n",
              "      </button>\n",
              "      \n",
              "  <style>\n",
              "    .colab-df-container {\n",
              "      display:flex;\n",
              "      flex-wrap:wrap;\n",
              "      gap: 12px;\n",
              "    }\n",
              "\n",
              "    .colab-df-convert {\n",
              "      background-color: #E8F0FE;\n",
              "      border: none;\n",
              "      border-radius: 50%;\n",
              "      cursor: pointer;\n",
              "      display: none;\n",
              "      fill: #1967D2;\n",
              "      height: 32px;\n",
              "      padding: 0 0 0 0;\n",
              "      width: 32px;\n",
              "    }\n",
              "\n",
              "    .colab-df-convert:hover {\n",
              "      background-color: #E2EBFA;\n",
              "      box-shadow: 0px 1px 2px rgba(60, 64, 67, 0.3), 0px 1px 3px 1px rgba(60, 64, 67, 0.15);\n",
              "      fill: #174EA6;\n",
              "    }\n",
              "\n",
              "    [theme=dark] .colab-df-convert {\n",
              "      background-color: #3B4455;\n",
              "      fill: #D2E3FC;\n",
              "    }\n",
              "\n",
              "    [theme=dark] .colab-df-convert:hover {\n",
              "      background-color: #434B5C;\n",
              "      box-shadow: 0px 1px 3px 1px rgba(0, 0, 0, 0.15);\n",
              "      filter: drop-shadow(0px 1px 2px rgba(0, 0, 0, 0.3));\n",
              "      fill: #FFFFFF;\n",
              "    }\n",
              "  </style>\n",
              "\n",
              "      <script>\n",
              "        const buttonEl =\n",
              "          document.querySelector('#df-d907a249-a838-4389-a6ba-7ad1f828c112 button.colab-df-convert');\n",
              "        buttonEl.style.display =\n",
              "          google.colab.kernel.accessAllowed ? 'block' : 'none';\n",
              "\n",
              "        async function convertToInteractive(key) {\n",
              "          const element = document.querySelector('#df-d907a249-a838-4389-a6ba-7ad1f828c112');\n",
              "          const dataTable =\n",
              "            await google.colab.kernel.invokeFunction('convertToInteractive',\n",
              "                                                     [key], {});\n",
              "          if (!dataTable) return;\n",
              "\n",
              "          const docLinkHtml = 'Like what you see? Visit the ' +\n",
              "            '<a target=\"_blank\" href=https://colab.research.google.com/notebooks/data_table.ipynb>data table notebook</a>'\n",
              "            + ' to learn more about interactive tables.';\n",
              "          element.innerHTML = '';\n",
              "          dataTable['output_type'] = 'display_data';\n",
              "          await google.colab.output.renderOutput(dataTable, element);\n",
              "          const docLink = document.createElement('div');\n",
              "          docLink.innerHTML = docLinkHtml;\n",
              "          element.appendChild(docLink);\n",
              "        }\n",
              "      </script>\n",
              "    </div>\n",
              "  </div>\n",
              "  "
            ]
          },
          "metadata": {},
          "execution_count": 29
        }
      ],
      "source": [
        "# Total words\n",
        "def tot_words(row):\n",
        "  w1 = set(map(lambda word: word.lower().strip(), row['question1'].split(\" \")))\n",
        "  w2 = set(map(lambda word: word.lower().strip(), row['question2'].split(\" \")))\n",
        "  return (len(w1) + len(w2))\n",
        "\n",
        "n_df['Total words'] = n_df.apply(tot_words,axis=1)\n",
        "n_df.head()"
      ]
    },
    {
      "cell_type": "markdown",
      "source": [
        "# Analysis of Features"
      ],
      "metadata": {
        "id": "RrFtrfAF8Sto"
      }
    },
    {
      "cell_type": "code",
      "execution_count": null,
      "metadata": {
        "id": "KL_GuL6nmPN5",
        "colab": {
          "base_uri": "https://localhost:8080/",
          "height": 420
        },
        "outputId": "c6a0ffbe-3518-4741-81c8-32651c49444f"
      },
      "outputs": [
        {
          "output_type": "stream",
          "name": "stdout",
          "text": [
            "Minimum number of characters 1\n",
            "Maximum number of characters 430\n",
            "Average number of characters 59\n"
          ]
        },
        {
          "output_type": "display_data",
          "data": {
            "text/plain": [
              "<Figure size 360x360 with 1 Axes>"
            ],
            "image/png": "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\n"
          },
          "metadata": {}
        }
      ],
      "source": [
        "# analysis of q1_len\n",
        "n_df['word share'] = round(n_df['common_words'] / n_df['Total words'],2)\n",
        "\n",
        "sns.displot(n_df['q1_len'])\n",
        "print('Minimum number of characters', n_df['q1_len'].min())\n",
        "print('Maximum number of characters', n_df['q1_len'].max())\n",
        "print('Average number of characters', int(n_df['q1_len'].mean()))"
      ]
    },
    {
      "cell_type": "markdown",
      "source": [
        "Clearly,the outliers can be distinguished in the dataset.\n",
        "Mostly the histogram is saturated so outliers won't be a problem."
      ],
      "metadata": {
        "id": "UUDazIwE8rNK"
      }
    },
    {
      "cell_type": "code",
      "execution_count": null,
      "metadata": {
        "id": "sH4t_9wpnETA",
        "colab": {
          "base_uri": "https://localhost:8080/",
          "height": 420
        },
        "outputId": "357b97b2-48f4-4452-9b8f-679a8cc633ee"
      },
      "outputs": [
        {
          "output_type": "stream",
          "name": "stdout",
          "text": [
            "Minimum number of characters 7\n",
            "Maximum number of characters 1169\n",
            "Average number of characters 60\n"
          ]
        },
        {
          "output_type": "display_data",
          "data": {
            "text/plain": [
              "<Figure size 360x360 with 1 Axes>"
            ],
            "image/png": "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\n"
          },
          "metadata": {}
        }
      ],
      "source": [
        "# Analysis of q2_len\n",
        "sns.displot(n_df['q2_len'])\n",
        "print('Minimum number of characters', n_df['q2_len'].min())\n",
        "print('Maximum number of characters', n_df['q2_len'].max())\n",
        "print('Average number of characters', int(n_df['q2_len'].mean()))"
      ]
    },
    {
      "cell_type": "markdown",
      "source": [
        "Clearly, the outliers can be distinguished in the dataset.\n",
        "Mostly the histogram is saturated so outliers won't be a problem."
      ],
      "metadata": {
        "id": "hpagcYZZ9SIs"
      }
    },
    {
      "cell_type": "code",
      "execution_count": null,
      "metadata": {
        "id": "Ci6fqnMnnUQP",
        "colab": {
          "base_uri": "https://localhost:8080/",
          "height": 824
        },
        "outputId": "82b07084-3bde-48bc-a2c4-8ed6ad7459e6"
      },
      "outputs": [
        {
          "output_type": "stream",
          "name": "stdout",
          "text": [
            "Minimum number of characters 1\n",
            "Maximum number of characters 81\n",
            "Average number of characters 10\n",
            "Minimum number of characters 1\n",
            "Maximum number of characters 237\n",
            "Average number of characters 11\n"
          ]
        },
        {
          "output_type": "display_data",
          "data": {
            "text/plain": [
              "<Figure size 360x360 with 1 Axes>"
            ],
            "image/png": "iVBORw0KGgoAAAANSUhEUgAAAVwAAAFcCAYAAACEFgYsAAAABHNCSVQICAgIfAhkiAAAAAlwSFlzAAALEgAACxIB0t1+/AAAADh0RVh0U29mdHdhcmUAbWF0cGxvdGxpYiB2ZXJzaW9uMy4yLjIsIGh0dHA6Ly9tYXRwbG90bGliLm9yZy+WH4yJAAAgAElEQVR4nO3de3BU9f3/8dduwkZjAmsuhE2gZWSURqkFcmHslHYaoEk1gJ3+qEwG2qLUVuWiTKhUMFEoX5uE0haERqrTTlsGRh0hBpHEik7VtgilqJkgeDc2K5ANqQTIbff8/ohsCc1lSbKf3WSfjxmH3fM+l88byIvjZ885a7MsyxIAIOjsoR4AAEQKAhcADCFwAcAQAhcADCFwAcAQAhcADIkO9QBCyeNpls/X81VxV18dq9OnzxkcUXiJ5P4juXcpsvsfaO/JyfE91jjD7UV0dFSohxBSkdx/JPcuRXb/weydwAUAQwhcADCEwAUAQwhcADCEwAUAQwhcADCEwAUAQwhcADCEwAUAQwhcADDE2LMU7r77bn3yySey2+2KjY3Vgw8+qPT0dOXk5MjhcCgmJkaSVFhYqOnTp0uSjhw5oqKiIrW2tiotLU1lZWVKTEzsswYA4chm6jvNzpw5o/j4zoc6/OUvf9GWLVu0a9cu5eTkqLy8XNddd12X9X0+n3Jzc/XII48oMzNTW7duVV1dnR555JFea5ejr4fXJCfH69SpM5ff7GWw2Tp/DcdvljPRf7iK5N6lyO5/oL2HxcNrLoStJDU3N8t2IWl6UFNTo5iYGGVmZkqS5s+fr3379vVZG0psNmlbZa22Vdaqj98OAMOA0cczrl69Wq+99posy9Ljjz/uX15YWCjLspSRkaEVK1Zo5MiRcrvdSk1N9a+TkJAgn8+npqamXmtOpzPg8SQmxvW5Tm//Wg2Gjs/PsJOSgnuc/gp2/+EsknuXIrv/YPVuNHDXr18vSdq9e7dKS0v1u9/9Ttu3b5fL5VJbW5vWr1+vtWvXasOGDUbGE+opBZtN6mj3SpIaGs6E3bQC/1sZmb1Lkd3/sJhSuNitt96qAwcO6PTp03K5XJIkh8OhgoICHT58WJLkcrlUX1/v36axsVF2u11Op7PXGgCEKyOBe/bsWbndbv/7/fv3a9SoUYqJidGZM53/kliWpb179yo9PV2SNGnSJLW0tOjQoUOSpJ07dyovL6/PGgCEKyNTCufPn9fy5ct1/vx52e12jRo1SuXl5fJ4PFq6dKm8Xq98Pp8mTJig4uJiSZLdbldpaamKi4u7XPrVVw0AwpWxy8LCUTjM4W56+k1J0rL/dyNzuGEkknuXIrv/YTeHCwCRiMAFAEMIXAAwhMANI9xtBgxvBG6YsNmkP1UfJ3SBYYzADSMtrR2hHgKAICJwAcAQAhcADCFwAcAQAhcADCFwAcAQAhcADCFwAcAQAhcADCFwAcAQAhcADCFwAcAQAhcADCFwAcAQAhcADCFwAcAQAhcADCFwAcAQAhcADCFwQ4DvLQMiE4FrGF8WCUQuAjcE+LJIIDIRuABgCIELAIYQuABgCIELAIZEmzrQ3XffrU8++UR2u12xsbF68MEHlZ6erg8++ECrVq1SU1OTnE6nSkpKNH78eEnqdw0AwpGxM9ySkhI9++yz2r17t26//XY98MADkqTi4mIVFBSoqqpKBQUFKioq8m/T3xoAhCNjgRsfH+9/3dzcLJvNJo/Ho9raWuXn50uS8vPzVVtbq8bGxn7XACBcGZtSkKTVq1frtddek2VZevzxx+V2u5WSkqKoqChJUlRUlEaPHi232y3LsvpVS0hICHg8iYlxfa6TnBzf5zqXK3pElJKS4v2vO8cS32V5uAhG/0NFJPcuRXb/werdaOCuX79ekrR7926VlpZq+fLlJg//PzyeZvl8Vo/15OR4nTp1ZlCPabNJHe1eNTR07rej3fv5WM74l1s9D8moYPQ/VERy71Jk9z/Q3nsL65BcpXDrrbfqwIEDGjNmjE6cOCGvtzN0vF6vTp48KZfLJZfL1a8aAIQrI4F79uxZud1u//v9+/dr1KhRSkxMVHp6uvbs2SNJ2rNnj9LT05WQkNDvGgCEKyNTCufPn9fy5ct1/vx52e12jRo1SuXl5bLZbHrooYe0atUqbd26VSNHjlRJSYl/u/7WACAcGQncpKQkPfnkk93WJkyYoKeeempQawAQjrjTDAAMIXDDGM/MBYYXAjdM8aByYPghcMMYDyoHhhcCFwAMIXABwBACFwAMIXABwBACFwAMIXABwBACFwAMIXABwBACFwAMIXABwBACFwAMIXABwBACFwAMIXABwBACFwAMIXABwBACFwAMIXABwBACFwAMIXABwBACFwAMIXABwBACFwAMIXABwBACFwAMIXABwBACFwAMiTZxkNOnT+unP/2pPv74YzkcDn3xi1/U2rVrlZCQoIkTJ+q6666T3d6Z/aWlpZo4caIkaf/+/SotLZXX69UNN9ygRx55RFdeeWWfNQAIR0bOcG02mxYvXqyqqipVVlZq3Lhx2rBhg7++c+dOVVRUqKKiwh+2Z8+e1YMPPqjy8nK98MILuuqqq/TEE0/0WQOAcGUkcJ1Op6ZNm+Z/P3nyZNXX1/e6zV//+ldNmjRJ48ePlyTNnz9fzz//fJ81AAhXRqYULubz+bRjxw7l5OT4ly1cuFBer1df//rXtXTpUjkcDrndbqWmpvrXSU1NldvtlqReawAQrowH7rp16xQbG6sFCxZIkl5++WW5XC41Nzdr5cqV2rJli+677z4jY0lMjOtzneTk+EE/bvSIKCUlxftfd44lvsvyS9cLlWD0P1REcu9SZPcfrN6NBm5JSYk++ugjlZeX+z8kc7lckqS4uDjNmzdPv//97/3LDxw44N+2vr7ev25vtcvh8TTL57N6rCcnx+vUqTOXvd/e2GxSR7tXDQ2d++1o934+ljP+5ZbVdT2r5yEGVTD6HyoiuXcpsvsfaO+9hbWxy8I2btyompoabdmyRQ6HQ5L0n//8Ry0tLZKkjo4OVVVVKT09XZI0ffp0vfXWW/rwww8ldX6w9u1vf7vPGgCEKyNnuO+8844ee+wxjR8/XvPnz5ckjR07VosXL1ZRUZFsNps6Ojo0ZcoULV++XFLnGe/atWv14x//WD6fT+np6Vq9enWfNQAIV0YC99prr9WxY8e6rVVWVva43cyZMzVz5szLrgFAOOJOMwAwhMAFAEMIXAAwhMAFAEMIXAAwhMAFAEMIXAAwhMAFAEMIXAAwhMAdImy2UI8AwEARuEOAzSb9qfo4oQsMcQTuENHS2hHqIQAYIOMPII9UnJ0C4AzXAJtN2lZZq22VtQQvEME4wzWEKQEAnOECgCEELgAYQuACgCEELgAYQuACgCEELgAYQuACgCEELgAYQuACgCEELgAYQuACgCEELgAYQuACgCEELgAYQuACgCEELgAYQuACgCEBB+7zzz/f7fJ9+/b1ue3p06f1ox/9SLm5uZo9e7aWLFmixsZGSdKRI0c0Z84c5ebm6vbbb5fH4/Fv198aAISjgAN39erV3S4vKirqc1ubzabFixerqqpKlZWVGjdunDZs2CCfz6eVK1eqqKhIVVVVyszM1IYNGySp3zUACFd9Bm5dXZ3q6upkWZb/9YX//va3v8nhcPR5EKfTqWnTpvnfT548WfX19aqpqVFMTIwyMzMlSfPnz/efMfe3BgDhqs8vkZw1a5ZsNpssy9KsWbO61JKSkrR06dLLOqDP59OOHTuUk5Mjt9ut1NRUfy0hIUE+n09NTU39rjmdzoDHkpgY1+c6ycnxAe+vN9Ejoj4/ZryiR0QpKSm+1+UXahevd3HNlMHqfyiK5N6lyO4/WL33Gbhvv/22JGnBggX685//POADrlu3TrGxsVqwYIFeeOGFAe9vIDyeZvl8Vo/15OR4nTp1ZsDHsdmkjnbv58c8o452rxoaOvfb3XLL+u82F693oWbKYPU/FEVy71Jk9z/Q3nsL64C/Jn0wwrakpEQfffSRysvLZbfb5XK5VF9f7683NjbKbrfL6XT2uwYA4SrgwK2rq9Ovf/1rHT16VOfOnetSe/nll/vcfuPGjaqpqdG2bdv8876TJk1SS0uLDh06pMzMTO3cuVN5eXkDqgFAuAo4cAsLCzVu3Djdf//9uvLKKy/rIO+8844ee+wxjR8/XvPnz5ckjR07Vlu2bFFpaamKi4vV2tqqtLQ0lZWVSZLsdnu/agAQrgIO3HfeeUc7duyQ3X7590pce+21OnbsWLe1qVOnqrKyclBrABCOAk7PrKws1dbWBnMsADCsBXyGm5aWpsWLF2vWrFlKSkrqUlu+fPmgDwwAhpuAA/f8+fP65je/qY6ODn366afBHBMADEsBB+4jjzwSzHEAwLB3WZeF9WTcuHGDMhgAGM4CDtyLb/G9wGazSZKOHj06+CMDgGEm4MC9cIvvBadOndKjjz7qf4AMzLHZZPQWXwCDo98PIE9OTtbq1au1cePGwRwP+mCzSX+qPq7P/+cCwBAyoG98eP/993X+/PnBGgsC1NLaEeohAOiHgKcUCgoK/HO2UudlYu+++67uueeeoAwMAIabgAN33rx5Xd5feeWV+tKXvqTx48cP9pgAYFgKOHC/853vBHMcADDsBTyH297erk2bNmnGjBn68pe/rBkzZmjTpk1qa2sL5vgAYNgI+Ay3rKxMb775ph5++GGlpqaqvr5eW7duVXNzsx544IFgjhEAhoWAA3ffvn2qqKjQ1VdfLUm65pprdP3112vu3LkELgAEIOApBauHK+17Wg4A6CrgwM3Ly9Ndd92lV155Re+9957++te/6p577uGrbQAgQAFPKaxcuVK//e1vtXbtWp08eVIpKSm65ZZbdNdddwVzfAAwbPR5hvvPf/5TZWVlcjgcWr58uV544QW98cYbqq6uVltbG98CAQAB6jNwH3vsMWVlZXVbmzZtmsrLywd9UAAwHPUZuEePHtX06dO7rX31q19VTU3NoA8KAIajPgO3ublZ7e3t3dY6Ojp09uzZQR8UAAxHfQbuNddco1dffbXb2quvvqprrrlm0AcFAMNRn4H7wx/+UMXFxaqurpbP55Mk+Xw+VVdX66GHHtKiRYuCPkgAGA76vCxs9uzZamho0P3336/29nY5nU41NTVpxIgRWrZsmfLz802MEwCGvICuw120aJHmzZunf/3rX2pqapLT6dSUKVMUFxcX7PEBwLAR8I0PcXFxPV6tAADo24C+YgcAEDgCFwAMIXABwBACFwAMMRa4JSUlysnJ0cSJE3X8+HH/8pycHOXl5Wnu3LmaO3euXnnlFX/tyJEjmjNnjnJzc3X77bfL4/EEVAOAcGQscGfMmKHt27crLS3tf2qbNm1SRUWFKioq/FdC+Hw+rVy5UkVFRaqqqlJmZqY2bNjQZw0AwpWxwM3MzJTL5Qp4/ZqaGsXExCgzM1OSNH/+fO3bt6/PGgCEq4Cvww2mwsJCWZaljIwMrVixQiNHjpTb7VZqaqp/nYSEBPl8PjU1NfVaczqdAR83MbHvGzeSk+Mvr5keRI+I+vyY8YoeEaWkpPhel1+oXbxed6+DbbD6H4oiuXcpsvsPVu8hD9zt27fL5XKpra1N69ev19q1a41ND3g8zfL5ev5OtuTkeJ06dWbAx7HZpI527+fHPKOOdq8aGjr3291yy/rvNhevd+nrYH+d3GD1PxRFcu9SZPc/0N57C+uQX6VwYZrB4XCooKBAhw8f9i+vr6/3r9fY2Ci73S6n09lrDQDCVUgD99y5czpzpvNfEsuytHfvXqWnp0uSJk2apJaWFh06dEiStHPnTv8XVvZWA4BwZWxK4ec//7mqq6vV0NCgRYsWyel0qry8XEuXLpXX65XP59OECRNUXFwsSbLb7SotLVVxcbFaW1uVlpamsrKyPmsAEK6MBe6aNWu0Zs2a/1m+e/fuHreZOnWqKisrL7sGAOEo5HO4ABApCFwAMITAHeJsts7/AIQ/AjeIgh2ENpu0rbJW2yprCV1gCCBwg8Rmk/5UfTzoQdjS2qGW1o7gHgTAoCBwg4ggBHAxAhcADCFwAcAQAhcADCFwAcAQAhcADCFwAcAQAhcADCFwhxHuNgPCG4E7TJi6sw1A/xG4wwh3tgHhjcAFAEMIXAAwhMAFAEMIXAAwhMAFAEMIXAAwhMAFAEMIXAAwhMAFAEMIXAAwhMAFAEMIXAAwhMAFAEMIXAAwhMAFAEOMBG5JSYlycnI0ceJEHT9+3L/8gw8+0G233abc3Fzddttt+vDDDwdcA4BwZSRwZ8yYoe3btystLa3L8uLiYhUUFKiqqkoFBQUqKioacA0AwpWRwM3MzJTL5eqyzOPxqLa2Vvn5+ZKk/Px81dbWqrGxsd81AAhn0aE6sNvtVkpKiqKioiRJUVFRGj16tNxutyzL6lctISEhVO0AQJ9CFrjhIDExrs91kpPj+73/6BFRSkqK97/uPGZ8QMu7276n1z1tPxgG0v9QF8m9S5Hdf7B6D1ngulwunThxQl6vV1FRUfJ6vTp58qRcLpcsy+pX7XJ5PM3y+awe68nJ8Tp16ky/+rPZpI52rxoaOrfvaPd+fswzfS63rO637+l1d9sPhoH0P9RFcu9SZPc/0N57C+uQXRaWmJio9PR07dmzR5K0Z88epaenKyEhod81AAhnRs5wf/7zn6u6uloNDQ1atGiRnE6nnnvuOT300ENatWqVtm7dqpEjR6qkpMS/TX9r6GSzdf46WGe7AAbOSOCuWbNGa9as+Z/lEyZM0FNPPdXtNv2toTNst1XWSpLunH09oQuEiYj+0Gw4a2ntCPUQAFyCW3sBwBACFwAMIXABwBACFwAMIXABwBACFwAMIXAjxIUbIQCEDoEbAWw26U/VxwldIMQI3AjBjRBA6BG4AGAIgQsAhhC4AGAIgQsAhhC4AGAIgQsAhhC4g4jrXAH0hsAdJNxcAKAvBO4g4uYCAL0hcAHAEAIXAAwhcAHAEAIXAAwhcAHAEAIXAAwhcCMQ1woDoUHgRhhu0ABCh8CNQNygAYQGgQsAhhC4AGAIgQsAhkSHegCSlJOTI4fDoZiYGElSYWGhpk+friNHjqioqEitra1KS0tTWVmZEhMTJanXGgCEo7A5w920aZMqKipUUVGh6dOny+fzaeXKlSoqKlJVVZUyMzO1YcMGSeq1BgDhKmwC91I1NTWKiYlRZmamJGn+/Pnat29fnzUACFdhMaUgdU4jWJaljIwMrVixQm63W6mpqf56QkKCfD6fmpqaeq05nc5QDH/Istkkywr1KIDIEBaBu337drlcLrW1tWn9+vVau3atZs2aFfTjJibG9blOcnJ8wPuLHhGlpKT4bt9Hj4j6/JjxAS3vbvueXve237623/zkES393uRB6X+4ieTepcjuP1i9h0XgulwuSZLD4VBBQYHuuusuff/731d9fb1/ncbGRtntdjmdTrlcrh5rl8PjaZbP1/PpXXJyvE6dOhPQvmw2qaPdq4aGM7Ksru+lztedxzzT5/Ketu/pdW/77Wv75rOt/mMOpP/hJpJ7lyK7/4H23ltYh3wO99y5czpzprM5y7K0d+9epaena9KkSWppadGhQ4ckSTt37lReXp4k9VoDgHAV8jNcj8ejpUuXyuv1yufzacKECSouLpbdbldpaamKi4u7XPolqdcaAISrkAfuuHHjtHv37m5rU6dOVWVl5WXX0D98gAYEV8inFBAeeIoYEHwELvx4ihgQXAQuABhC4AKAIQQuABhC4KJbfHgGDL6QXxaG8GOzSdsqazUiOkqLvj2RS8WAQULgolstrR3quOi2Z67RBQaOKQX0iWt0gcFB4CIgXKMLDByBCwCGELgAYAiBi8tis3HJGNBfBC4CduFysW2VtYQu0A9cFjYIIil8+PAM6D/OcAeIS6YABIrAHQSc9QEIBIGLQcNZPtA7AhcDciFkmVoB+kbgot8uDVmmVoDeEbgYEEIWCByBCyOYagAIXBjA/C7QicBFUFwarhemHrg1GJGMwMWg6+mMtrtbgwlfRBICF0HR04dpLa0dXc52mWpAJCFwEVJc5YBIQuACgCEELsICH6YhEhC4CDmes4tIwfNwERaYy0Uk4AwXYam7S8qAoW5IB+4HH3yg2267Tbm5ubrtttv04YcfhnpIGASXXi528XuCGEPZkA7c4uJiFRQUqKqqSgUFBSoqKgr1kDBILp1iaGntGJQgJqARSkN2Dtfj8ai2tla///3vJUn5+flat26dGhsblZCQENA+7Pa+f/ourNPbD/DohFhFRdn8v1pW1+WSlJIYK0ld1utpeXfb9/Q6kP32tn1v+42Oivqf2uXu99Jeetq+p+WXbj/yKkeX5SOvcig62qY9f/tYt9z0Bf/y5/7+3/cX/1l1t7y7P9Md1W8rL2tsr+sNdxf+LCLRxb0P5t8Bm2UNzb9SNTU1uv/++/Xcc8/5l918880qKyvTDTfcEMKRAUD3hvSUAgAMJUM2cF0ul06cOCGv1ytJ8nq9OnnypFwuV4hHBgDdG7KBm5iYqPT0dO3Zs0eStGfPHqWnpwc8fwsApg3ZOVxJeu+997Rq1Sp99tlnGjlypEpKSnTNNdeEelgA0K0hHbgAMJQM2SkFABhqCFwAMITABQBDCFwAMITA7UakPRTn9OnT+tGPfqTc3FzNnj1bS5YsUWNjoyTpyJEjmjNnjnJzc3X77bfL4/GEeLTB8+ijj2rixIk6fvy4pMjpvbW1VcXFxfrWt76l2bNn68EHH5QUGT8HL730km699VbNnTtXc+bMUXV1taQg9m7hfyxcuNDavXu3ZVmWtXv3bmvhwoUhHlFwnT592vrHP/7hf/+LX/zC+tnPfmZ5vV5r5syZ1sGDBy3LsqwtW7ZYq1atCtUwg6qmpsa64447rG9+85vWsWPHIqr3devWWevXr7d8Pp9lWZZ16tQpy7KG/8+Bz+ezMjMzrWPHjlmWZVlHjx61Jk+ebHm93qD1TuBeoqGhwcrIyLA6Ojosy7Ksjo4OKyMjw/J4PCEemTn79u2zfvCDH1hvvPGGdcstt/iXezwea/LkySEcWXC0trZa3/ve96y6ujp/4EZK783NzVZGRobV3NzcZXkk/Bz4fD4rOzvbOnTokGVZlvX6669b3/rWt4La+5B9WliwuN1upaSkKCoqSpIUFRWl0aNHy+12R8RdbD6fTzt27FBOTo7cbrdSU1P9tYSEBPl8PjU1NcnpdIZwlIPrN7/5jebMmaOxY8f6l0VK73V1dXI6nXr00Ud14MABXXXVVVq+fLmuuOKKYf9zYLPZ9Otf/1p33323YmNjdfbsWW3bti2oGcAcLrpYt26dYmNjtWDBglAPxYh//etfqqmpUUFBQaiHEhJer1d1dXW6/vrr9cwzz6iwsFBLly7VuXPnQj20oOvo6NBjjz2mrVu36qWXXtJvf/tb3XvvvUHtnTPcS1z8UJyoqKiIeihOSUmJPvroI5WXl8tut8vlcqm+vt5fb2xslN1uH1ZneAcPHtR7772nGTNmSJI+/fRT3XHHHVq4cOGw713q/PseHR2t/Px8SdJXvvIVXX311briiiuG/c/B0aNHdfLkSWVkZEiSMjIydOWVVyomJiZovXOGe4lIfSjOxo0bVVNToy1btsjhcEiSJk2apJaWFh06dEiStHPnTuXl5YVymIPuzjvv1Kuvvqr9+/dr//79GjNmjJ544gktXrx42PcudU6VTJs2Ta+99pqkzk/nPR6Pxo8fP+x/DsaMGaNPP/1U77//vqTOZ7N4PB598YtfDFrvPEuhG5H2UJx33nlH+fn5Gj9+vK644gpJ0tixY7VlyxYdPnxYxcXFam1tVVpamsrKypSUlBTiEQdPTk6OysvLdd1110VM73V1dXrggQfU1NSk6Oho3XvvvfrGN74RET8Hzz77rH73u9/J9vlXuixbtkwzZ84MWu8ELgAYwpQCABhC4AKAIQQuABhC4AKAIQQuABhC4AJDzObNm1VYWBjqYaAfCFyElba2Ni1btkw5OTmaOHGiDhw4EOohAYOGwEXYmTp1qkpLS5WcnBzqoYRcR0dHqIeAQUTgIiRqa2v1ne98R1OmTNG9996r++67T7/61a/kcDj0wx/+UJmZmbLbA//ruWrVKj388MO68847NWXKFM2bN08ff/yxJOmTTz7RxIkTu4TXwoUL9dRTT0mSnnnmGc2fP1//93//p8zMTM2YMUOHDx/WM888o2984xu66aabtGvXrl6PX1dXp8zMTPl8PknSmjVrdNNNN/nrK1eu1B/+8AdJ0okTJ/STn/xE2dnZmjVrlp588kn/eps3b9ayZctUWFioqVOnateuXaqrq9OCBQs0ZcoULVq0SKdPn/av39raqsLCQk2bNk2ZmZn67ne/q4aGhoB/32AWgQvj2tradM8992ju3Ll6/fXXlZeX53/S/kDs3btXS5Ys0cGDB/WFL3xBv/rVrwLe9s033/RPYeTn52vFihV666239MILL6isrExr167V2bNne9x+3LhxiouLU21traTOh+LExsbqvffe87/Pzs6WJK1YsUJjxozRK6+8ok2bNmnjxo36+9//7t/Xiy++qLy8PB06dEizZ89WYWGhbrjhBh04cEB33313l/DftWuXmpub9fLLL+vAgQN6+OGH/bdnI/wQuDDujTfeUHt7u37wgx9oxIgRysvL05e//OUB73fmzJm68cYbFR0drTlz5ujo0aMBbzt27Fh997vfVVRUlG6++Wa53W7dc889cjgc+trXviaHw+E/Y+5JVlaWDh48qFOnTkmScnNz9frrr6uurk7Nzc360pe+JLfbrcOHD6uwsFAxMTFKT0/XvHnzVFFR4d/P5MmTNXPmTNntdjU2Nuqtt97S8uXL5XA4lJWVpZycHP+60dHRampq0kcffaSoqChNmjRJcXFxl/k7B1N4PCOMO3nypFJSUvwPDJHU5WHf/XXxg2WuuOKKy3quaWJiYpdtL91fTExMr2e4kpSdna0XX3xRKSkpysrK0rRp01RRUaGYmBj/FMnJkyc1atSoLqGYmpqqmpoa//sxY8b4X588eVIjR45UbGxsl/XdbtfbCBkAAAJPSURBVLckae7cufr000+1YsUKffbZZ5ozZ47uu+8+jRgxIuDeYQ5nuDAuOTlZJ06c0MXPTbr42bOD7UJYtbS0+JddOAsdTFlZWfrnP/+p119/XVlZWcrIyNDhw4d18OBBZWVlSZJGjx6t//znP2pubvZvd+EbBi64+B+i5ORkffbZZ13+8bj492rEiBFasmSJ9u7dq507d+rll1/W7t27B703DA4CF8ZNnjxZ0dHR+uMf/6j29nZVV1frrbfe8tfb2trU2toqSWpvb1dra6sG8lC7hIQEpaSkqKKiQl6vV08//bTq6uoG3Melxo8fr5iYGD377LPKzs5WXFycEhMTVVVV5Q9cl8ulKVOmaOPGjWptbdXbb7+tp59+WnPmzOl2n2lpaZo0aZI2b96strY2HTp0SC+99JK//o9//EPHjh2T1+tVXFycoqOjL+vDRpjFnwyMczgc2rx5s3bt2qXs7Gzt3btXs2bN8tfz8vJ044036sSJE7rjjjt044036t///veAjrlu3To98cQTmjZtmt59911NmTJloG10Kzs7W06n0//tANnZ2bIsSzfccIN/nY0bN+rf//63pk+friVLlmjp0qX66le/2uM+f/nLX+qNN97QtGnTtGXLFt16663+WkNDg5YtW6aMjAzdfPPNys7O1ty5c4PSGwaO5+EiLKxatUopKSm67777Qj0UIGg4wwUAQ7hKAUPGLbfc0u2Haw8//HCPc6DDcQwYuphSAABDmFIAAEMIXAAwhMAFAEMIXAAwhMAFAEMIXAAw5P8DEOgCZkVt9gkAAAAASUVORK5CYII=\n"
          },
          "metadata": {}
        },
        {
          "output_type": "display_data",
          "data": {
            "text/plain": [
              "<Figure size 360x360 with 1 Axes>"
            ],
            "image/png": "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\n"
          },
          "metadata": {}
        }
      ],
      "source": [
        "# Analysis of q1_num_words and q2_num_words\n",
        "sns.displot(n_df['q1_num_words'])\n",
        "print('Minimum number of characters', n_df['q1_num_words'].min())\n",
        "print('Maximum number of characters', n_df['q1_num_words'].max())\n",
        "print('Average number of characters', int(n_df['q1_num_words'].mean()))\n",
        "\n",
        "sns.displot(n_df['q2_num_words'])\n",
        "print('Minimum number of characters', n_df['q2_num_words'].min())\n",
        "print('Maximum number of characters', n_df['q2_num_words'].max())\n",
        "print('Average number of characters', int(n_df['q2_num_words'].mean()))"
      ]
    },
    {
      "cell_type": "code",
      "execution_count": null,
      "metadata": {
        "id": "dJiEnUXJn5Vv",
        "colab": {
          "base_uri": "https://localhost:8080/",
          "height": 285
        },
        "outputId": "b718d674-dc44-4afe-dc88-77291d857219"
      },
      "outputs": [
        {
          "output_type": "display_data",
          "data": {
            "text/plain": [
              "<Figure size 432x288 with 1 Axes>"
            ],
            "image/png": "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\n"
          },
          "metadata": {}
        }
      ],
      "source": [
        "# Analysis of common_words\n",
        "sns.distplot(n_df[n_df['is_duplicate'] == 0]['common_words'], label='Non Duplicates')\n",
        "sns.distplot(n_df[n_df['is_duplicate'] == 1]['common_words'], label='Duplicates')\n",
        "plt.legend()\n",
        "plt.show()"
      ]
    },
    {
      "cell_type": "markdown",
      "source": [
        "If common_words < 3 , probability of questions pair being non-duplicates is higher whereas if common_words > 3 , probability of the questions pair being duplicates are higher."
      ],
      "metadata": {
        "id": "012rCUwL-FRS"
      }
    },
    {
      "cell_type": "code",
      "execution_count": null,
      "metadata": {
        "id": "PFNiR8TxosNQ",
        "colab": {
          "base_uri": "https://localhost:8080/",
          "height": 285
        },
        "outputId": "2eaf7e83-e49d-43d8-8961-09b2c589eb16"
      },
      "outputs": [
        {
          "output_type": "display_data",
          "data": {
            "text/plain": [
              "<Figure size 432x288 with 1 Axes>"
            ],
            "image/png": "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\n"
          },
          "metadata": {}
        }
      ],
      "source": [
        "# Analysis of total words\n",
        "sns.distplot(n_df[n_df['is_duplicate'] == 0]['Total words'], label='Non Duplicates')\n",
        "sns.distplot(n_df[n_df['is_duplicate'] == 1]['Total words'], label='Duplicates')\n",
        "plt.legend()\n",
        "plt.show()"
      ]
    },
    {
      "cell_type": "markdown",
      "source": [
        "If total words < 25 , probability of questions pair being duplicates is higher whereas if total words > 25 , probability of the questions pair being non-duplicates are higher."
      ],
      "metadata": {
        "id": "D7CttH0g-Rfn"
      }
    },
    {
      "cell_type": "code",
      "execution_count": null,
      "metadata": {
        "id": "f6tnn8JWo__H",
        "colab": {
          "base_uri": "https://localhost:8080/",
          "height": 285
        },
        "outputId": "9a934e20-1853-4cc4-e9b2-8f172c06cf6c"
      },
      "outputs": [
        {
          "output_type": "display_data",
          "data": {
            "text/plain": [
              "<Figure size 432x288 with 1 Axes>"
            ],
            "image/png": "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\n"
          },
          "metadata": {}
        }
      ],
      "source": [
        "# Analysis of word share\n",
        "sns.distplot(n_df[n_df['is_duplicate'] == 0]['word share'], label='Non Duplicates')\n",
        "sns.distplot(n_df[n_df['is_duplicate'] == 1]['word share'], label='Duplicates')\n",
        "plt.legend()\n",
        "plt.show()"
      ]
    },
    {
      "cell_type": "markdown",
      "source": [
        "If word share < 0.2 , probability of questions pair being non-duplicates is higher whereas if word share > 0.2 , probability of the questions pair being duplicates are higher."
      ],
      "metadata": {
        "id": "Mg7crzyV9wCi"
      }
    },
    {
      "cell_type": "markdown",
      "source": [
        "# Model Trainig post feature engineering"
      ],
      "metadata": {
        "id": "zkeelVeY-cc0"
      }
    },
    {
      "cell_type": "code",
      "execution_count": null,
      "metadata": {
        "id": "ULbC3FJbpMoN",
        "colab": {
          "base_uri": "https://localhost:8080/",
          "height": 206
        },
        "outputId": "c0978e31-a7ed-4b21-8850-4fbf26855825"
      },
      "outputs": [
        {
          "output_type": "execute_result",
          "data": {
            "text/plain": [
              "                                               question1  \\\n",
              "8067                  How do I play Pokémon GO in Korea?   \n",
              "224279          Will a breathing treatment help a cough?   \n",
              "252452     Is Kellyanne Conway annoying in your opinion?   \n",
              "174039  How do you rate (1-10) and review Maruti Baleno?   \n",
              "384863            What are some good books on marketing?   \n",
              "\n",
              "                                                question2  \n",
              "8067                   How do I play Pokémon GO in China?  \n",
              "224279  How can I help someone that is unconscious but...  \n",
              "252452  Did Kellyanne Conway really imply that we shou...  \n",
              "174039  What career options does one have after comple...  \n",
              "384863  What are some of the best books ever written a...  "
            ],
            "text/html": [
              "\n",
              "  <div id=\"df-22925764-39d9-4b4e-8c9d-b6870d2ecc50\">\n",
              "    <div class=\"colab-df-container\">\n",
              "      <div>\n",
              "<style scoped>\n",
              "    .dataframe tbody tr th:only-of-type {\n",
              "        vertical-align: middle;\n",
              "    }\n",
              "\n",
              "    .dataframe tbody tr th {\n",
              "        vertical-align: top;\n",
              "    }\n",
              "\n",
              "    .dataframe thead th {\n",
              "        text-align: right;\n",
              "    }\n",
              "</style>\n",
              "<table border=\"1\" class=\"dataframe\">\n",
              "  <thead>\n",
              "    <tr style=\"text-align: right;\">\n",
              "      <th></th>\n",
              "      <th>question1</th>\n",
              "      <th>question2</th>\n",
              "    </tr>\n",
              "  </thead>\n",
              "  <tbody>\n",
              "    <tr>\n",
              "      <th>8067</th>\n",
              "      <td>How do I play Pokémon GO in Korea?</td>\n",
              "      <td>How do I play Pokémon GO in China?</td>\n",
              "    </tr>\n",
              "    <tr>\n",
              "      <th>224279</th>\n",
              "      <td>Will a breathing treatment help a cough?</td>\n",
              "      <td>How can I help someone that is unconscious but...</td>\n",
              "    </tr>\n",
              "    <tr>\n",
              "      <th>252452</th>\n",
              "      <td>Is Kellyanne Conway annoying in your opinion?</td>\n",
              "      <td>Did Kellyanne Conway really imply that we shou...</td>\n",
              "    </tr>\n",
              "    <tr>\n",
              "      <th>174039</th>\n",
              "      <td>How do you rate (1-10) and review Maruti Baleno?</td>\n",
              "      <td>What career options does one have after comple...</td>\n",
              "    </tr>\n",
              "    <tr>\n",
              "      <th>384863</th>\n",
              "      <td>What are some good books on marketing?</td>\n",
              "      <td>What are some of the best books ever written a...</td>\n",
              "    </tr>\n",
              "  </tbody>\n",
              "</table>\n",
              "</div>\n",
              "      <button class=\"colab-df-convert\" onclick=\"convertToInteractive('df-22925764-39d9-4b4e-8c9d-b6870d2ecc50')\"\n",
              "              title=\"Convert this dataframe to an interactive table.\"\n",
              "              style=\"display:none;\">\n",
              "        \n",
              "  <svg xmlns=\"http://www.w3.org/2000/svg\" height=\"24px\"viewBox=\"0 0 24 24\"\n",
              "       width=\"24px\">\n",
              "    <path d=\"M0 0h24v24H0V0z\" fill=\"none\"/>\n",
              "    <path d=\"M18.56 5.44l.94 2.06.94-2.06 2.06-.94-2.06-.94-.94-2.06-.94 2.06-2.06.94zm-11 1L8.5 8.5l.94-2.06 2.06-.94-2.06-.94L8.5 2.5l-.94 2.06-2.06.94zm10 10l.94 2.06.94-2.06 2.06-.94-2.06-.94-.94-2.06-.94 2.06-2.06.94z\"/><path d=\"M17.41 7.96l-1.37-1.37c-.4-.4-.92-.59-1.43-.59-.52 0-1.04.2-1.43.59L10.3 9.45l-7.72 7.72c-.78.78-.78 2.05 0 2.83L4 21.41c.39.39.9.59 1.41.59.51 0 1.02-.2 1.41-.59l7.78-7.78 2.81-2.81c.8-.78.8-2.07 0-2.86zM5.41 20L4 18.59l7.72-7.72 1.47 1.35L5.41 20z\"/>\n",
              "  </svg>\n",
              "      </button>\n",
              "      \n",
              "  <style>\n",
              "    .colab-df-container {\n",
              "      display:flex;\n",
              "      flex-wrap:wrap;\n",
              "      gap: 12px;\n",
              "    }\n",
              "\n",
              "    .colab-df-convert {\n",
              "      background-color: #E8F0FE;\n",
              "      border: none;\n",
              "      border-radius: 50%;\n",
              "      cursor: pointer;\n",
              "      display: none;\n",
              "      fill: #1967D2;\n",
              "      height: 32px;\n",
              "      padding: 0 0 0 0;\n",
              "      width: 32px;\n",
              "    }\n",
              "\n",
              "    .colab-df-convert:hover {\n",
              "      background-color: #E2EBFA;\n",
              "      box-shadow: 0px 1px 2px rgba(60, 64, 67, 0.3), 0px 1px 3px 1px rgba(60, 64, 67, 0.15);\n",
              "      fill: #174EA6;\n",
              "    }\n",
              "\n",
              "    [theme=dark] .colab-df-convert {\n",
              "      background-color: #3B4455;\n",
              "      fill: #D2E3FC;\n",
              "    }\n",
              "\n",
              "    [theme=dark] .colab-df-convert:hover {\n",
              "      background-color: #434B5C;\n",
              "      box-shadow: 0px 1px 3px 1px rgba(0, 0, 0, 0.15);\n",
              "      filter: drop-shadow(0px 1px 2px rgba(0, 0, 0, 0.3));\n",
              "      fill: #FFFFFF;\n",
              "    }\n",
              "  </style>\n",
              "\n",
              "      <script>\n",
              "        const buttonEl =\n",
              "          document.querySelector('#df-22925764-39d9-4b4e-8c9d-b6870d2ecc50 button.colab-df-convert');\n",
              "        buttonEl.style.display =\n",
              "          google.colab.kernel.accessAllowed ? 'block' : 'none';\n",
              "\n",
              "        async function convertToInteractive(key) {\n",
              "          const element = document.querySelector('#df-22925764-39d9-4b4e-8c9d-b6870d2ecc50');\n",
              "          const dataTable =\n",
              "            await google.colab.kernel.invokeFunction('convertToInteractive',\n",
              "                                                     [key], {});\n",
              "          if (!dataTable) return;\n",
              "\n",
              "          const docLinkHtml = 'Like what you see? Visit the ' +\n",
              "            '<a target=\"_blank\" href=https://colab.research.google.com/notebooks/data_table.ipynb>data table notebook</a>'\n",
              "            + ' to learn more about interactive tables.';\n",
              "          element.innerHTML = '';\n",
              "          dataTable['output_type'] = 'display_data';\n",
              "          await google.colab.output.renderOutput(dataTable, element);\n",
              "          const docLink = document.createElement('div');\n",
              "          docLink.innerHTML = docLinkHtml;\n",
              "          element.appendChild(docLink);\n",
              "        }\n",
              "      </script>\n",
              "    </div>\n",
              "  </div>\n",
              "  "
            ]
          },
          "metadata": {},
          "execution_count": 36
        }
      ],
      "source": [
        "# Creation of new dataframe\n",
        "q_df = n_df[['question1','question2']]\n",
        "q_df.head()"
      ]
    },
    {
      "cell_type": "code",
      "execution_count": null,
      "metadata": {
        "id": "HKXxyiMwpfaJ",
        "colab": {
          "base_uri": "https://localhost:8080/",
          "height": 225
        },
        "outputId": "60001bbe-9d5b-4590-c490-6dd00c8fb518"
      },
      "outputs": [
        {
          "output_type": "stream",
          "name": "stdout",
          "text": [
            "(30000, 1)\n"
          ]
        },
        {
          "output_type": "execute_result",
          "data": {
            "text/plain": [
              "        is_duplicate\n",
              "8067               0\n",
              "368101             0\n",
              "70497              0\n",
              "226567             1\n",
              "73186              1"
            ],
            "text/html": [
              "\n",
              "  <div id=\"df-f579cb8c-dbd5-4e30-a916-4be75b008606\">\n",
              "    <div class=\"colab-df-container\">\n",
              "      <div>\n",
              "<style scoped>\n",
              "    .dataframe tbody tr th:only-of-type {\n",
              "        vertical-align: middle;\n",
              "    }\n",
              "\n",
              "    .dataframe tbody tr th {\n",
              "        vertical-align: top;\n",
              "    }\n",
              "\n",
              "    .dataframe thead th {\n",
              "        text-align: right;\n",
              "    }\n",
              "</style>\n",
              "<table border=\"1\" class=\"dataframe\">\n",
              "  <thead>\n",
              "    <tr style=\"text-align: right;\">\n",
              "      <th></th>\n",
              "      <th>is_duplicate</th>\n",
              "    </tr>\n",
              "  </thead>\n",
              "  <tbody>\n",
              "    <tr>\n",
              "      <th>8067</th>\n",
              "      <td>0</td>\n",
              "    </tr>\n",
              "    <tr>\n",
              "      <th>368101</th>\n",
              "      <td>0</td>\n",
              "    </tr>\n",
              "    <tr>\n",
              "      <th>70497</th>\n",
              "      <td>0</td>\n",
              "    </tr>\n",
              "    <tr>\n",
              "      <th>226567</th>\n",
              "      <td>1</td>\n",
              "    </tr>\n",
              "    <tr>\n",
              "      <th>73186</th>\n",
              "      <td>1</td>\n",
              "    </tr>\n",
              "  </tbody>\n",
              "</table>\n",
              "</div>\n",
              "      <button class=\"colab-df-convert\" onclick=\"convertToInteractive('df-f579cb8c-dbd5-4e30-a916-4be75b008606')\"\n",
              "              title=\"Convert this dataframe to an interactive table.\"\n",
              "              style=\"display:none;\">\n",
              "        \n",
              "  <svg xmlns=\"http://www.w3.org/2000/svg\" height=\"24px\"viewBox=\"0 0 24 24\"\n",
              "       width=\"24px\">\n",
              "    <path d=\"M0 0h24v24H0V0z\" fill=\"none\"/>\n",
              "    <path d=\"M18.56 5.44l.94 2.06.94-2.06 2.06-.94-2.06-.94-.94-2.06-.94 2.06-2.06.94zm-11 1L8.5 8.5l.94-2.06 2.06-.94-2.06-.94L8.5 2.5l-.94 2.06-2.06.94zm10 10l.94 2.06.94-2.06 2.06-.94-2.06-.94-.94-2.06-.94 2.06-2.06.94z\"/><path d=\"M17.41 7.96l-1.37-1.37c-.4-.4-.92-.59-1.43-.59-.52 0-1.04.2-1.43.59L10.3 9.45l-7.72 7.72c-.78.78-.78 2.05 0 2.83L4 21.41c.39.39.9.59 1.41.59.51 0 1.02-.2 1.41-.59l7.78-7.78 2.81-2.81c.8-.78.8-2.07 0-2.86zM5.41 20L4 18.59l7.72-7.72 1.47 1.35L5.41 20z\"/>\n",
              "  </svg>\n",
              "      </button>\n",
              "      \n",
              "  <style>\n",
              "    .colab-df-container {\n",
              "      display:flex;\n",
              "      flex-wrap:wrap;\n",
              "      gap: 12px;\n",
              "    }\n",
              "\n",
              "    .colab-df-convert {\n",
              "      background-color: #E8F0FE;\n",
              "      border: none;\n",
              "      border-radius: 50%;\n",
              "      cursor: pointer;\n",
              "      display: none;\n",
              "      fill: #1967D2;\n",
              "      height: 32px;\n",
              "      padding: 0 0 0 0;\n",
              "      width: 32px;\n",
              "    }\n",
              "\n",
              "    .colab-df-convert:hover {\n",
              "      background-color: #E2EBFA;\n",
              "      box-shadow: 0px 1px 2px rgba(60, 64, 67, 0.3), 0px 1px 3px 1px rgba(60, 64, 67, 0.15);\n",
              "      fill: #174EA6;\n",
              "    }\n",
              "\n",
              "    [theme=dark] .colab-df-convert {\n",
              "      background-color: #3B4455;\n",
              "      fill: #D2E3FC;\n",
              "    }\n",
              "\n",
              "    [theme=dark] .colab-df-convert:hover {\n",
              "      background-color: #434B5C;\n",
              "      box-shadow: 0px 1px 3px 1px rgba(0, 0, 0, 0.15);\n",
              "      filter: drop-shadow(0px 1px 2px rgba(0, 0, 0, 0.3));\n",
              "      fill: #FFFFFF;\n",
              "    }\n",
              "  </style>\n",
              "\n",
              "      <script>\n",
              "        const buttonEl =\n",
              "          document.querySelector('#df-f579cb8c-dbd5-4e30-a916-4be75b008606 button.colab-df-convert');\n",
              "        buttonEl.style.display =\n",
              "          google.colab.kernel.accessAllowed ? 'block' : 'none';\n",
              "\n",
              "        async function convertToInteractive(key) {\n",
              "          const element = document.querySelector('#df-f579cb8c-dbd5-4e30-a916-4be75b008606');\n",
              "          const dataTable =\n",
              "            await google.colab.kernel.invokeFunction('convertToInteractive',\n",
              "                                                     [key], {});\n",
              "          if (!dataTable) return;\n",
              "\n",
              "          const docLinkHtml = 'Like what you see? Visit the ' +\n",
              "            '<a target=\"_blank\" href=https://colab.research.google.com/notebooks/data_table.ipynb>data table notebook</a>'\n",
              "            + ' to learn more about interactive tables.';\n",
              "          element.innerHTML = '';\n",
              "          dataTable['output_type'] = 'display_data';\n",
              "          await google.colab.output.renderOutput(dataTable, element);\n",
              "          const docLink = document.createElement('div');\n",
              "          docLink.innerHTML = docLinkHtml;\n",
              "          element.appendChild(docLink);\n",
              "        }\n",
              "      </script>\n",
              "    </div>\n",
              "  </div>\n",
              "  "
            ]
          },
          "metadata": {},
          "execution_count": 14
        }
      ],
      "source": [
        "# Droping the features\n",
        "f_df = n_df.drop(columns=['id','qid1','qid2','question1','question2'])\n",
        "print(f_df.shape)\n",
        "f_df.head()"
      ]
    },
    {
      "cell_type": "code",
      "execution_count": null,
      "metadata": {
        "id": "TVJR5ewEp1WA"
      },
      "outputs": [],
      "source": [
        "# Bag of Words\n",
        "ques = list(q_df['question1']) + list(q_df['question1'])\n",
        "\n",
        "cv = CountVectorizer(max_features=3000)\n",
        "q1_a , q2_a = np.vsplit(cv.fit_transform(ques).toarray(),2)"
      ]
    },
    {
      "cell_type": "code",
      "execution_count": null,
      "metadata": {
        "id": "QFoE_u1qqeNf",
        "colab": {
          "base_uri": "https://localhost:8080/"
        },
        "outputId": "a5b266f9-59ad-4012-f1a5-bfdbeb30158d"
      },
      "outputs": [
        {
          "output_type": "execute_result",
          "data": {
            "text/plain": [
              "(30000, 6000)"
            ]
          },
          "metadata": {},
          "execution_count": 12
        }
      ],
      "source": [
        "# Saving the split array of extracted features into a single dataframe\n",
        "t_df1 = pd.DataFrame(q1_a,index=q_df.index)\n",
        "t_df2 = pd.DataFrame(q2_a,index=q_df.index)\n",
        "t_df = pd.concat([t_df1,t_df2],axis=1)\n",
        "t_df.shape"
      ]
    },
    {
      "cell_type": "code",
      "execution_count": null,
      "metadata": {
        "id": "Ef7zx0Oyq21W",
        "colab": {
          "base_uri": "https://localhost:8080/",
          "height": 254
        },
        "outputId": "0d201545-441f-4851-afac-884c83492515"
      },
      "outputs": [
        {
          "output_type": "stream",
          "name": "stdout",
          "text": [
            "(30000, 6001)\n"
          ]
        },
        {
          "output_type": "execute_result",
          "data": {
            "text/plain": [
              "        is_duplicate  0  1  2  3  4  5  6  7  8  ...  2990  2991  2992  2993  \\\n",
              "8067               0  0  0  0  0  0  0  0  0  0  ...     0     0     0     0   \n",
              "368101             0  0  0  0  0  0  0  0  0  0  ...     0     0     0     0   \n",
              "70497              0  0  0  0  0  0  0  0  0  0  ...     0     0     0     0   \n",
              "226567             1  0  0  0  0  0  0  0  0  0  ...     0     0     0     0   \n",
              "73186              1  0  0  0  0  0  0  0  0  0  ...     0     0     0     0   \n",
              "\n",
              "        2994  2995  2996  2997  2998  2999  \n",
              "8067       0     0     0     0     0     0  \n",
              "368101     0     0     0     0     0     0  \n",
              "70497      0     0     0     0     0     0  \n",
              "226567     0     0     0     0     0     0  \n",
              "73186      0     0     0     0     0     0  \n",
              "\n",
              "[5 rows x 6001 columns]"
            ],
            "text/html": [
              "\n",
              "  <div id=\"df-47c27f54-8a76-4eb0-9766-c483cf2d8f90\">\n",
              "    <div class=\"colab-df-container\">\n",
              "      <div>\n",
              "<style scoped>\n",
              "    .dataframe tbody tr th:only-of-type {\n",
              "        vertical-align: middle;\n",
              "    }\n",
              "\n",
              "    .dataframe tbody tr th {\n",
              "        vertical-align: top;\n",
              "    }\n",
              "\n",
              "    .dataframe thead th {\n",
              "        text-align: right;\n",
              "    }\n",
              "</style>\n",
              "<table border=\"1\" class=\"dataframe\">\n",
              "  <thead>\n",
              "    <tr style=\"text-align: right;\">\n",
              "      <th></th>\n",
              "      <th>is_duplicate</th>\n",
              "      <th>0</th>\n",
              "      <th>1</th>\n",
              "      <th>2</th>\n",
              "      <th>3</th>\n",
              "      <th>4</th>\n",
              "      <th>5</th>\n",
              "      <th>6</th>\n",
              "      <th>7</th>\n",
              "      <th>8</th>\n",
              "      <th>...</th>\n",
              "      <th>2990</th>\n",
              "      <th>2991</th>\n",
              "      <th>2992</th>\n",
              "      <th>2993</th>\n",
              "      <th>2994</th>\n",
              "      <th>2995</th>\n",
              "      <th>2996</th>\n",
              "      <th>2997</th>\n",
              "      <th>2998</th>\n",
              "      <th>2999</th>\n",
              "    </tr>\n",
              "  </thead>\n",
              "  <tbody>\n",
              "    <tr>\n",
              "      <th>8067</th>\n",
              "      <td>0</td>\n",
              "      <td>0</td>\n",
              "      <td>0</td>\n",
              "      <td>0</td>\n",
              "      <td>0</td>\n",
              "      <td>0</td>\n",
              "      <td>0</td>\n",
              "      <td>0</td>\n",
              "      <td>0</td>\n",
              "      <td>0</td>\n",
              "      <td>...</td>\n",
              "      <td>0</td>\n",
              "      <td>0</td>\n",
              "      <td>0</td>\n",
              "      <td>0</td>\n",
              "      <td>0</td>\n",
              "      <td>0</td>\n",
              "      <td>0</td>\n",
              "      <td>0</td>\n",
              "      <td>0</td>\n",
              "      <td>0</td>\n",
              "    </tr>\n",
              "    <tr>\n",
              "      <th>368101</th>\n",
              "      <td>0</td>\n",
              "      <td>0</td>\n",
              "      <td>0</td>\n",
              "      <td>0</td>\n",
              "      <td>0</td>\n",
              "      <td>0</td>\n",
              "      <td>0</td>\n",
              "      <td>0</td>\n",
              "      <td>0</td>\n",
              "      <td>0</td>\n",
              "      <td>...</td>\n",
              "      <td>0</td>\n",
              "      <td>0</td>\n",
              "      <td>0</td>\n",
              "      <td>0</td>\n",
              "      <td>0</td>\n",
              "      <td>0</td>\n",
              "      <td>0</td>\n",
              "      <td>0</td>\n",
              "      <td>0</td>\n",
              "      <td>0</td>\n",
              "    </tr>\n",
              "    <tr>\n",
              "      <th>70497</th>\n",
              "      <td>0</td>\n",
              "      <td>0</td>\n",
              "      <td>0</td>\n",
              "      <td>0</td>\n",
              "      <td>0</td>\n",
              "      <td>0</td>\n",
              "      <td>0</td>\n",
              "      <td>0</td>\n",
              "      <td>0</td>\n",
              "      <td>0</td>\n",
              "      <td>...</td>\n",
              "      <td>0</td>\n",
              "      <td>0</td>\n",
              "      <td>0</td>\n",
              "      <td>0</td>\n",
              "      <td>0</td>\n",
              "      <td>0</td>\n",
              "      <td>0</td>\n",
              "      <td>0</td>\n",
              "      <td>0</td>\n",
              "      <td>0</td>\n",
              "    </tr>\n",
              "    <tr>\n",
              "      <th>226567</th>\n",
              "      <td>1</td>\n",
              "      <td>0</td>\n",
              "      <td>0</td>\n",
              "      <td>0</td>\n",
              "      <td>0</td>\n",
              "      <td>0</td>\n",
              "      <td>0</td>\n",
              "      <td>0</td>\n",
              "      <td>0</td>\n",
              "      <td>0</td>\n",
              "      <td>...</td>\n",
              "      <td>0</td>\n",
              "      <td>0</td>\n",
              "      <td>0</td>\n",
              "      <td>0</td>\n",
              "      <td>0</td>\n",
              "      <td>0</td>\n",
              "      <td>0</td>\n",
              "      <td>0</td>\n",
              "      <td>0</td>\n",
              "      <td>0</td>\n",
              "    </tr>\n",
              "    <tr>\n",
              "      <th>73186</th>\n",
              "      <td>1</td>\n",
              "      <td>0</td>\n",
              "      <td>0</td>\n",
              "      <td>0</td>\n",
              "      <td>0</td>\n",
              "      <td>0</td>\n",
              "      <td>0</td>\n",
              "      <td>0</td>\n",
              "      <td>0</td>\n",
              "      <td>0</td>\n",
              "      <td>...</td>\n",
              "      <td>0</td>\n",
              "      <td>0</td>\n",
              "      <td>0</td>\n",
              "      <td>0</td>\n",
              "      <td>0</td>\n",
              "      <td>0</td>\n",
              "      <td>0</td>\n",
              "      <td>0</td>\n",
              "      <td>0</td>\n",
              "      <td>0</td>\n",
              "    </tr>\n",
              "  </tbody>\n",
              "</table>\n",
              "<p>5 rows × 6001 columns</p>\n",
              "</div>\n",
              "      <button class=\"colab-df-convert\" onclick=\"convertToInteractive('df-47c27f54-8a76-4eb0-9766-c483cf2d8f90')\"\n",
              "              title=\"Convert this dataframe to an interactive table.\"\n",
              "              style=\"display:none;\">\n",
              "        \n",
              "  <svg xmlns=\"http://www.w3.org/2000/svg\" height=\"24px\"viewBox=\"0 0 24 24\"\n",
              "       width=\"24px\">\n",
              "    <path d=\"M0 0h24v24H0V0z\" fill=\"none\"/>\n",
              "    <path d=\"M18.56 5.44l.94 2.06.94-2.06 2.06-.94-2.06-.94-.94-2.06-.94 2.06-2.06.94zm-11 1L8.5 8.5l.94-2.06 2.06-.94-2.06-.94L8.5 2.5l-.94 2.06-2.06.94zm10 10l.94 2.06.94-2.06 2.06-.94-2.06-.94-.94-2.06-.94 2.06-2.06.94z\"/><path d=\"M17.41 7.96l-1.37-1.37c-.4-.4-.92-.59-1.43-.59-.52 0-1.04.2-1.43.59L10.3 9.45l-7.72 7.72c-.78.78-.78 2.05 0 2.83L4 21.41c.39.39.9.59 1.41.59.51 0 1.02-.2 1.41-.59l7.78-7.78 2.81-2.81c.8-.78.8-2.07 0-2.86zM5.41 20L4 18.59l7.72-7.72 1.47 1.35L5.41 20z\"/>\n",
              "  </svg>\n",
              "      </button>\n",
              "      \n",
              "  <style>\n",
              "    .colab-df-container {\n",
              "      display:flex;\n",
              "      flex-wrap:wrap;\n",
              "      gap: 12px;\n",
              "    }\n",
              "\n",
              "    .colab-df-convert {\n",
              "      background-color: #E8F0FE;\n",
              "      border: none;\n",
              "      border-radius: 50%;\n",
              "      cursor: pointer;\n",
              "      display: none;\n",
              "      fill: #1967D2;\n",
              "      height: 32px;\n",
              "      padding: 0 0 0 0;\n",
              "      width: 32px;\n",
              "    }\n",
              "\n",
              "    .colab-df-convert:hover {\n",
              "      background-color: #E2EBFA;\n",
              "      box-shadow: 0px 1px 2px rgba(60, 64, 67, 0.3), 0px 1px 3px 1px rgba(60, 64, 67, 0.15);\n",
              "      fill: #174EA6;\n",
              "    }\n",
              "\n",
              "    [theme=dark] .colab-df-convert {\n",
              "      background-color: #3B4455;\n",
              "      fill: #D2E3FC;\n",
              "    }\n",
              "\n",
              "    [theme=dark] .colab-df-convert:hover {\n",
              "      background-color: #434B5C;\n",
              "      box-shadow: 0px 1px 3px 1px rgba(0, 0, 0, 0.15);\n",
              "      filter: drop-shadow(0px 1px 2px rgba(0, 0, 0, 0.3));\n",
              "      fill: #FFFFFF;\n",
              "    }\n",
              "  </style>\n",
              "\n",
              "      <script>\n",
              "        const buttonEl =\n",
              "          document.querySelector('#df-47c27f54-8a76-4eb0-9766-c483cf2d8f90 button.colab-df-convert');\n",
              "        buttonEl.style.display =\n",
              "          google.colab.kernel.accessAllowed ? 'block' : 'none';\n",
              "\n",
              "        async function convertToInteractive(key) {\n",
              "          const element = document.querySelector('#df-47c27f54-8a76-4eb0-9766-c483cf2d8f90');\n",
              "          const dataTable =\n",
              "            await google.colab.kernel.invokeFunction('convertToInteractive',\n",
              "                                                     [key], {});\n",
              "          if (!dataTable) return;\n",
              "\n",
              "          const docLinkHtml = 'Like what you see? Visit the ' +\n",
              "            '<a target=\"_blank\" href=https://colab.research.google.com/notebooks/data_table.ipynb>data table notebook</a>'\n",
              "            + ' to learn more about interactive tables.';\n",
              "          element.innerHTML = '';\n",
              "          dataTable['output_type'] = 'display_data';\n",
              "          await google.colab.output.renderOutput(dataTable, element);\n",
              "          const docLink = document.createElement('div');\n",
              "          docLink.innerHTML = docLinkHtml;\n",
              "          element.appendChild(docLink);\n",
              "        }\n",
              "      </script>\n",
              "    </div>\n",
              "  </div>\n",
              "  "
            ]
          },
          "metadata": {},
          "execution_count": 15
        }
      ],
      "source": [
        "f_df = pd.concat([f_df,t_df],axis=1)\n",
        "print(f_df.shape)\n",
        "f_df.head()"
      ]
    },
    {
      "cell_type": "code",
      "execution_count": null,
      "metadata": {
        "id": "YZvSRdrQrIC0"
      },
      "outputs": [],
      "source": [
        "# Splitting the dataset in 80-20 test-train split\n",
        "X_train, X_test , Y_train, Y_test = train_test_split(f_df.iloc[:,1:].values, f_df.iloc[:,0].values, test_size=0.2,random_state=42)"
      ]
    },
    {
      "cell_type": "code",
      "execution_count": null,
      "metadata": {
        "id": "bBtKmeqNskbO",
        "colab": {
          "base_uri": "https://localhost:8080/"
        },
        "outputId": "590ab611-4852-4a7a-d9cd-d87ddcf140da"
      },
      "outputs": [
        {
          "output_type": "execute_result",
          "data": {
            "text/plain": [
              "0.7201666666666666"
            ]
          },
          "metadata": {},
          "execution_count": 17
        }
      ],
      "source": [
        "# Random Forest Classifier\n",
        "rf = RandomForestClassifier()\n",
        "rf.fit(X_train,Y_train)\n",
        "Y_pred = rf.predict(X_test)\n",
        "accuracy_score(Y_test,Y_pred)"
      ]
    },
    {
      "cell_type": "code",
      "execution_count": null,
      "metadata": {
        "id": "vq-bE5DNtCxq",
        "colab": {
          "base_uri": "https://localhost:8080/"
        },
        "outputId": "86065f12-715c-4233-f88a-d885113eb49a"
      },
      "outputs": [
        {
          "output_type": "execute_result",
          "data": {
            "text/plain": [
              "0.6866666666666666"
            ]
          },
          "metadata": {},
          "execution_count": 18
        }
      ],
      "source": [
        "# XgBoost Classifier\n",
        "xgb = XGBClassifier()\n",
        "xgb.fit(X_train,Y_train)\n",
        "Y_pred = xgb.predict(X_test)\n",
        "accuracy_score(Y_test,Y_pred)"
      ]
    },
    {
      "cell_type": "markdown",
      "source": [
        "We can observe the improved accuracy just by introducing basic features."
      ],
      "metadata": {
        "id": "M4lNIN3o_YAH"
      }
    }
  ],
  "metadata": {
    "accelerator": "TPU",
    "colab": {
      "name": "Copy of Quora Question Pairs.ipynb",
      "provenance": []
    },
    "gpuClass": "standard",
    "kernelspec": {
      "display_name": "Python 3",
      "name": "python3"
    },
    "language_info": {
      "name": "python"
    }
  },
  "nbformat": 4,
  "nbformat_minor": 0
}
