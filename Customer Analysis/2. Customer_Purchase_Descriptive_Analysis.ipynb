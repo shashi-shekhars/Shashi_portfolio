{
  "cells": [
    {
      "cell_type": "markdown",
      "source": [
        "# Data"
      ],
      "metadata": {
        "id": "KCfZHBAiOCtS"
      },
      "id": "KCfZHBAiOCtS"
    },
    {
      "cell_type": "markdown",
      "source": [
        "Dataset is obtained from a B2C model. This means that the clients are individual people rather than firms or institutions.This comes from a fast moving consumer goods or FMCG sector.\n",
        "\n",
        "Purchase Data (**Purchase_data**)\n",
        "1. Each observation is a transaction rather than a customer. Therefore different observations can be related to the same customer.\n",
        "2. The entire dataset consist purchase of only one product type.\n",
        "3. The segementation dataset features are merged in this dataset. "
      ],
      "metadata": {
        "id": "55Q3RTV9OGHc"
      },
      "id": "55Q3RTV9OGHc"
    },
    {
      "cell_type": "markdown",
      "source": [
        "# Reading Data"
      ],
      "metadata": {
        "id": "ITj6WXjla7nV"
      },
      "id": "ITj6WXjla7nV"
    },
    {
      "cell_type": "code",
      "execution_count": null,
      "id": "4368c872",
      "metadata": {
        "id": "4368c872"
      },
      "outputs": [],
      "source": [
        "import numpy as np\n",
        "import pandas as pd\n",
        "\n",
        "from sklearn.preprocessing import StandardScaler\n",
        "from sklearn.decomposition import PCA\n",
        "from sklearn.cluster import KMeans\n",
        "\n",
        "import pickle\n",
        "\n",
        "import matplotlib.pyplot as plt\n",
        "import seaborn as sns\n",
        "sns.set()"
      ]
    },
    {
      "cell_type": "markdown",
      "source": [
        "**Data Import**"
      ],
      "metadata": {
        "id": "ptL-xKhva-wy"
      },
      "id": "ptL-xKhva-wy"
    },
    {
      "cell_type": "code",
      "execution_count": null,
      "id": "2469f501",
      "metadata": {
        "id": "2469f501",
        "outputId": "c2a54bbf-71ef-4e17-cdc1-1e629d18cb2e"
      },
      "outputs": [
        {
          "data": {
            "text/html": [
              "<div>\n",
              "<style scoped>\n",
              "    .dataframe tbody tr th:only-of-type {\n",
              "        vertical-align: middle;\n",
              "    }\n",
              "\n",
              "    .dataframe tbody tr th {\n",
              "        vertical-align: top;\n",
              "    }\n",
              "\n",
              "    .dataframe thead th {\n",
              "        text-align: right;\n",
              "    }\n",
              "</style>\n",
              "<table border=\"1\" class=\"dataframe\">\n",
              "  <thead>\n",
              "    <tr style=\"text-align: right;\">\n",
              "      <th></th>\n",
              "      <th>ID</th>\n",
              "      <th>Day</th>\n",
              "      <th>Incidence</th>\n",
              "      <th>Brand</th>\n",
              "      <th>Quantity</th>\n",
              "      <th>Last_Inc_Brand</th>\n",
              "      <th>Last_Inc_Quantity</th>\n",
              "      <th>Price_1</th>\n",
              "      <th>Price_2</th>\n",
              "      <th>Price_3</th>\n",
              "      <th>...</th>\n",
              "      <th>Promotion_3</th>\n",
              "      <th>Promotion_4</th>\n",
              "      <th>Promotion_5</th>\n",
              "      <th>Sex</th>\n",
              "      <th>Marital status</th>\n",
              "      <th>Age</th>\n",
              "      <th>Education</th>\n",
              "      <th>Income</th>\n",
              "      <th>Occupation</th>\n",
              "      <th>Settlement size</th>\n",
              "    </tr>\n",
              "  </thead>\n",
              "  <tbody>\n",
              "    <tr>\n",
              "      <th>0</th>\n",
              "      <td>200000001</td>\n",
              "      <td>1</td>\n",
              "      <td>0</td>\n",
              "      <td>0</td>\n",
              "      <td>0</td>\n",
              "      <td>0</td>\n",
              "      <td>0</td>\n",
              "      <td>1.59</td>\n",
              "      <td>1.87</td>\n",
              "      <td>2.01</td>\n",
              "      <td>...</td>\n",
              "      <td>0</td>\n",
              "      <td>0</td>\n",
              "      <td>0</td>\n",
              "      <td>0</td>\n",
              "      <td>0</td>\n",
              "      <td>47</td>\n",
              "      <td>1</td>\n",
              "      <td>110866</td>\n",
              "      <td>1</td>\n",
              "      <td>0</td>\n",
              "    </tr>\n",
              "    <tr>\n",
              "      <th>1</th>\n",
              "      <td>200000001</td>\n",
              "      <td>11</td>\n",
              "      <td>0</td>\n",
              "      <td>0</td>\n",
              "      <td>0</td>\n",
              "      <td>0</td>\n",
              "      <td>0</td>\n",
              "      <td>1.51</td>\n",
              "      <td>1.89</td>\n",
              "      <td>1.99</td>\n",
              "      <td>...</td>\n",
              "      <td>0</td>\n",
              "      <td>0</td>\n",
              "      <td>0</td>\n",
              "      <td>0</td>\n",
              "      <td>0</td>\n",
              "      <td>47</td>\n",
              "      <td>1</td>\n",
              "      <td>110866</td>\n",
              "      <td>1</td>\n",
              "      <td>0</td>\n",
              "    </tr>\n",
              "    <tr>\n",
              "      <th>2</th>\n",
              "      <td>200000001</td>\n",
              "      <td>12</td>\n",
              "      <td>0</td>\n",
              "      <td>0</td>\n",
              "      <td>0</td>\n",
              "      <td>0</td>\n",
              "      <td>0</td>\n",
              "      <td>1.51</td>\n",
              "      <td>1.89</td>\n",
              "      <td>1.99</td>\n",
              "      <td>...</td>\n",
              "      <td>0</td>\n",
              "      <td>0</td>\n",
              "      <td>0</td>\n",
              "      <td>0</td>\n",
              "      <td>0</td>\n",
              "      <td>47</td>\n",
              "      <td>1</td>\n",
              "      <td>110866</td>\n",
              "      <td>1</td>\n",
              "      <td>0</td>\n",
              "    </tr>\n",
              "    <tr>\n",
              "      <th>3</th>\n",
              "      <td>200000001</td>\n",
              "      <td>16</td>\n",
              "      <td>0</td>\n",
              "      <td>0</td>\n",
              "      <td>0</td>\n",
              "      <td>0</td>\n",
              "      <td>0</td>\n",
              "      <td>1.52</td>\n",
              "      <td>1.89</td>\n",
              "      <td>1.98</td>\n",
              "      <td>...</td>\n",
              "      <td>0</td>\n",
              "      <td>0</td>\n",
              "      <td>0</td>\n",
              "      <td>0</td>\n",
              "      <td>0</td>\n",
              "      <td>47</td>\n",
              "      <td>1</td>\n",
              "      <td>110866</td>\n",
              "      <td>1</td>\n",
              "      <td>0</td>\n",
              "    </tr>\n",
              "    <tr>\n",
              "      <th>4</th>\n",
              "      <td>200000001</td>\n",
              "      <td>18</td>\n",
              "      <td>0</td>\n",
              "      <td>0</td>\n",
              "      <td>0</td>\n",
              "      <td>0</td>\n",
              "      <td>0</td>\n",
              "      <td>1.52</td>\n",
              "      <td>1.89</td>\n",
              "      <td>1.99</td>\n",
              "      <td>...</td>\n",
              "      <td>0</td>\n",
              "      <td>0</td>\n",
              "      <td>0</td>\n",
              "      <td>0</td>\n",
              "      <td>0</td>\n",
              "      <td>47</td>\n",
              "      <td>1</td>\n",
              "      <td>110866</td>\n",
              "      <td>1</td>\n",
              "      <td>0</td>\n",
              "    </tr>\n",
              "  </tbody>\n",
              "</table>\n",
              "<p>5 rows × 24 columns</p>\n",
              "</div>"
            ],
            "text/plain": [
              "          ID  Day  Incidence  Brand  Quantity  Last_Inc_Brand  \\\n",
              "0  200000001    1          0      0         0               0   \n",
              "1  200000001   11          0      0         0               0   \n",
              "2  200000001   12          0      0         0               0   \n",
              "3  200000001   16          0      0         0               0   \n",
              "4  200000001   18          0      0         0               0   \n",
              "\n",
              "   Last_Inc_Quantity  Price_1  Price_2  Price_3  ...  Promotion_3  \\\n",
              "0                  0     1.59     1.87     2.01  ...            0   \n",
              "1                  0     1.51     1.89     1.99  ...            0   \n",
              "2                  0     1.51     1.89     1.99  ...            0   \n",
              "3                  0     1.52     1.89     1.98  ...            0   \n",
              "4                  0     1.52     1.89     1.99  ...            0   \n",
              "\n",
              "   Promotion_4  Promotion_5  Sex  Marital status  Age  Education  Income  \\\n",
              "0            0            0    0               0   47          1  110866   \n",
              "1            0            0    0               0   47          1  110866   \n",
              "2            0            0    0               0   47          1  110866   \n",
              "3            0            0    0               0   47          1  110866   \n",
              "4            0            0    0               0   47          1  110866   \n",
              "\n",
              "   Occupation  Settlement size  \n",
              "0           1                0  \n",
              "1           1                0  \n",
              "2           1                0  \n",
              "3           1                0  \n",
              "4           1                0  \n",
              "\n",
              "[5 rows x 24 columns]"
            ]
          },
          "execution_count": 2,
          "metadata": {},
          "output_type": "execute_result"
        }
      ],
      "source": [
        "df_pur=pd.read_csv('Purchase_data.csv')\n",
        "df_pur.head()"
      ]
    },
    {
      "cell_type": "code",
      "execution_count": null,
      "id": "bf6039a9",
      "metadata": {
        "id": "bf6039a9",
        "outputId": "e53c1afc-bc63-4b46-c71c-0315d3d5519f"
      },
      "outputs": [
        {
          "data": {
            "text/plain": [
              "ID                   0\n",
              "Day                  0\n",
              "Incidence            0\n",
              "Brand                0\n",
              "Quantity             0\n",
              "Last_Inc_Brand       0\n",
              "Last_Inc_Quantity    0\n",
              "Price_1              0\n",
              "Price_2              0\n",
              "Price_3              0\n",
              "Price_4              0\n",
              "Price_5              0\n",
              "Promotion_1          0\n",
              "Promotion_2          0\n",
              "Promotion_3          0\n",
              "Promotion_4          0\n",
              "Promotion_5          0\n",
              "Sex                  0\n",
              "Marital status       0\n",
              "Age                  0\n",
              "Education            0\n",
              "Income               0\n",
              "Occupation           0\n",
              "Settlement size      0\n",
              "dtype: int64"
            ]
          },
          "execution_count": 3,
          "metadata": {},
          "output_type": "execute_result"
        }
      ],
      "source": [
        "df_pur.isnull().sum()"
      ]
    },
    {
      "cell_type": "markdown",
      "source": [
        "No missing values as dataset is already being pre-processed properly."
      ],
      "metadata": {
        "id": "epq5oGO0bMc7"
      },
      "id": "epq5oGO0bMc7"
    },
    {
      "cell_type": "markdown",
      "source": [
        "# Data Segmentation"
      ],
      "metadata": {
        "id": "4edSFRV5bVQZ"
      },
      "id": "4edSFRV5bVQZ"
    },
    {
      "cell_type": "markdown",
      "source": [
        "**Importing Model**"
      ],
      "metadata": {
        "id": "277eWax8bXvm"
      },
      "id": "277eWax8bXvm"
    },
    {
      "cell_type": "code",
      "execution_count": null,
      "id": "34210c1a",
      "metadata": {
        "id": "34210c1a"
      },
      "outputs": [],
      "source": [
        "scaler = pickle.load(open('scaler.pickle','rb'))\n",
        "pca = pickle.load(open('pca.pickle','rb'))\n",
        "kmeans_pca = pickle.load(open('kmeans_pca.pickle','rb'))"
      ]
    },
    {
      "cell_type": "markdown",
      "source": [
        "**Standardization**"
      ],
      "metadata": {
        "id": "XGjE9_6PbraB"
      },
      "id": "XGjE9_6PbraB"
    },
    {
      "cell_type": "code",
      "execution_count": null,
      "id": "8c3a3392",
      "metadata": {
        "id": "8c3a3392"
      },
      "outputs": [],
      "source": [
        "features = df_pur[['Sex','Marital status','Age','Education','Income','Occupation','Settlement size']]\n",
        "df_pur_seg_std = scaler.transform(features)"
      ]
    },
    {
      "cell_type": "markdown",
      "source": [
        "**PCA**"
      ],
      "metadata": {
        "id": "FDQxqisibvIs"
      },
      "id": "FDQxqisibvIs"
    },
    {
      "cell_type": "code",
      "execution_count": null,
      "id": "d7910696",
      "metadata": {
        "id": "d7910696"
      },
      "outputs": [],
      "source": [
        "df_pur_seg_pca = pca.transform(df_pur_seg_std)"
      ]
    },
    {
      "cell_type": "markdown",
      "source": [
        "**K-means PCA**"
      ],
      "metadata": {
        "id": "6hsPSQPibxce"
      },
      "id": "6hsPSQPibxce"
    },
    {
      "cell_type": "code",
      "execution_count": null,
      "id": "109fbf70",
      "metadata": {
        "id": "109fbf70"
      },
      "outputs": [],
      "source": [
        "pur_seg_kmeans_pca = kmeans_pca.predict(df_pur_seg_pca)"
      ]
    },
    {
      "cell_type": "code",
      "execution_count": null,
      "id": "88db2004",
      "metadata": {
        "id": "88db2004"
      },
      "outputs": [],
      "source": [
        "# Creating new master dataframe\n",
        "df_pur_predictors = df_pur.copy()"
      ]
    },
    {
      "cell_type": "code",
      "execution_count": null,
      "id": "7453911f",
      "metadata": {
        "id": "7453911f"
      },
      "outputs": [],
      "source": [
        "df_pur_predictors['Segment'] = pur_seg_kmeans_pca"
      ]
    },
    {
      "cell_type": "markdown",
      "source": [
        "# Descriptive Analysis by Segments"
      ],
      "metadata": {
        "id": "7IwuLBmlcIwP"
      },
      "id": "7IwuLBmlcIwP"
    },
    {
      "cell_type": "code",
      "execution_count": null,
      "id": "6859fd30",
      "metadata": {
        "id": "6859fd30",
        "outputId": "4a201897-4e72-44e9-d9e6-5401631ddde5"
      },
      "outputs": [
        {
          "data": {
            "text/html": [
              "<div>\n",
              "<style scoped>\n",
              "    .dataframe tbody tr th:only-of-type {\n",
              "        vertical-align: middle;\n",
              "    }\n",
              "\n",
              "    .dataframe tbody tr th {\n",
              "        vertical-align: top;\n",
              "    }\n",
              "\n",
              "    .dataframe thead th {\n",
              "        text-align: right;\n",
              "    }\n",
              "</style>\n",
              "<table border=\"1\" class=\"dataframe\">\n",
              "  <thead>\n",
              "    <tr style=\"text-align: right;\">\n",
              "      <th></th>\n",
              "      <th>ID</th>\n",
              "      <th>Day</th>\n",
              "      <th>Incidence</th>\n",
              "      <th>Brand</th>\n",
              "      <th>Quantity</th>\n",
              "      <th>Last_Inc_Brand</th>\n",
              "      <th>Last_Inc_Quantity</th>\n",
              "      <th>Price_1</th>\n",
              "      <th>Price_2</th>\n",
              "      <th>Price_3</th>\n",
              "      <th>...</th>\n",
              "      <th>Promotion_4</th>\n",
              "      <th>Promotion_5</th>\n",
              "      <th>Sex</th>\n",
              "      <th>Marital status</th>\n",
              "      <th>Age</th>\n",
              "      <th>Education</th>\n",
              "      <th>Income</th>\n",
              "      <th>Occupation</th>\n",
              "      <th>Settlement size</th>\n",
              "      <th>Segment</th>\n",
              "    </tr>\n",
              "  </thead>\n",
              "  <tbody>\n",
              "    <tr>\n",
              "      <th>0</th>\n",
              "      <td>200000001</td>\n",
              "      <td>1</td>\n",
              "      <td>0</td>\n",
              "      <td>0</td>\n",
              "      <td>0</td>\n",
              "      <td>0</td>\n",
              "      <td>0</td>\n",
              "      <td>1.59</td>\n",
              "      <td>1.87</td>\n",
              "      <td>2.01</td>\n",
              "      <td>...</td>\n",
              "      <td>0</td>\n",
              "      <td>0</td>\n",
              "      <td>0</td>\n",
              "      <td>0</td>\n",
              "      <td>47</td>\n",
              "      <td>1</td>\n",
              "      <td>110866</td>\n",
              "      <td>1</td>\n",
              "      <td>0</td>\n",
              "      <td>2</td>\n",
              "    </tr>\n",
              "    <tr>\n",
              "      <th>1</th>\n",
              "      <td>200000001</td>\n",
              "      <td>11</td>\n",
              "      <td>0</td>\n",
              "      <td>0</td>\n",
              "      <td>0</td>\n",
              "      <td>0</td>\n",
              "      <td>0</td>\n",
              "      <td>1.51</td>\n",
              "      <td>1.89</td>\n",
              "      <td>1.99</td>\n",
              "      <td>...</td>\n",
              "      <td>0</td>\n",
              "      <td>0</td>\n",
              "      <td>0</td>\n",
              "      <td>0</td>\n",
              "      <td>47</td>\n",
              "      <td>1</td>\n",
              "      <td>110866</td>\n",
              "      <td>1</td>\n",
              "      <td>0</td>\n",
              "      <td>2</td>\n",
              "    </tr>\n",
              "    <tr>\n",
              "      <th>2</th>\n",
              "      <td>200000001</td>\n",
              "      <td>12</td>\n",
              "      <td>0</td>\n",
              "      <td>0</td>\n",
              "      <td>0</td>\n",
              "      <td>0</td>\n",
              "      <td>0</td>\n",
              "      <td>1.51</td>\n",
              "      <td>1.89</td>\n",
              "      <td>1.99</td>\n",
              "      <td>...</td>\n",
              "      <td>0</td>\n",
              "      <td>0</td>\n",
              "      <td>0</td>\n",
              "      <td>0</td>\n",
              "      <td>47</td>\n",
              "      <td>1</td>\n",
              "      <td>110866</td>\n",
              "      <td>1</td>\n",
              "      <td>0</td>\n",
              "      <td>2</td>\n",
              "    </tr>\n",
              "    <tr>\n",
              "      <th>3</th>\n",
              "      <td>200000001</td>\n",
              "      <td>16</td>\n",
              "      <td>0</td>\n",
              "      <td>0</td>\n",
              "      <td>0</td>\n",
              "      <td>0</td>\n",
              "      <td>0</td>\n",
              "      <td>1.52</td>\n",
              "      <td>1.89</td>\n",
              "      <td>1.98</td>\n",
              "      <td>...</td>\n",
              "      <td>0</td>\n",
              "      <td>0</td>\n",
              "      <td>0</td>\n",
              "      <td>0</td>\n",
              "      <td>47</td>\n",
              "      <td>1</td>\n",
              "      <td>110866</td>\n",
              "      <td>1</td>\n",
              "      <td>0</td>\n",
              "      <td>2</td>\n",
              "    </tr>\n",
              "    <tr>\n",
              "      <th>4</th>\n",
              "      <td>200000001</td>\n",
              "      <td>18</td>\n",
              "      <td>0</td>\n",
              "      <td>0</td>\n",
              "      <td>0</td>\n",
              "      <td>0</td>\n",
              "      <td>0</td>\n",
              "      <td>1.52</td>\n",
              "      <td>1.89</td>\n",
              "      <td>1.99</td>\n",
              "      <td>...</td>\n",
              "      <td>0</td>\n",
              "      <td>0</td>\n",
              "      <td>0</td>\n",
              "      <td>0</td>\n",
              "      <td>47</td>\n",
              "      <td>1</td>\n",
              "      <td>110866</td>\n",
              "      <td>1</td>\n",
              "      <td>0</td>\n",
              "      <td>2</td>\n",
              "    </tr>\n",
              "  </tbody>\n",
              "</table>\n",
              "<p>5 rows × 25 columns</p>\n",
              "</div>"
            ],
            "text/plain": [
              "          ID  Day  Incidence  Brand  Quantity  Last_Inc_Brand  \\\n",
              "0  200000001    1          0      0         0               0   \n",
              "1  200000001   11          0      0         0               0   \n",
              "2  200000001   12          0      0         0               0   \n",
              "3  200000001   16          0      0         0               0   \n",
              "4  200000001   18          0      0         0               0   \n",
              "\n",
              "   Last_Inc_Quantity  Price_1  Price_2  Price_3  ...  Promotion_4  \\\n",
              "0                  0     1.59     1.87     2.01  ...            0   \n",
              "1                  0     1.51     1.89     1.99  ...            0   \n",
              "2                  0     1.51     1.89     1.99  ...            0   \n",
              "3                  0     1.52     1.89     1.98  ...            0   \n",
              "4                  0     1.52     1.89     1.99  ...            0   \n",
              "\n",
              "   Promotion_5  Sex  Marital status  Age  Education  Income  Occupation  \\\n",
              "0            0    0               0   47          1  110866           1   \n",
              "1            0    0               0   47          1  110866           1   \n",
              "2            0    0               0   47          1  110866           1   \n",
              "3            0    0               0   47          1  110866           1   \n",
              "4            0    0               0   47          1  110866           1   \n",
              "\n",
              "   Settlement size  Segment  \n",
              "0                0        2  \n",
              "1                0        2  \n",
              "2                0        2  \n",
              "3                0        2  \n",
              "4                0        2  \n",
              "\n",
              "[5 rows x 25 columns]"
            ]
          },
          "execution_count": 10,
          "metadata": {},
          "output_type": "execute_result"
        }
      ],
      "source": [
        "df_pur_predictors.head()"
      ]
    },
    {
      "cell_type": "markdown",
      "source": [
        "**Feature Engineering**"
      ],
      "metadata": {
        "id": "AdQb8XGBcoJb"
      },
      "id": "AdQb8XGBcoJb"
    },
    {
      "cell_type": "code",
      "execution_count": null,
      "id": "7fd246e2",
      "metadata": {
        "id": "7fd246e2",
        "outputId": "e066b1e3-7ee3-441c-d0f9-0a78ce687ba2"
      },
      "outputs": [
        {
          "data": {
            "text/html": [
              "<div>\n",
              "<style scoped>\n",
              "    .dataframe tbody tr th:only-of-type {\n",
              "        vertical-align: middle;\n",
              "    }\n",
              "\n",
              "    .dataframe tbody tr th {\n",
              "        vertical-align: top;\n",
              "    }\n",
              "\n",
              "    .dataframe thead th {\n",
              "        text-align: right;\n",
              "    }\n",
              "</style>\n",
              "<table border=\"1\" class=\"dataframe\">\n",
              "  <thead>\n",
              "    <tr style=\"text-align: right;\">\n",
              "      <th></th>\n",
              "      <th>Number of Visits</th>\n",
              "    </tr>\n",
              "    <tr>\n",
              "      <th>ID</th>\n",
              "      <th></th>\n",
              "    </tr>\n",
              "  </thead>\n",
              "  <tbody>\n",
              "    <tr>\n",
              "      <th>200000001</th>\n",
              "      <td>101</td>\n",
              "    </tr>\n",
              "    <tr>\n",
              "      <th>200000002</th>\n",
              "      <td>87</td>\n",
              "    </tr>\n",
              "    <tr>\n",
              "      <th>200000003</th>\n",
              "      <td>97</td>\n",
              "    </tr>\n",
              "    <tr>\n",
              "      <th>200000004</th>\n",
              "      <td>85</td>\n",
              "    </tr>\n",
              "    <tr>\n",
              "      <th>200000005</th>\n",
              "      <td>111</td>\n",
              "    </tr>\n",
              "  </tbody>\n",
              "</table>\n",
              "</div>"
            ],
            "text/plain": [
              "           Number of Visits\n",
              "ID                         \n",
              "200000001               101\n",
              "200000002                87\n",
              "200000003                97\n",
              "200000004                85\n",
              "200000005               111"
            ]
          },
          "execution_count": 11,
          "metadata": {},
          "output_type": "execute_result"
        }
      ],
      "source": [
        "#Purchase occasions by ID (individuals)\n",
        "flag1 = df_pur_predictors[['ID','Incidence']].groupby(['ID'], as_index = False).count()\n",
        "flag1 = flag1.set_index('ID')\n",
        "flag1 = flag1.rename(columns={'Incidence' : 'Number of Visits'})\n",
        "flag1.head()"
      ]
    },
    {
      "cell_type": "code",
      "execution_count": null,
      "id": "942f8a31",
      "metadata": {
        "id": "942f8a31",
        "outputId": "09451413-bbaa-44cd-f017-300f0b96eae2"
      },
      "outputs": [
        {
          "data": {
            "text/html": [
              "<div>\n",
              "<style scoped>\n",
              "    .dataframe tbody tr th:only-of-type {\n",
              "        vertical-align: middle;\n",
              "    }\n",
              "\n",
              "    .dataframe tbody tr th {\n",
              "        vertical-align: top;\n",
              "    }\n",
              "\n",
              "    .dataframe thead th {\n",
              "        text-align: right;\n",
              "    }\n",
              "</style>\n",
              "<table border=\"1\" class=\"dataframe\">\n",
              "  <thead>\n",
              "    <tr style=\"text-align: right;\">\n",
              "      <th></th>\n",
              "      <th>Number of Visits</th>\n",
              "      <th>Number of Purchases</th>\n",
              "    </tr>\n",
              "    <tr>\n",
              "      <th>ID</th>\n",
              "      <th></th>\n",
              "      <th></th>\n",
              "    </tr>\n",
              "  </thead>\n",
              "  <tbody>\n",
              "    <tr>\n",
              "      <th>200000001</th>\n",
              "      <td>101</td>\n",
              "      <td>9</td>\n",
              "    </tr>\n",
              "    <tr>\n",
              "      <th>200000002</th>\n",
              "      <td>87</td>\n",
              "      <td>11</td>\n",
              "    </tr>\n",
              "    <tr>\n",
              "      <th>200000003</th>\n",
              "      <td>97</td>\n",
              "      <td>10</td>\n",
              "    </tr>\n",
              "    <tr>\n",
              "      <th>200000004</th>\n",
              "      <td>85</td>\n",
              "      <td>11</td>\n",
              "    </tr>\n",
              "    <tr>\n",
              "      <th>200000005</th>\n",
              "      <td>111</td>\n",
              "      <td>13</td>\n",
              "    </tr>\n",
              "  </tbody>\n",
              "</table>\n",
              "</div>"
            ],
            "text/plain": [
              "           Number of Visits  Number of Purchases\n",
              "ID                                              \n",
              "200000001               101                    9\n",
              "200000002                87                   11\n",
              "200000003                97                   10\n",
              "200000004                85                   11\n",
              "200000005               111                   13"
            ]
          },
          "execution_count": 12,
          "metadata": {},
          "output_type": "execute_result"
        }
      ],
      "source": [
        "#Purchases per ID\n",
        "flag2 = df_pur_predictors[['ID','Incidence']].groupby(['ID'], as_index = False).sum()\n",
        "flag2 = flag2.set_index('ID')\n",
        "flag2 = flag2.rename(columns={'Incidence' : 'Number of Purchases'})\n",
        "flag3 = flag1.join(flag2)\n",
        "flag3.head()"
      ]
    },
    {
      "cell_type": "code",
      "execution_count": null,
      "id": "e8cd3560",
      "metadata": {
        "id": "e8cd3560",
        "outputId": "6bc994df-a622-4ccf-ad29-a45d1f63c6e0"
      },
      "outputs": [
        {
          "data": {
            "text/html": [
              "<div>\n",
              "<style scoped>\n",
              "    .dataframe tbody tr th:only-of-type {\n",
              "        vertical-align: middle;\n",
              "    }\n",
              "\n",
              "    .dataframe tbody tr th {\n",
              "        vertical-align: top;\n",
              "    }\n",
              "\n",
              "    .dataframe thead th {\n",
              "        text-align: right;\n",
              "    }\n",
              "</style>\n",
              "<table border=\"1\" class=\"dataframe\">\n",
              "  <thead>\n",
              "    <tr style=\"text-align: right;\">\n",
              "      <th></th>\n",
              "      <th>Number of Visits</th>\n",
              "      <th>Number of Purchases</th>\n",
              "      <th>Average Number of Purchases</th>\n",
              "    </tr>\n",
              "    <tr>\n",
              "      <th>ID</th>\n",
              "      <th></th>\n",
              "      <th></th>\n",
              "      <th></th>\n",
              "    </tr>\n",
              "  </thead>\n",
              "  <tbody>\n",
              "    <tr>\n",
              "      <th>200000001</th>\n",
              "      <td>101</td>\n",
              "      <td>9</td>\n",
              "      <td>0.089109</td>\n",
              "    </tr>\n",
              "    <tr>\n",
              "      <th>200000002</th>\n",
              "      <td>87</td>\n",
              "      <td>11</td>\n",
              "      <td>0.126437</td>\n",
              "    </tr>\n",
              "    <tr>\n",
              "      <th>200000003</th>\n",
              "      <td>97</td>\n",
              "      <td>10</td>\n",
              "      <td>0.103093</td>\n",
              "    </tr>\n",
              "    <tr>\n",
              "      <th>200000004</th>\n",
              "      <td>85</td>\n",
              "      <td>11</td>\n",
              "      <td>0.129412</td>\n",
              "    </tr>\n",
              "    <tr>\n",
              "      <th>200000005</th>\n",
              "      <td>111</td>\n",
              "      <td>13</td>\n",
              "      <td>0.117117</td>\n",
              "    </tr>\n",
              "  </tbody>\n",
              "</table>\n",
              "</div>"
            ],
            "text/plain": [
              "           Number of Visits  Number of Purchases  Average Number of Purchases\n",
              "ID                                                                           \n",
              "200000001               101                    9                     0.089109\n",
              "200000002                87                   11                     0.126437\n",
              "200000003                97                   10                     0.103093\n",
              "200000004                85                   11                     0.129412\n",
              "200000005               111                   13                     0.117117"
            ]
          },
          "execution_count": 13,
          "metadata": {},
          "output_type": "execute_result"
        }
      ],
      "source": [
        "# Average number of purchases\n",
        "flag3['Average Number of Purchases'] = flag3['Number of Purchases'] / flag3['Number of Visits']\n",
        "flag3.head()"
      ]
    },
    {
      "cell_type": "code",
      "execution_count": null,
      "id": "83c7636e",
      "metadata": {
        "id": "83c7636e",
        "outputId": "a2dd3eb1-ae6d-416d-8d7e-0df3226cad7b"
      },
      "outputs": [
        {
          "data": {
            "text/html": [
              "<div>\n",
              "<style scoped>\n",
              "    .dataframe tbody tr th:only-of-type {\n",
              "        vertical-align: middle;\n",
              "    }\n",
              "\n",
              "    .dataframe tbody tr th {\n",
              "        vertical-align: top;\n",
              "    }\n",
              "\n",
              "    .dataframe thead th {\n",
              "        text-align: right;\n",
              "    }\n",
              "</style>\n",
              "<table border=\"1\" class=\"dataframe\">\n",
              "  <thead>\n",
              "    <tr style=\"text-align: right;\">\n",
              "      <th></th>\n",
              "      <th>Number of Visits</th>\n",
              "      <th>Number of Purchases</th>\n",
              "      <th>Average Number of Purchases</th>\n",
              "      <th>Segment</th>\n",
              "    </tr>\n",
              "    <tr>\n",
              "      <th>ID</th>\n",
              "      <th></th>\n",
              "      <th></th>\n",
              "      <th></th>\n",
              "      <th></th>\n",
              "    </tr>\n",
              "  </thead>\n",
              "  <tbody>\n",
              "    <tr>\n",
              "      <th>200000001</th>\n",
              "      <td>101</td>\n",
              "      <td>9</td>\n",
              "      <td>0.089109</td>\n",
              "      <td>2.0</td>\n",
              "    </tr>\n",
              "    <tr>\n",
              "      <th>200000002</th>\n",
              "      <td>87</td>\n",
              "      <td>11</td>\n",
              "      <td>0.126437</td>\n",
              "      <td>3.0</td>\n",
              "    </tr>\n",
              "    <tr>\n",
              "      <th>200000003</th>\n",
              "      <td>97</td>\n",
              "      <td>10</td>\n",
              "      <td>0.103093</td>\n",
              "      <td>2.0</td>\n",
              "    </tr>\n",
              "    <tr>\n",
              "      <th>200000004</th>\n",
              "      <td>85</td>\n",
              "      <td>11</td>\n",
              "      <td>0.129412</td>\n",
              "      <td>2.0</td>\n",
              "    </tr>\n",
              "    <tr>\n",
              "      <th>200000005</th>\n",
              "      <td>111</td>\n",
              "      <td>13</td>\n",
              "      <td>0.117117</td>\n",
              "      <td>1.0</td>\n",
              "    </tr>\n",
              "  </tbody>\n",
              "</table>\n",
              "</div>"
            ],
            "text/plain": [
              "           Number of Visits  Number of Purchases  Average Number of Purchases  \\\n",
              "ID                                                                              \n",
              "200000001               101                    9                     0.089109   \n",
              "200000002                87                   11                     0.126437   \n",
              "200000003                97                   10                     0.103093   \n",
              "200000004                85                   11                     0.129412   \n",
              "200000005               111                   13                     0.117117   \n",
              "\n",
              "           Segment  \n",
              "ID                  \n",
              "200000001      2.0  \n",
              "200000002      3.0  \n",
              "200000003      2.0  \n",
              "200000004      2.0  \n",
              "200000005      1.0  "
            ]
          },
          "execution_count": 14,
          "metadata": {},
          "output_type": "execute_result"
        }
      ],
      "source": [
        "# Indexing customers by segments\n",
        "flag4 = df_pur_predictors[['ID','Segment']].groupby(['ID'], as_index = False).mean()\n",
        "flag4 = flag4.set_index('ID')\n",
        "df_pur_des = flag3.join(flag4)\n",
        "df_pur_des.head()"
      ]
    },
    {
      "cell_type": "code",
      "execution_count": null,
      "id": "9781e725",
      "metadata": {
        "id": "9781e725",
        "outputId": "0a537220-49f1-4d0a-a280-521713f98da4"
      },
      "outputs": [
        {
          "data": {
            "text/html": [
              "<div>\n",
              "<style scoped>\n",
              "    .dataframe tbody tr th:only-of-type {\n",
              "        vertical-align: middle;\n",
              "    }\n",
              "\n",
              "    .dataframe tbody tr th {\n",
              "        vertical-align: top;\n",
              "    }\n",
              "\n",
              "    .dataframe thead th {\n",
              "        text-align: right;\n",
              "    }\n",
              "</style>\n",
              "<table border=\"1\" class=\"dataframe\">\n",
              "  <thead>\n",
              "    <tr style=\"text-align: right;\">\n",
              "      <th></th>\n",
              "      <th>Segment Proportions</th>\n",
              "    </tr>\n",
              "    <tr>\n",
              "      <th>Segment</th>\n",
              "      <th></th>\n",
              "    </tr>\n",
              "  </thead>\n",
              "  <tbody>\n",
              "    <tr>\n",
              "      <th>0.0</th>\n",
              "      <td>0.188</td>\n",
              "    </tr>\n",
              "    <tr>\n",
              "      <th>1.0</th>\n",
              "      <td>0.210</td>\n",
              "    </tr>\n",
              "    <tr>\n",
              "      <th>2.0</th>\n",
              "      <td>0.406</td>\n",
              "    </tr>\n",
              "    <tr>\n",
              "      <th>3.0</th>\n",
              "      <td>0.196</td>\n",
              "    </tr>\n",
              "  </tbody>\n",
              "</table>\n",
              "</div>"
            ],
            "text/plain": [
              "         Segment Proportions\n",
              "Segment                     \n",
              "0.0                    0.188\n",
              "1.0                    0.210\n",
              "2.0                    0.406\n",
              "3.0                    0.196"
            ]
          },
          "execution_count": 15,
          "metadata": {},
          "output_type": "execute_result"
        }
      ],
      "source": [
        "#Segment Proportions \n",
        "\n",
        "seg_prop = df_pur_des[['Number of Purchases','Segment']].groupby(['Segment']).count() / df_pur_des.shape[0]\n",
        "seg_prop = seg_prop.rename(columns = {'Number of Purchases' : 'Segment Proportions'})\n",
        "seg_prop.head()"
      ]
    },
    {
      "cell_type": "code",
      "execution_count": null,
      "id": "06bdbdbb",
      "metadata": {
        "id": "06bdbdbb",
        "outputId": "2a9fc0ba-6c4f-4127-ed0e-d76061e7898f"
      },
      "outputs": [
        {
          "data": {
            "text/plain": [
              "Text(0.5, 1.0, 'Segment Proportions')"
            ]
          },
          "execution_count": 16,
          "metadata": {},
          "output_type": "execute_result"
        },
        {
          "data": {
            "image/png": "[encoded data removed]",
            "text/plain": [
              "<Figure size 864x576 with 1 Axes>"
            ]
          },
          "metadata": {},
          "output_type": "display_data"
        }
      ],
      "source": [
        "# Visualization\n",
        "plt.figure(figsize= (12,8))\n",
        "# Addition of Labels\n",
        "plt.pie(seg_prop['Segment Proportions'],\n",
        "        labels = ['Standard Customers', 'Career Focused Customers','Fewer Opportunities','Well-Off Customers'],\n",
        "        autopct = '%1.1f%%',\n",
        "        colors = ('r','g','orange','b'))\n",
        "\n",
        "plt.title('Segment Proportions')"
      ]
    },
    {
      "cell_type": "markdown",
      "source": [
        "The Fewer Opportunities segment is the largest with 40.6 percent followed by Career Focused Customers with 21 percent. The Standard Customers segment is smallest with 18.8 percent."
      ],
      "metadata": {
        "id": "JtRM4G7ndSUN"
      },
      "id": "JtRM4G7ndSUN"
    },
    {
      "cell_type": "markdown",
      "source": [
        "# Purchase Occasion and Purchase Incidence"
      ],
      "metadata": {
        "id": "hIYTtoHUeFuA"
      },
      "id": "hIYTtoHUeFuA"
    },
    {
      "cell_type": "code",
      "execution_count": null,
      "id": "40d77e72",
      "metadata": {
        "id": "40d77e72",
        "outputId": "6cba0b50-b975-4000-a18d-fb939c94e068"
      },
      "outputs": [
        {
          "data": {
            "text/html": [
              "<div>\n",
              "<style scoped>\n",
              "    .dataframe tbody tr th:only-of-type {\n",
              "        vertical-align: middle;\n",
              "    }\n",
              "\n",
              "    .dataframe tbody tr th {\n",
              "        vertical-align: top;\n",
              "    }\n",
              "\n",
              "    .dataframe thead th {\n",
              "        text-align: right;\n",
              "    }\n",
              "</style>\n",
              "<table border=\"1\" class=\"dataframe\">\n",
              "  <thead>\n",
              "    <tr style=\"text-align: right;\">\n",
              "      <th></th>\n",
              "      <th>Number of Visits</th>\n",
              "      <th>Number of Purchases</th>\n",
              "      <th>Average Number of Purchases</th>\n",
              "    </tr>\n",
              "    <tr>\n",
              "      <th>Segment</th>\n",
              "      <th></th>\n",
              "      <th></th>\n",
              "      <th></th>\n",
              "    </tr>\n",
              "  </thead>\n",
              "  <tbody>\n",
              "    <tr>\n",
              "      <th>0.0</th>\n",
              "      <td>117.531915</td>\n",
              "      <td>23.734043</td>\n",
              "      <td>0.205481</td>\n",
              "    </tr>\n",
              "    <tr>\n",
              "      <th>1.0</th>\n",
              "      <td>124.428571</td>\n",
              "      <td>41.847619</td>\n",
              "      <td>0.294155</td>\n",
              "    </tr>\n",
              "    <tr>\n",
              "      <th>2.0</th>\n",
              "      <td>113.719212</td>\n",
              "      <td>22.768473</td>\n",
              "      <td>0.201751</td>\n",
              "    </tr>\n",
              "    <tr>\n",
              "      <th>3.0</th>\n",
              "      <td>117.295918</td>\n",
              "      <td>34.602041</td>\n",
              "      <td>0.284478</td>\n",
              "    </tr>\n",
              "  </tbody>\n",
              "</table>\n",
              "</div>"
            ],
            "text/plain": [
              "         Number of Visits  Number of Purchases  Average Number of Purchases\n",
              "Segment                                                                    \n",
              "0.0            117.531915            23.734043                     0.205481\n",
              "1.0            124.428571            41.847619                     0.294155\n",
              "2.0            113.719212            22.768473                     0.201751\n",
              "3.0            117.295918            34.602041                     0.284478"
            ]
          },
          "execution_count": 17,
          "metadata": {},
          "output_type": "execute_result"
        }
      ],
      "source": [
        "seg_mean = df_pur_des.groupby(['Segment']).mean()\n",
        "seg_std = df_pur_des.groupby(['Segment']).std()\n",
        "seg_mean"
      ]
    },
    {
      "cell_type": "code",
      "execution_count": null,
      "id": "7cf2f623",
      "metadata": {
        "id": "7cf2f623",
        "outputId": "d378c49f-5244-4302-c3be-83d04982316c"
      },
      "outputs": [
        {
          "data": {
            "text/plain": [
              "Text(0.5, 1.0, 'Average number of store visits by Segment')"
            ]
          },
          "execution_count": 18,
          "metadata": {},
          "output_type": "execute_result"
        },
        {
          "data": {
            "image/png": "[encoded data removed]",
            "text/plain": [
              "<Figure size 864x576 with 1 Axes>"
            ]
          },
          "metadata": {},
          "output_type": "display_data"
        }
      ],
      "source": [
        "plt.figure(figsize = (12,8))\n",
        "plt.bar(x=(0,1,2,3),\n",
        "        tick_label = ('Standard Customers', 'Career Focused Customers','Fewer Opportunities','Well-Off Customers'),\n",
        "        height = seg_mean['Number of Visits'],\n",
        "        yerr = seg_std['Number of Visits'],\n",
        "        color = ('r','g','orange','b'))\n",
        "\n",
        "plt.xlabel('Segment')\n",
        "plt.ylabel('Number of Store Visits')\n",
        "plt.title('Average number of store visits by Segment')"
      ]
    },
    {
      "cell_type": "markdown",
      "source": [
        "\n",
        "\n",
        "*   The height of each bar represents the mean store visits.\n",
        "\n",
        "*   The vertical line indicates the dispersion of the data points or how big the standard deviation is.\n",
        "\n",
        "1. The Fewer Opportunities segment visits the store least often while the Career Focused Customers visits the most.\n",
        "2. The standard deviation of Career Focused Customers are hugh. It implies that customers in this segment are least homogeneous means they are least alike on how often the visits are to the store.\n",
        "3. The Standard Customers, Fewer Opportunities and Well-Off Customers are very similar in terms of their average number of store visits.\n",
        "\n"
      ],
      "metadata": {
        "id": "vrEO1qhbeu3s"
      },
      "id": "vrEO1qhbeu3s"
    },
    {
      "cell_type": "code",
      "execution_count": null,
      "id": "1566985c",
      "metadata": {
        "id": "1566985c",
        "outputId": "27260d74-21bd-4c09-8a34-914aaf0eda05"
      },
      "outputs": [
        {
          "data": {
            "text/plain": [
              "Text(0.5, 1.0, 'Number of Purchases by Segment')"
            ]
          },
          "execution_count": 19,
          "metadata": {},
          "output_type": "execute_result"
        },
        {
          "data": {
            "image/png": "[encoded data removed]",
            "text/plain": [
              "<Figure size 864x576 with 1 Axes>"
            ]
          },
          "metadata": {},
          "output_type": "display_data"
        }
      ],
      "source": [
        "plt.figure(figsize = (12,8))\n",
        "plt.bar(x=(0,1,2,3),\n",
        "        tick_label = ('Standard Customers', 'Career Focused Customers','Fewer Opportunities','Well-Off Customers'),\n",
        "        height = seg_mean['Number of Purchases'],\n",
        "        yerr = seg_std['Number of Purchases'],\n",
        "        color = ('r','g','orange','b'))\n",
        "\n",
        "plt.xlabel('Segment')\n",
        "plt.ylabel('Purchase Incidences')\n",
        "plt.title('Number of Purchases by Segment')"
      ]
    },
    {
      "cell_type": "markdown",
      "source": [
        "\n",
        "\n",
        "*   The Career Focused Customers buys products more often but have high standard deviation means a part of this segment buys a product very frequently.\n",
        "*   The Fewer Opportunities segment appears to be most homogeneous.\n",
        "\n"
      ],
      "metadata": {
        "id": "eOffiOhPgtQ7"
      },
      "id": "eOffiOhPgtQ7"
    },
    {
      "cell_type": "code",
      "execution_count": null,
      "id": "066aeef0",
      "metadata": {
        "id": "066aeef0",
        "outputId": "c3ce2ed5-ee1a-4aba-a08f-8e6b0f65bfe0"
      },
      "outputs": [
        {
          "data": {
            "text/plain": [
              "Text(0.5, 1.0, 'Average Number of Purchases by Segment')"
            ]
          },
          "execution_count": 20,
          "metadata": {},
          "output_type": "execute_result"
        },
        {
          "data": {
            "image/png": "[encoded data removed]",
            "text/plain": [
              "<Figure size 864x576 with 1 Axes>"
            ]
          },
          "metadata": {},
          "output_type": "display_data"
        }
      ],
      "source": [
        "plt.figure(figsize = (12,8))\n",
        "plt.bar(x=(0,1,2,3),\n",
        "        tick_label = ('Standard Customers', 'Career Focused Customers','Fewer Opportunities','Well-Off Customers'),\n",
        "        height = seg_mean['Average Number of Purchases'],\n",
        "        yerr = seg_std['Average Number of Purchases'],\n",
        "        color = ('r','g','orange','b'))\n",
        "\n",
        "plt.xlabel('Segment')\n",
        "plt.ylabel('Purchase Incidences')\n",
        "plt.title('Average Number of Purchases by Segment')"
      ]
    },
    {
      "cell_type": "markdown",
      "source": [
        "\n",
        "\n",
        "*   The Career Focused Customers again have high standard deviation in average number of purchases.\n",
        "*   The Standard Customers and Fewer Opportunities are very similar in their average number of purchases.\n",
        "\n"
      ],
      "metadata": {
        "id": "vPivm6C8hcWW"
      },
      "id": "vPivm6C8hcWW"
    },
    {
      "cell_type": "markdown",
      "source": [
        "# Brand Choice"
      ],
      "metadata": {
        "id": "ksiIhsPGiUbz"
      },
      "id": "ksiIhsPGiUbz"
    },
    {
      "cell_type": "code",
      "execution_count": null,
      "id": "cbf9420c",
      "metadata": {
        "id": "cbf9420c",
        "outputId": "f9ef4872-c7bd-40e1-d3c9-cb9bc9435436"
      },
      "outputs": [
        {
          "data": {
            "text/html": [
              "<div>\n",
              "<style scoped>\n",
              "    .dataframe tbody tr th:only-of-type {\n",
              "        vertical-align: middle;\n",
              "    }\n",
              "\n",
              "    .dataframe tbody tr th {\n",
              "        vertical-align: top;\n",
              "    }\n",
              "\n",
              "    .dataframe thead th {\n",
              "        text-align: right;\n",
              "    }\n",
              "</style>\n",
              "<table border=\"1\" class=\"dataframe\">\n",
              "  <thead>\n",
              "    <tr style=\"text-align: right;\">\n",
              "      <th></th>\n",
              "      <th>Brand-1</th>\n",
              "      <th>Brand-2</th>\n",
              "      <th>Brand-3</th>\n",
              "      <th>Brand-4</th>\n",
              "      <th>Brand-5</th>\n",
              "      <th>Segment</th>\n",
              "      <th>ID</th>\n",
              "    </tr>\n",
              "  </thead>\n",
              "  <tbody>\n",
              "    <tr>\n",
              "      <th>6</th>\n",
              "      <td>0</td>\n",
              "      <td>1</td>\n",
              "      <td>0</td>\n",
              "      <td>0</td>\n",
              "      <td>0</td>\n",
              "      <td>2</td>\n",
              "      <td>200000001</td>\n",
              "    </tr>\n",
              "    <tr>\n",
              "      <th>11</th>\n",
              "      <td>0</td>\n",
              "      <td>0</td>\n",
              "      <td>0</td>\n",
              "      <td>0</td>\n",
              "      <td>1</td>\n",
              "      <td>2</td>\n",
              "      <td>200000001</td>\n",
              "    </tr>\n",
              "    <tr>\n",
              "      <th>19</th>\n",
              "      <td>1</td>\n",
              "      <td>0</td>\n",
              "      <td>0</td>\n",
              "      <td>0</td>\n",
              "      <td>0</td>\n",
              "      <td>2</td>\n",
              "      <td>200000001</td>\n",
              "    </tr>\n",
              "    <tr>\n",
              "      <th>24</th>\n",
              "      <td>0</td>\n",
              "      <td>0</td>\n",
              "      <td>0</td>\n",
              "      <td>1</td>\n",
              "      <td>0</td>\n",
              "      <td>2</td>\n",
              "      <td>200000001</td>\n",
              "    </tr>\n",
              "    <tr>\n",
              "      <th>29</th>\n",
              "      <td>0</td>\n",
              "      <td>1</td>\n",
              "      <td>0</td>\n",
              "      <td>0</td>\n",
              "      <td>0</td>\n",
              "      <td>2</td>\n",
              "      <td>200000001</td>\n",
              "    </tr>\n",
              "    <tr>\n",
              "      <th>...</th>\n",
              "      <td>...</td>\n",
              "      <td>...</td>\n",
              "      <td>...</td>\n",
              "      <td>...</td>\n",
              "      <td>...</td>\n",
              "      <td>...</td>\n",
              "      <td>...</td>\n",
              "    </tr>\n",
              "    <tr>\n",
              "      <th>58621</th>\n",
              "      <td>0</td>\n",
              "      <td>1</td>\n",
              "      <td>0</td>\n",
              "      <td>0</td>\n",
              "      <td>0</td>\n",
              "      <td>2</td>\n",
              "      <td>200000500</td>\n",
              "    </tr>\n",
              "    <tr>\n",
              "      <th>58648</th>\n",
              "      <td>1</td>\n",
              "      <td>0</td>\n",
              "      <td>0</td>\n",
              "      <td>0</td>\n",
              "      <td>0</td>\n",
              "      <td>2</td>\n",
              "      <td>200000500</td>\n",
              "    </tr>\n",
              "    <tr>\n",
              "      <th>58674</th>\n",
              "      <td>0</td>\n",
              "      <td>1</td>\n",
              "      <td>0</td>\n",
              "      <td>0</td>\n",
              "      <td>0</td>\n",
              "      <td>2</td>\n",
              "      <td>200000500</td>\n",
              "    </tr>\n",
              "    <tr>\n",
              "      <th>58687</th>\n",
              "      <td>0</td>\n",
              "      <td>1</td>\n",
              "      <td>0</td>\n",
              "      <td>0</td>\n",
              "      <td>0</td>\n",
              "      <td>2</td>\n",
              "      <td>200000500</td>\n",
              "    </tr>\n",
              "    <tr>\n",
              "      <th>58691</th>\n",
              "      <td>0</td>\n",
              "      <td>1</td>\n",
              "      <td>0</td>\n",
              "      <td>0</td>\n",
              "      <td>0</td>\n",
              "      <td>2</td>\n",
              "      <td>200000500</td>\n",
              "    </tr>\n",
              "  </tbody>\n",
              "</table>\n",
              "<p>14638 rows × 7 columns</p>\n",
              "</div>"
            ],
            "text/plain": [
              "       Brand-1  Brand-2  Brand-3  Brand-4  Brand-5  Segment         ID\n",
              "6            0        1        0        0        0        2  200000001\n",
              "11           0        0        0        0        1        2  200000001\n",
              "19           1        0        0        0        0        2  200000001\n",
              "24           0        0        0        1        0        2  200000001\n",
              "29           0        1        0        0        0        2  200000001\n",
              "...        ...      ...      ...      ...      ...      ...        ...\n",
              "58621        0        1        0        0        0        2  200000500\n",
              "58648        1        0        0        0        0        2  200000500\n",
              "58674        0        1        0        0        0        2  200000500\n",
              "58687        0        1        0        0        0        2  200000500\n",
              "58691        0        1        0        0        0        2  200000500\n",
              "\n",
              "[14638 rows x 7 columns]"
            ]
          },
          "execution_count": 21,
          "metadata": {},
          "output_type": "execute_result"
        }
      ],
      "source": [
        "# Taking cases where incidence is equal to 1 as only those are relevant for brand\n",
        "\n",
        "df_pur_incidence = df_pur_predictors[df_pur_predictors['Incidence'] == 1]\n",
        "\n",
        "# Creation of new dataframe and providing dummies to brands\n",
        "br_dumm = pd.get_dummies(df_pur_incidence['Brand'], prefix = 'Brand', prefix_sep = '-')\n",
        "br_dumm['Segment'], br_dumm['ID'] = df_pur_incidence['Segment'], df_pur_incidence['ID']\n",
        "br_dumm"
      ]
    },
    {
      "cell_type": "code",
      "execution_count": null,
      "id": "0a55773e",
      "metadata": {
        "id": "0a55773e"
      },
      "outputs": [],
      "source": [
        "# Temporary variable to store the groups by ID and taking the brand mean\n",
        "flag = br_dumm.groupby(['ID'], as_index = True).mean()\n",
        "mean_br_choice = flag.groupby(['Segment'], as_index = True).mean()"
      ]
    },
    {
      "cell_type": "code",
      "execution_count": null,
      "id": "6753d759",
      "metadata": {
        "id": "6753d759",
        "outputId": "37c4a8cf-d90c-465b-c5d1-650285d44b8a"
      },
      "outputs": [
        {
          "data": {
            "image/png": "[encoded data removed]",
            "text/plain": [
              "<Figure size 432x288 with 2 Axes>"
            ]
          },
          "metadata": {},
          "output_type": "display_data"
        }
      ],
      "source": [
        "# Visualization\n",
        "sns.heatmap(mean_br_choice,\n",
        "            vmin=0,\n",
        "            vmax=1,\n",
        "            cmap='Blues',\n",
        "            annot = True)\n",
        "\n",
        "plt.yticks([0,1,2,3],['Standard Customers', 'Career Focused Customers','Fewer Opportunities','Well-Off Customers'],rotation=0, fontsize=10)\n",
        "plt.title('Average Brand Choice by Segment')\n",
        "plt.show()"
      ]
    },
    {
      "cell_type": "markdown",
      "source": [
        "Five brands are arranged in ascending order of price and each number shows the average proportion of brand choices for each segment.\n",
        "\n",
        "*   The Standard Customers have stronger preference for Brand-2 and weaker preference for Brand-1, Brand-3 and Brand-5. This indicates that they don't go for any brand name adn they can be influenced to try out different brands.\n",
        "*   68 percent of Career Focused Customers buys the most expensive brand. It can be safely assumed that they are looking for some kind of luxury status and this opportunity can be utilised by further increasing the price of Brand-5.\n",
        "*   68 percent of Fewer Opportunities buys Brand-2. It is certainly not the cheapest brand available hence this shows the loyalty of this cluster towards this specific brand. This cluster can be controlled by promotions over Brand-2 due to their faith in the brand.\n",
        "*   Similarly, 61 percent of Well-Off Customers buys Brand-4 but they don't show same confidence in buying Brand-5, hence implicating their loyalty towards Brand-4. This cluster can be controlled by promotions over Brand-4 due to their faith in the brand.\n",
        "\n",
        "\n",
        "\n"
      ],
      "metadata": {
        "id": "fWYxkWnRj1OX"
      },
      "id": "fWYxkWnRj1OX"
    },
    {
      "cell_type": "markdown",
      "source": [
        "# Brand-Wise Store Revenue"
      ],
      "metadata": {
        "id": "wJnAmcY9jevQ"
      },
      "id": "wJnAmcY9jevQ"
    },
    {
      "cell_type": "code",
      "execution_count": null,
      "id": "984964ae",
      "metadata": {
        "id": "984964ae",
        "outputId": "ec4937f8-b71d-4d69-ed75-0e9724b63513"
      },
      "outputs": [
        {
          "data": {
            "text/html": [
              "<div>\n",
              "<style scoped>\n",
              "    .dataframe tbody tr th:only-of-type {\n",
              "        vertical-align: middle;\n",
              "    }\n",
              "\n",
              "    .dataframe tbody tr th {\n",
              "        vertical-align: top;\n",
              "    }\n",
              "\n",
              "    .dataframe thead th {\n",
              "        text-align: right;\n",
              "    }\n",
              "</style>\n",
              "<table border=\"1\" class=\"dataframe\">\n",
              "  <thead>\n",
              "    <tr style=\"text-align: right;\">\n",
              "      <th></th>\n",
              "      <th>Segment</th>\n",
              "      <th>Revenue of Brand-1</th>\n",
              "      <th>Revenue of Brand-2</th>\n",
              "      <th>Revenue of Brand-3</th>\n",
              "      <th>Revenue of Brand-4</th>\n",
              "      <th>Revenue of Brand-5</th>\n",
              "      <th>Total Revenue</th>\n",
              "    </tr>\n",
              "  </thead>\n",
              "  <tbody>\n",
              "    <tr>\n",
              "      <th>0</th>\n",
              "      <td>0</td>\n",
              "      <td>2531.85</td>\n",
              "      <td>4147.86</td>\n",
              "      <td>3494.16</td>\n",
              "      <td>533.07</td>\n",
              "      <td>1479.29</td>\n",
              "      <td>12186.23</td>\n",
              "    </tr>\n",
              "    <tr>\n",
              "      <th>1</th>\n",
              "      <td>1</td>\n",
              "      <td>664.94</td>\n",
              "      <td>1144.38</td>\n",
              "      <td>572.71</td>\n",
              "      <td>1915.86</td>\n",
              "      <td>20251.43</td>\n",
              "      <td>24549.32</td>\n",
              "    </tr>\n",
              "    <tr>\n",
              "      <th>2</th>\n",
              "      <td>2</td>\n",
              "      <td>2409.39</td>\n",
              "      <td>15177.84</td>\n",
              "      <td>648.21</td>\n",
              "      <td>1610.29</td>\n",
              "      <td>2380.59</td>\n",
              "      <td>22226.32</td>\n",
              "    </tr>\n",
              "    <tr>\n",
              "      <th>3</th>\n",
              "      <td>3</td>\n",
              "      <td>699.47</td>\n",
              "      <td>1298.23</td>\n",
              "      <td>660.31</td>\n",
              "      <td>11811.07</td>\n",
              "      <td>5509.69</td>\n",
              "      <td>19978.77</td>\n",
              "    </tr>\n",
              "  </tbody>\n",
              "</table>\n",
              "</div>"
            ],
            "text/plain": [
              "   Segment  Revenue of Brand-1  Revenue of Brand-2  Revenue of Brand-3  \\\n",
              "0        0             2531.85             4147.86             3494.16   \n",
              "1        1              664.94             1144.38              572.71   \n",
              "2        2             2409.39            15177.84              648.21   \n",
              "3        3              699.47             1298.23              660.31   \n",
              "\n",
              "   Revenue of Brand-4  Revenue of Brand-5  Total Revenue  \n",
              "0              533.07             1479.29       12186.23  \n",
              "1             1915.86            20251.43       24549.32  \n",
              "2             1610.29             2380.59       22226.32  \n",
              "3            11811.07             5509.69       19978.77  "
            ]
          },
          "execution_count": 29,
          "metadata": {},
          "output_type": "execute_result"
        }
      ],
      "source": [
        "# Revenue by each brand\n",
        "\n",
        "flag1 = df_pur_predictors[df_pur_predictors['Brand'] == 1]\n",
        "flag1.loc[:,'Revenue of Brand-1'] = flag1['Price_1'] * flag1['Quantity']\n",
        "seg_br_rev = pd.DataFrame()\n",
        "seg_br_rev[['Segment','Revenue of Brand-1']] = flag1[['Segment','Revenue of Brand-1']].groupby(['Segment'], as_index = False).sum()\n",
        "\n",
        "flag2 = df_pur_predictors[df_pur_predictors['Brand'] == 2]\n",
        "flag2.loc[:,'Revenue of Brand-2'] = flag2['Price_2'] * flag2['Quantity']\n",
        "seg_br_rev[['Segment','Revenue of Brand-2']] = flag2[['Segment','Revenue of Brand-2']].groupby(['Segment'], as_index = False).sum()\n",
        "\n",
        "flag3 = df_pur_predictors[df_pur_predictors['Brand'] == 3]\n",
        "flag3.loc[:,'Revenue of Brand-3'] = flag3['Price_2'] * flag3['Quantity']\n",
        "seg_br_rev[['Segment','Revenue of Brand-3']] = flag3[['Segment','Revenue of Brand-3']].groupby(['Segment'], as_index = False).sum()\n",
        "\n",
        "flag4 = df_pur_predictors[df_pur_predictors['Brand'] == 4]\n",
        "flag4.loc[:,'Revenue of Brand-4'] = flag4['Price_2'] * flag4['Quantity']\n",
        "seg_br_rev[['Segment','Revenue of Brand-4']] = flag4[['Segment','Revenue of Brand-4']].groupby(['Segment'], as_index = False).sum()\n",
        "\n",
        "flag5 = df_pur_predictors[df_pur_predictors['Brand'] == 5]\n",
        "flag5.loc[:,'Revenue of Brand-5'] = flag5['Price_5'] * flag5['Quantity']\n",
        "seg_br_rev[['Segment','Revenue of Brand-5']] = flag5[['Segment','Revenue of Brand-5']].groupby(['Segment'], as_index = False).sum()\n",
        "\n",
        "# Creation of new feature total revenue by segment\n",
        "seg_br_rev['Total Revenue'] = (seg_br_rev['Revenue of Brand-1'] +\n",
        "                               seg_br_rev['Revenue of Brand-2'] +\n",
        "                               seg_br_rev['Revenue of Brand-3'] +\n",
        "                               seg_br_rev['Revenue of Brand-4'] +\n",
        "                               seg_br_rev['Revenue of Brand-5'] )\n",
        "\n",
        "seg_br_rev"
      ]
    },
    {
      "cell_type": "code",
      "execution_count": null,
      "id": "7ae7fb4d",
      "metadata": {
        "id": "7ae7fb4d",
        "outputId": "395cb09f-a3b9-4e20-e284-db2175dda556"
      },
      "outputs": [
        {
          "data": {
            "text/html": [
              "<div>\n",
              "<style scoped>\n",
              "    .dataframe tbody tr th:only-of-type {\n",
              "        vertical-align: middle;\n",
              "    }\n",
              "\n",
              "    .dataframe tbody tr th {\n",
              "        vertical-align: top;\n",
              "    }\n",
              "\n",
              "    .dataframe thead th {\n",
              "        text-align: right;\n",
              "    }\n",
              "</style>\n",
              "<table border=\"1\" class=\"dataframe\">\n",
              "  <thead>\n",
              "    <tr style=\"text-align: right;\">\n",
              "      <th></th>\n",
              "      <th>Revenue of Brand-1</th>\n",
              "      <th>Revenue of Brand-2</th>\n",
              "      <th>Revenue of Brand-3</th>\n",
              "      <th>Revenue of Brand-4</th>\n",
              "      <th>Revenue of Brand-5</th>\n",
              "      <th>Total Revenue</th>\n",
              "      <th>Segment Proportions</th>\n",
              "    </tr>\n",
              "    <tr>\n",
              "      <th>Segment</th>\n",
              "      <th></th>\n",
              "      <th></th>\n",
              "      <th></th>\n",
              "      <th></th>\n",
              "      <th></th>\n",
              "      <th></th>\n",
              "      <th></th>\n",
              "    </tr>\n",
              "  </thead>\n",
              "  <tbody>\n",
              "    <tr>\n",
              "      <th>Standard Customers</th>\n",
              "      <td>2531.85</td>\n",
              "      <td>4147.86</td>\n",
              "      <td>3494.16</td>\n",
              "      <td>533.07</td>\n",
              "      <td>1479.29</td>\n",
              "      <td>12186.23</td>\n",
              "      <td>0.188</td>\n",
              "    </tr>\n",
              "    <tr>\n",
              "      <th>Career Focused Customers</th>\n",
              "      <td>664.94</td>\n",
              "      <td>1144.38</td>\n",
              "      <td>572.71</td>\n",
              "      <td>1915.86</td>\n",
              "      <td>20251.43</td>\n",
              "      <td>24549.32</td>\n",
              "      <td>0.210</td>\n",
              "    </tr>\n",
              "    <tr>\n",
              "      <th>Fewer Opportunities</th>\n",
              "      <td>2409.39</td>\n",
              "      <td>15177.84</td>\n",
              "      <td>648.21</td>\n",
              "      <td>1610.29</td>\n",
              "      <td>2380.59</td>\n",
              "      <td>22226.32</td>\n",
              "      <td>0.406</td>\n",
              "    </tr>\n",
              "    <tr>\n",
              "      <th>Well-Off Customers</th>\n",
              "      <td>699.47</td>\n",
              "      <td>1298.23</td>\n",
              "      <td>660.31</td>\n",
              "      <td>11811.07</td>\n",
              "      <td>5509.69</td>\n",
              "      <td>19978.77</td>\n",
              "      <td>0.196</td>\n",
              "    </tr>\n",
              "  </tbody>\n",
              "</table>\n",
              "</div>"
            ],
            "text/plain": [
              "                          Revenue of Brand-1  Revenue of Brand-2  \\\n",
              "Segment                                                            \n",
              "Standard Customers                   2531.85             4147.86   \n",
              "Career Focused Customers              664.94             1144.38   \n",
              "Fewer Opportunities                  2409.39            15177.84   \n",
              "Well-Off Customers                    699.47             1298.23   \n",
              "\n",
              "                          Revenue of Brand-3  Revenue of Brand-4  \\\n",
              "Segment                                                            \n",
              "Standard Customers                   3494.16              533.07   \n",
              "Career Focused Customers              572.71             1915.86   \n",
              "Fewer Opportunities                   648.21             1610.29   \n",
              "Well-Off Customers                    660.31            11811.07   \n",
              "\n",
              "                          Revenue of Brand-5  Total Revenue  \\\n",
              "Segment                                                       \n",
              "Standard Customers                   1479.29       12186.23   \n",
              "Career Focused Customers            20251.43       24549.32   \n",
              "Fewer Opportunities                  2380.59       22226.32   \n",
              "Well-Off Customers                   5509.69       19978.77   \n",
              "\n",
              "                          Segment Proportions  \n",
              "Segment                                        \n",
              "Standard Customers                      0.188  \n",
              "Career Focused Customers                0.210  \n",
              "Fewer Opportunities                     0.406  \n",
              "Well-Off Customers                      0.196  "
            ]
          },
          "execution_count": 28,
          "metadata": {},
          "output_type": "execute_result"
        }
      ],
      "source": [
        "# Creation of new feature Segment Proportions by each segment\n",
        "seg_br_rev['Segment Proportions'] = seg_prop['Segment Proportions']\n",
        "seg_br_rev['Segment'] = seg_br_rev['Segment'].map({0:'Standard Customers',\n",
        "                                                   1:'Career Focused Customers',\n",
        "                                                   2:'Fewer Opportunities',\n",
        "                                                   3:'Well-Off Customers'})\n",
        "seg_br_rev = seg_br_rev.set_index(['Segment'])\n",
        "seg_br_rev"
      ]
    },
    {
      "cell_type": "markdown",
      "source": [
        "\n",
        "\n",
        "*   The Career Focused Customers bring the most revenue followed by Fewer Opportunities, Well-Off Customers and Standard Customers respectively.\n",
        "*   Even though by proportion, Career Focused Customers are second largest they bring the most revenue. The Standard Customers are almost equal in size but they brings less than half that revenue. \n",
        "*   The Fewer Opportunities and Well-Off Customers spend around the same amount of money on this product even though the former is twice in size than the latter.\n",
        "\n",
        "\n",
        "\n",
        "1.  Brand-3 has the lowest revenue compared to other four and it's highest contributor is the Standard Customers segment.\n",
        "2.   Brand-4 and Brand-2 have loyal segments in terms of Well-off Customers and Fewer Opportunities respectively, and both brands can cautiously increase their price to gain more market share.\n",
        "3. Brand 5 has a loyal base in Career Focused Customers and they can choose to capture the well-off customers by providing some kind of discount strategy."
      ],
      "metadata": {
        "id": "aH1ARuC8zQM2"
      },
      "id": "aH1ARuC8zQM2"
    }
  ],
  "metadata": {
    "kernelspec": {
      "display_name": "Python 3 (ipykernel)",
      "language": "python",
      "name": "python3"
    },
    "language_info": {
      "codemirror_mode": {
        "name": "ipython",
        "version": 3
      },
      "file_extension": ".py",
      "mimetype": "text/x-python",
      "name": "python",
      "nbconvert_exporter": "python",
      "pygments_lexer": "ipython3",
      "version": "3.9.7"
    },
    "colab": {
      "name": "Purchase Descriptive Analysis.ipynb",
      "provenance": []
    }
  },
  "nbformat": 4,
  "nbformat_minor": 5
}